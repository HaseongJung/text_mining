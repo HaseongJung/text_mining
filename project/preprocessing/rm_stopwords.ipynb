{
 "cells": [
  {
   "cell_type": "code",
   "execution_count": 7,
   "metadata": {},
   "outputs": [],
   "source": [
    "import pandas as pd\n",
    "from tqdm import tqdm\n",
    "from collections import Counter\n",
    "from konlpy.tag import Okt\n",
    "from tqdm import tqdm\n",
    "import parmap"
   ]
  },
  {
   "cell_type": "code",
   "execution_count": 4,
   "metadata": {},
   "outputs": [
    {
     "data": {
      "text/html": [
       "<div>\n",
       "<style scoped>\n",
       "    .dataframe tbody tr th:only-of-type {\n",
       "        vertical-align: middle;\n",
       "    }\n",
       "\n",
       "    .dataframe tbody tr th {\n",
       "        vertical-align: top;\n",
       "    }\n",
       "\n",
       "    .dataframe thead th {\n",
       "        text-align: right;\n",
       "    }\n",
       "</style>\n",
       "<table border=\"1\" class=\"dataframe\">\n",
       "  <thead>\n",
       "    <tr style=\"text-align: right;\">\n",
       "      <th></th>\n",
       "      <th>Query</th>\n",
       "      <th>News</th>\n",
       "      <th>Title</th>\n",
       "      <th>Text</th>\n",
       "    </tr>\n",
       "  </thead>\n",
       "  <tbody>\n",
       "    <tr>\n",
       "      <th>0</th>\n",
       "      <td>더불어민주당</td>\n",
       "      <td>asiae</td>\n",
       "      <td>[막대기, 당선, 판진, 중권, 네거티브, 민주당, 비판]</td>\n",
       "      <td>[진중권, 전동, 양대, 교수, 이미지, 출처, 연합뉴스, 원본, 보, 아이콘, 아...</td>\n",
       "    </tr>\n",
       "    <tr>\n",
       "      <th>1</th>\n",
       "      <td>더불어민주당</td>\n",
       "      <td>asiae</td>\n",
       "      <td>[공수, 민주당, 사죄, 국민의힘, 여론, 조사, 민심]</td>\n",
       "      <td>[이낙연, 분노, 실망, 아프, 잘, 안, 다, 반성, 혁신, 주호영, 여론, 조사...</td>\n",
       "    </tr>\n",
       "    <tr>\n",
       "      <th>2</th>\n",
       "      <td>더불어민주당</td>\n",
       "      <td>asiae</td>\n",
       "      <td>[종합, 민주당, 오세훈, 내곡동, 특혜, 의혹, 거짓말, 거짓말, 낳, 맹공]</td>\n",
       "      <td>[박영선, 토론, 오세훈, 내곡동, 특혜, 의혹, 두, 공세, 서울, 시장, 보궐,...</td>\n",
       "    </tr>\n",
       "    <tr>\n",
       "      <th>3</th>\n",
       "      <td>더불어민주당</td>\n",
       "      <td>asiae</td>\n",
       "      <td>[박형준, 안민석, 더불어민주당, 원진, 보유, 튜버, 부산, 지검, 고발]</td>\n",
       "      <td>[국민의힘, 캠프, 부동산, 투기, 전혀, 없, 안, 의원, 후보, 부인, 부동산,...</td>\n",
       "    </tr>\n",
       "    <tr>\n",
       "      <th>4</th>\n",
       "      <td>더불어민주당</td>\n",
       "      <td>asiae</td>\n",
       "      <td>[포토, 더불어민주당, 원내, 대책, 회의]</td>\n",
       "      <td>[가장, 많이, 뉴스, 제공, 집계, 기준, 최대, 전기사, 제공, 있]</td>\n",
       "    </tr>\n",
       "    <tr>\n",
       "      <th>...</th>\n",
       "      <td>...</td>\n",
       "      <td>...</td>\n",
       "      <td>...</td>\n",
       "      <td>...</td>\n",
       "    </tr>\n",
       "    <tr>\n",
       "      <th>181819</th>\n",
       "      <td>더불어민주당</td>\n",
       "      <td>YTN</td>\n",
       "      <td>[여론, 톡톡, 김기현, 책임, 확산, 이낙연, 이준석, 손잡]</td>\n",
       "      <td>[진행, 김영수, 앵커, 출연, 김형준, 배재, 석좌, 교수, 배종찬, 인사이트, ...</td>\n",
       "    </tr>\n",
       "    <tr>\n",
       "      <th>181820</th>\n",
       "      <td>더불어민주당</td>\n",
       "      <td>YTN</td>\n",
       "      <td>[홍익표, 쌍, 특검, 본회, 국정, 조사, 연내, 처리]</td>\n",
       "      <td>[더불어민주당, 홍익표, 원내대표, 쌍, 특검, 법안, 예산안, 오, 본회의, 올리...</td>\n",
       "    </tr>\n",
       "    <tr>\n",
       "      <th>181821</th>\n",
       "      <td>더불어민주당</td>\n",
       "      <td>YTN</td>\n",
       "      <td>[손학규, 병립형, 회귀, 후퇴, 이재명, 약속]</td>\n",
       "      <td>[손학규, 전, 미래, 대표, 선거제, 개편, 논의, 관련, 연동, 비례제, 더불어...</td>\n",
       "    </tr>\n",
       "    <tr>\n",
       "      <th>181822</th>\n",
       "      <td>더불어민주당</td>\n",
       "      <td>YTN</td>\n",
       "      <td>[민주, 송영길, 구속영장, 청구, 검찰, 독재, 정권, 총선, 전략]</td>\n",
       "      <td>[더불어민주당, 검찰, 이전, 대회, 돈, 봉투, 의혹, 연루, 송영길, 전, 대표...</td>\n",
       "    </tr>\n",
       "    <tr>\n",
       "      <th>181823</th>\n",
       "      <td>더불어민주당</td>\n",
       "      <td>YTN</td>\n",
       "      <td>[여야, 총선, 체제, 전환, 속도, 서울, 파장]</td>\n",
       "      <td>[진행, 승휘, 앵커, 출연, 김용남, 전, 국민의힘, 의원, 김종욱, 전, 청와대...</td>\n",
       "    </tr>\n",
       "  </tbody>\n",
       "</table>\n",
       "<p>181824 rows × 4 columns</p>\n",
       "</div>"
      ],
      "text/plain": [
       "         Query   News                                         Title  \\\n",
       "0       더불어민주당  asiae              [막대기, 당선, 판진, 중권, 네거티브, 민주당, 비판]   \n",
       "1       더불어민주당  asiae               [공수, 민주당, 사죄, 국민의힘, 여론, 조사, 민심]   \n",
       "2       더불어민주당  asiae  [종합, 민주당, 오세훈, 내곡동, 특혜, 의혹, 거짓말, 거짓말, 낳, 맹공]   \n",
       "3       더불어민주당  asiae    [박형준, 안민석, 더불어민주당, 원진, 보유, 튜버, 부산, 지검, 고발]   \n",
       "4       더불어민주당  asiae                      [포토, 더불어민주당, 원내, 대책, 회의]   \n",
       "...        ...    ...                                           ...   \n",
       "181819  더불어민주당    YTN           [여론, 톡톡, 김기현, 책임, 확산, 이낙연, 이준석, 손잡]   \n",
       "181820  더불어민주당    YTN              [홍익표, 쌍, 특검, 본회, 국정, 조사, 연내, 처리]   \n",
       "181821  더불어민주당    YTN                   [손학규, 병립형, 회귀, 후퇴, 이재명, 약속]   \n",
       "181822  더불어민주당    YTN       [민주, 송영길, 구속영장, 청구, 검찰, 독재, 정권, 총선, 전략]   \n",
       "181823  더불어민주당    YTN                  [여야, 총선, 체제, 전환, 속도, 서울, 파장]   \n",
       "\n",
       "                                                     Text  \n",
       "0       [진중권, 전동, 양대, 교수, 이미지, 출처, 연합뉴스, 원본, 보, 아이콘, 아...  \n",
       "1       [이낙연, 분노, 실망, 아프, 잘, 안, 다, 반성, 혁신, 주호영, 여론, 조사...  \n",
       "2       [박영선, 토론, 오세훈, 내곡동, 특혜, 의혹, 두, 공세, 서울, 시장, 보궐,...  \n",
       "3       [국민의힘, 캠프, 부동산, 투기, 전혀, 없, 안, 의원, 후보, 부인, 부동산,...  \n",
       "4                [가장, 많이, 뉴스, 제공, 집계, 기준, 최대, 전기사, 제공, 있]  \n",
       "...                                                   ...  \n",
       "181819  [진행, 김영수, 앵커, 출연, 김형준, 배재, 석좌, 교수, 배종찬, 인사이트, ...  \n",
       "181820  [더불어민주당, 홍익표, 원내대표, 쌍, 특검, 법안, 예산안, 오, 본회의, 올리...  \n",
       "181821  [손학규, 전, 미래, 대표, 선거제, 개편, 논의, 관련, 연동, 비례제, 더불어...  \n",
       "181822  [더불어민주당, 검찰, 이전, 대회, 돈, 봉투, 의혹, 연루, 송영길, 전, 대표...  \n",
       "181823  [진행, 승휘, 앵커, 출연, 김용남, 전, 국민의힘, 의원, 김종욱, 전, 청와대...  \n",
       "\n",
       "[181824 rows x 4 columns]"
      ]
     },
     "execution_count": 4,
     "metadata": {},
     "output_type": "execute_result"
    }
   ],
   "source": [
    "df = pd.read_feather(\"../data/processing/posExtracted_total.feather\")\n",
    "# column name 변경\n",
    "df"
   ]
  },
  {
   "cell_type": "code",
   "execution_count": 4,
   "metadata": {},
   "outputs": [
    {
     "name": "stderr",
     "output_type": "stream",
     "text": [
      "  0%|          | 0/181824 [00:00<?, ?it/s]"
     ]
    },
    {
     "name": "stderr",
     "output_type": "stream",
     "text": [
      "100%|██████████| 181824/181824 [00:02<00:00, 68819.87it/s]\n"
     ]
    }
   ],
   "source": [
    "#extend 사용\n",
    "text = []\n",
    "for i in tqdm(range(len(df))):\n",
    "    text.extend(df[\"Tokens\"][i])\n",
    "\n",
    "print(text)"
   ]
  },
  {
   "cell_type": "markdown",
   "metadata": {},
   "source": [
    "### 1. 한 글자 제거"
   ]
  },
  {
   "cell_type": "code",
   "execution_count": 5,
   "metadata": {},
   "outputs": [],
   "source": [
    "def rmOneLetter(tokens):\n",
    "    return [token for token in tokens if len(token) > 1]"
   ]
  },
  {
   "cell_type": "code",
   "execution_count": 8,
   "metadata": {},
   "outputs": [
    {
     "name": "stderr",
     "output_type": "stream",
     "text": [
      "  0%|          | 0/181824 [01:38<?, ?it/s]\n"
     ]
    }
   ],
   "source": [
    "df[\"Title\"] = parmap.map(rmOneLetter, df[\"Title\"], pm_pbar=True)"
   ]
  }
 ],
 "metadata": {
  "kernelspec": {
   "display_name": "project-D53q-EhT",
   "language": "python",
   "name": "python3"
  },
  "language_info": {
   "codemirror_mode": {
    "name": "ipython",
    "version": 3
   },
   "file_extension": ".py",
   "mimetype": "text/x-python",
   "name": "python",
   "nbconvert_exporter": "python",
   "pygments_lexer": "ipython3",
   "version": "3.9.13"
  }
 },
 "nbformat": 4,
 "nbformat_minor": 2
}
