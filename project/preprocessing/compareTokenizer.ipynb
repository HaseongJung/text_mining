{
 "cells": [
  {
   "cell_type": "markdown",
   "metadata": {},
   "source": [
    "# Tokenizer 비교 (Okt, Komoran, Hannanum, Kkma, Mecab)"
   ]
  },
  {
   "cell_type": "markdown",
   "metadata": {},
   "source": [
    "Installing mecab for windows: https://luminitworld.tistory.com/104 <br>\n",
    "KoNLPy 공식문서: https://konlpy-ko.readthedocs.io/ko/v0.4.3/"
   ]
  },
  {
   "cell_type": "code",
   "execution_count": 1,
   "metadata": {},
   "outputs": [],
   "source": [
    "import time\n",
    "import random as rd\n",
    "import pandas as pd\n",
    "\n",
    "# 형태소 분석기\n",
    "from konlpy.tag import Okt, Komoran, Hannanum, Kkma, Mecab"
   ]
  },
  {
   "cell_type": "markdown",
   "metadata": {},
   "source": [
    "### Dataset"
   ]
  },
  {
   "cell_type": "code",
   "execution_count": 2,
   "metadata": {},
   "outputs": [
    {
     "data": {
      "text/html": [
       "<div>\n",
       "<style scoped>\n",
       "    .dataframe tbody tr th:only-of-type {\n",
       "        vertical-align: middle;\n",
       "    }\n",
       "\n",
       "    .dataframe tbody tr th {\n",
       "        vertical-align: top;\n",
       "    }\n",
       "\n",
       "    .dataframe thead th {\n",
       "        text-align: right;\n",
       "    }\n",
       "</style>\n",
       "<table border=\"1\" class=\"dataframe\">\n",
       "  <thead>\n",
       "    <tr style=\"text-align: right;\">\n",
       "      <th></th>\n",
       "      <th>Query</th>\n",
       "      <th>Title</th>\n",
       "      <th>Text</th>\n",
       "      <th>News</th>\n",
       "    </tr>\n",
       "  </thead>\n",
       "  <tbody>\n",
       "    <tr>\n",
       "      <th>0</th>\n",
       "      <td>국민의힘</td>\n",
       "      <td>한국노총, 국민의힘 노동특위 참여</td>\n",
       "      <td>김종인 제안 한달만에 성사\\n\\n양측 노동개혁 제휴여부 주목\\n\\n국민의힘이 노동개...</td>\n",
       "      <td>매일경제</td>\n",
       "    </tr>\n",
       "    <tr>\n",
       "      <th>1</th>\n",
       "      <td>국민의힘</td>\n",
       "      <td>안철수 \"국민 생각 거부하는 대통령 말 안돼…나도 힘 보탤 것\"</td>\n",
       "      <td>국민의당 안철수 대표가 국민의힘 초선 의원들의 1인 릴레이 시위 현장인 청와대 앞을...</td>\n",
       "      <td>매일경제</td>\n",
       "    </tr>\n",
       "    <tr>\n",
       "      <th>2</th>\n",
       "      <td>국민의힘</td>\n",
       "      <td>국민의힘 초선들 \"野의원을 조기축구회보다 못하게 취급\"</td>\n",
       "      <td>청와대 앞 릴레이 시위를 이어가고 있는 국민의힘 초선의원들이 1일 문재인 대통령과 ...</td>\n",
       "      <td>매일경제</td>\n",
       "    </tr>\n",
       "    <tr>\n",
       "      <th>3</th>\n",
       "      <td>국민의힘</td>\n",
       "      <td>코로나 재확산에 `조기축구` 최재성…국민의 힘 \"방역도 `내로남불`\"</td>\n",
       "      <td>국민의힘은 30일 최재성 청와대 정무수석이 코로나19 재확산 국면에서 지역구인 서울...</td>\n",
       "      <td>매일경제</td>\n",
       "    </tr>\n",
       "    <tr>\n",
       "      <th>4</th>\n",
       "      <td>국민의힘</td>\n",
       "      <td>\"지라시\" 사과 요구하는 국민의힘…\"사과할 일 없다\"는 與윤호중</td>\n",
       "      <td>더불어민주당 소속 윤호중 국회 법제사법위원장은 1일 본인의 막말 사과를 촉구하는 야...</td>\n",
       "      <td>매일경제</td>\n",
       "    </tr>\n",
       "    <tr>\n",
       "      <th>...</th>\n",
       "      <td>...</td>\n",
       "      <td>...</td>\n",
       "      <td>...</td>\n",
       "      <td>...</td>\n",
       "    </tr>\n",
       "    <tr>\n",
       "      <th>4275</th>\n",
       "      <td>더불어민주당</td>\n",
       "      <td>“이재명 민주당은 침몰 직전 타이태닉호”…이낙연 신당 합류 선언한 이 사람</td>\n",
       "      <td>사진 확대 이석현 전 국회부의장. [사진출처 = 페이스북]\\n\\n이석현 전 국회부의...</td>\n",
       "      <td>매일경제</td>\n",
       "    </tr>\n",
       "    <tr>\n",
       "      <th>4276</th>\n",
       "      <td>더불어민주당</td>\n",
       "      <td>한동훈 보란듯… 민주당 586 ‘반미투사’ 인재영입</td>\n",
       "      <td>노무현 정부 외교실세, 文정부 국정원 1차장 역임\\n\\n삼민투 연대지부장… 광주 美...</td>\n",
       "      <td>매일경제</td>\n",
       "    </tr>\n",
       "    <tr>\n",
       "      <th>4277</th>\n",
       "      <td>더불어민주당</td>\n",
       "      <td>한동훈, 이재명·민주당 직격…“왜 검사 사칭한 사람을 절대존엄으로 모시나”</td>\n",
       "      <td>사진 확대 국민의힘 한동훈 비상대책위원장이 27일 국회에서 기자들의 질문에 답하고 ...</td>\n",
       "      <td>매일경제</td>\n",
       "    </tr>\n",
       "    <tr>\n",
       "      <th>4278</th>\n",
       "      <td>더불어민주당</td>\n",
       "      <td>한동훈 “민주당은 검사 사칭한 분 왜 모시나”…이재명 저격</td>\n",
       "      <td>취임 이틀연속 대립각 세워\\n\\n\\n\\n첫 오찬은 실무진과 설렁탕\\n\\n“비대위원 ...</td>\n",
       "      <td>매일경제</td>\n",
       "    </tr>\n",
       "    <tr>\n",
       "      <th>4279</th>\n",
       "      <td>더불어민주당</td>\n",
       "      <td>민주당 공관위원장에 임혁백·정근식 유력</td>\n",
       "      <td>“당 지도부, 공정하며 정무감각 갖춘 인물로 검토중”\\n\\n사진 확대 더불어민주당 ...</td>\n",
       "      <td>매일경제</td>\n",
       "    </tr>\n",
       "  </tbody>\n",
       "</table>\n",
       "<p>3921 rows × 4 columns</p>\n",
       "</div>"
      ],
      "text/plain": [
       "       Query                                      Title  \\\n",
       "0       국민의힘                         한국노총, 국민의힘 노동특위 참여   \n",
       "1       국민의힘        안철수 \"국민 생각 거부하는 대통령 말 안돼…나도 힘 보탤 것\"   \n",
       "2       국민의힘             국민의힘 초선들 \"野의원을 조기축구회보다 못하게 취급\"   \n",
       "3       국민의힘     코로나 재확산에 `조기축구` 최재성…국민의 힘 \"방역도 `내로남불`\"   \n",
       "4       국민의힘        \"지라시\" 사과 요구하는 국민의힘…\"사과할 일 없다\"는 與윤호중   \n",
       "...      ...                                        ...   \n",
       "4275  더불어민주당  “이재명 민주당은 침몰 직전 타이태닉호”…이낙연 신당 합류 선언한 이 사람   \n",
       "4276  더불어민주당               한동훈 보란듯… 민주당 586 ‘반미투사’ 인재영입   \n",
       "4277  더불어민주당  한동훈, 이재명·민주당 직격…“왜 검사 사칭한 사람을 절대존엄으로 모시나”   \n",
       "4278  더불어민주당           한동훈 “민주당은 검사 사칭한 분 왜 모시나”…이재명 저격   \n",
       "4279  더불어민주당                      민주당 공관위원장에 임혁백·정근식 유력   \n",
       "\n",
       "                                                   Text  News  \n",
       "0     김종인 제안 한달만에 성사\\n\\n양측 노동개혁 제휴여부 주목\\n\\n국민의힘이 노동개...  매일경제  \n",
       "1     국민의당 안철수 대표가 국민의힘 초선 의원들의 1인 릴레이 시위 현장인 청와대 앞을...  매일경제  \n",
       "2     청와대 앞 릴레이 시위를 이어가고 있는 국민의힘 초선의원들이 1일 문재인 대통령과 ...  매일경제  \n",
       "3     국민의힘은 30일 최재성 청와대 정무수석이 코로나19 재확산 국면에서 지역구인 서울...  매일경제  \n",
       "4     더불어민주당 소속 윤호중 국회 법제사법위원장은 1일 본인의 막말 사과를 촉구하는 야...  매일경제  \n",
       "...                                                 ...   ...  \n",
       "4275  사진 확대 이석현 전 국회부의장. [사진출처 = 페이스북]\\n\\n이석현 전 국회부의...  매일경제  \n",
       "4276  노무현 정부 외교실세, 文정부 국정원 1차장 역임\\n\\n삼민투 연대지부장… 광주 美...  매일경제  \n",
       "4277  사진 확대 국민의힘 한동훈 비상대책위원장이 27일 국회에서 기자들의 질문에 답하고 ...  매일경제  \n",
       "4278  취임 이틀연속 대립각 세워\\n\\n\\n\\n첫 오찬은 실무진과 설렁탕\\n\\n“비대위원 ...  매일경제  \n",
       "4279  “당 지도부, 공정하며 정무감각 갖춘 인물로 검토중”\\n\\n사진 확대 더불어민주당 ...  매일경제  \n",
       "\n",
       "[3921 rows x 4 columns]"
      ]
     },
     "execution_count": 2,
     "metadata": {},
     "output_type": "execute_result"
    }
   ],
   "source": [
    "pd.set_option('display.max_colwidth', 50)  # jypyter에서 column 출력 최대 너비 조절\n",
    "\n",
    "df = pd.read_pickle(\"../data/MaeIlGyeongJe.pkl\")\n",
    "df"
   ]
  },
  {
   "cell_type": "code",
   "execution_count": 3,
   "metadata": {},
   "outputs": [
    {
     "name": "stdout",
     "output_type": "stream",
     "text": [
      "김종인 제안 한달만에 성사\n",
      "\n",
      "양측 노동개혁 제휴여부 주목\n",
      "\n",
      "국민의힘이 노동개혁 추진을 위해 발족시킬 노동혁신특별위원회에 한국노총이 참여한다. 김종인 당 비상대책위원장이 한노총 지도부를 만나 공개 제안한 뒤 한 달여 만에 성사된 것이다. 지난 대선에서 현 정부를 지지했던 한노총이 이번 특위를 계기로 보수 정당과 관계를 회복할지에도 관심이 쏠린다. 국민의힘은 일단 \"노사 양측 입장을 경청하겠다\"는 입장이다.특위 위원장으로 내정된 임이자 국민의힘 의원은 1일 당 원내대책회의에서 \"전날 한노총으로부터 노동혁신특위에 참여하겠다는 공문을 받았다\"고 밝혔다. 임 의원은 이어 본지와 통화하면서 \"특위를 통해 노측과 사측의 입장을 모두 경청하려고 한다\"며 \"특정 정책을 내놓기보다는 현재 제시된 법안과 현안들에 대해 상생의 차원에서 접점을 찾도록 하겠다\"고 말했다.이에 특위는 위원 구성에도 기계적 균형을 갖췄다. 한노총 측 2명 외에도 한국경영자총협회(경총) 등 재계 측 2명, 전현직 교수 등의 자문관이 위원으로 내정됐다. 또 국민의힘 현역 의원 중 한노총 출신인 김형동 의원과 사업가 출신인 한무경 의원, 소상공인연합회장을 지낸 최승재 의원이 각각 노동계와 재계, 자영업자를 대표하는 위원으로 임명될 예정이다. 당 환경노동위원회 소속 의원들과 기획재정위원회 소속 추경호 의원 등도 참여할 것으로 전해졌다.우선 주요 현안인 국제노동기구(ILO) 핵심 협약 비준, 특수고용노동자 권익 보호, 중대재해기업처벌법 제정, 근로시간 유연화 등의 현안이 특위에서 논의될 방침이다. 이 중에서도 김종인 위원장이 공개 제안한 노동관계법 개정을 통한 노동시장 유연화 정책은 노조에서 반발하는 내용이라 특위에서 논의될 경우 합의점 도출이 쉽지 않을 것이란 전망이 나온다.이에 대해 임 의원은 \"특위 출범은 일방적으로 쟁점 법안을 통과시키기보다는 노사 각자의 입장을 듣자는 데 취지가 있다\"며 \"조금이라도 양보가 얻어져 합의가 이뤄지면 금상첨화겠지만, 합의가 안 되더라도 특위 참여 의원들이 양측 입장을 반영하기 위해 노력하겠다\"고 말했다. 이에 한 국민의힘 환노위 관계자는 \"노조 측에서도 여야에 목소리가 골고루 전달돼야 법안이 만들어질 수 있다는 걸 아니까 특위에 참여해 입장을 밝히려는 것으로 보인다\"고 말했다.[정주원 기자][ⓒ 매일경제 & mk.co.kr, 무단전재 및 재배포 금지]\n"
     ]
    }
   ],
   "source": [
    "texts = list(df['Text'])\n",
    "sample_text1 = texts[0]\n",
    "sample_text2 = texts[-1]\n",
    "\n",
    "print(texts[0])"
   ]
  },
  {
   "cell_type": "code",
   "execution_count": 4,
   "metadata": {},
   "outputs": [],
   "source": [
    "# 본문 문장단위로 분리\n",
    "\n",
    "def splitText(text: str):\n",
    "    text = text.replace('\\n', '. ')\n",
    "    text = (text.split('. '))\n",
    "    text = (list(filter(None, text))) # 빈 문자열 제거\n",
    "\n",
    "    return text"
   ]
  },
  {
   "cell_type": "code",
   "execution_count": 5,
   "metadata": {},
   "outputs": [
    {
     "name": "stdout",
     "output_type": "stream",
     "text": [
      "sample_text1: ['김종인 제안 한달만에 성사', '양측 노동개혁 제휴여부 주목', '국민의힘이 노동개혁 추진을 위해 발족시킬 노동혁신특별위원회에 한국노총이 참여한다', '김종인 당 비상대책위원장이 한노총 지도부를 만나 공개 제안한 뒤 한 달여 만에 성사된 것이다', '지난 대선에서 현 정부를 지지했던 한노총이 이번 특위를 계기로 보수 정당과 관계를 회복할지에도 관심이 쏠린다', '국민의힘은 일단 \"노사 양측 입장을 경청하겠다\"는 입장이다.특위 위원장으로 내정된 임이자 국민의힘 의원은 1일 당 원내대책회의에서 \"전날 한노총으로부터 노동혁신특위에 참여하겠다는 공문을 받았다\"고 밝혔다', '임 의원은 이어 본지와 통화하면서 \"특위를 통해 노측과 사측의 입장을 모두 경청하려고 한다\"며 \"특정 정책을 내놓기보다는 현재 제시된 법안과 현안들에 대해 상생의 차원에서 접점을 찾도록 하겠다\"고 말했다.이에 특위는 위원 구성에도 기계적 균형을 갖췄다', '한노총 측 2명 외에도 한국경영자총협회(경총) 등 재계 측 2명, 전현직 교수 등의 자문관이 위원으로 내정됐다', '또 국민의힘 현역 의원 중 한노총 출신인 김형동 의원과 사업가 출신인 한무경 의원, 소상공인연합회장을 지낸 최승재 의원이 각각 노동계와 재계, 자영업자를 대표하는 위원으로 임명될 예정이다', '당 환경노동위원회 소속 의원들과 기획재정위원회 소속 추경호 의원 등도 참여할 것으로 전해졌다.우선 주요 현안인 국제노동기구(ILO) 핵심 협약 비준, 특수고용노동자 권익 보호, 중대재해기업처벌법 제정, 근로시간 유연화 등의 현안이 특위에서 논의될 방침이다', '이 중에서도 김종인 위원장이 공개 제안한 노동관계법 개정을 통한 노동시장 유연화 정책은 노조에서 반발하는 내용이라 특위에서 논의될 경우 합의점 도출이 쉽지 않을 것이란 전망이 나온다.이에 대해 임 의원은 \"특위 출범은 일방적으로 쟁점 법안을 통과시키기보다는 노사 각자의 입장을 듣자는 데 취지가 있다\"며 \"조금이라도 양보가 얻어져 합의가 이뤄지면 금상첨화겠지만, 합의가 안 되더라도 특위 참여 의원들이 양측 입장을 반영하기 위해 노력하겠다\"고 말했다', '이에 한 국민의힘 환노위 관계자는 \"노조 측에서도 여야에 목소리가 골고루 전달돼야 법안이 만들어질 수 있다는 걸 아니까 특위에 참여해 입장을 밝히려는 것으로 보인다\"고 말했다.[정주원 기자][ⓒ 매일경제 & mk.co.kr, 무단전재 및 재배포 금지]']\n",
      "sample_text2: ['“당 지도부, 공정하며 정무감각 갖춘 인물로 검토중”', '사진 확대 더불어민주당 이재명 대표가 27일 국회에서 열린 영입인재 환영식에서 박선원 전 청와대 통일외교안보전략비서관(왼쪽), 강청희 전 대한의사협회 상근부회장을 소개하고 있다', '[제공=연합뉴스]', '더불어민주당이 국회의원 총선 공천관리위원회 위원장에 임혁백 고려대 정치학 명예교수와 정근식 서울대 명예교수를 유력 후보로 검토중인 것으로 전해졌다.', '민주당 고위 관계자는 27일 “민주당 공관위원장으로는 공정하면서도 뛰어난 정무감각을 가진 분이 필요하다”며“당 지도부가 임 교수와 정 교수를 공관위원장 후보로 유력하게 검토하고 있다”고 분위기를 전했다', '두 교수는 모두 민주당 외부 인사 출신으로 당내 이해관계와 무관하고 계파색이 옅은 점이 고려된 것으로 보인다.', '사진 확대 임혁백 고려대 명예교수', '임혁백 교수는 대표적인 진보 정치학자로 김대중 정부에서 대통령자문 정책기획위원회 위원을, 노무현 정부에서 대통령직인수위원회 정치개혁 연구실장을 역임한 바 있다', '임 교수는 대선 경선 당시 이 대표를 지원하는 정책자문 그룹 ‘세상을 바꾸는 정책 2022’ 자문단에 이름을 올리기도 했지만 친명(이재명)계 인사라고 보기 어렵다는 시각도 있다.', '임 교수는 평소 정당 권력이 지금보다 더 강해져야 하며 대중의 정치참여가 더 활성화되어야 한다는 지론을 갖고 있는 것으로 알려졌다', '임 교수는 최근 친문계 의원 모임 ‘민주주의 4.0’ 토론회에서 발제로 나서 “정당정치가 양극화되고 파편화되고 있는데, 그 원인은 대표(정당)이 시민들을 제대로 대의하는데 실패했기 때문”이라고 주장했다.', '사진 확대 정근식 서울대 명예교수', '정근식 교수는 문재인 정부에서 진실·화해를 위한 과거사정리위원회 위원장을 지냈다', '지난 6월에는 민주당 혁신위원장 최종 후보군에 오르기도 했다.', '이날 정치권에서는 강금실 전 법무부 장관도 공관위원장 후보로 언급됐다', '하지만 강 전 장관은 지난 대선 경선에서 이재명 후보의 후원회장을 맡은 이력이 있어 공천을 둘러싼 계파 갈등을 잠재울 인물로 적합하지 않다는 평가가 지배적이다.', '민주당은 이르면 오는 29일 공관위원장을 발표할 것으로 전해졌다', '28일 이재명 대표와 정세균 총리가 만나 당내 통합과 혁신 방안을 논의한 후 이 대표와 지도부가 최종 논의를 거쳐 공관위원장 인선이 완료될 것으로 보인다.', '한 민주당 재선 의원은 “난국을 바꿀 수 있어야 한다”며 “당 통합과 중도 확장을 잘하는 인물, 윤석열 정부의 무도한 질주를 잘 견제할 수 있는 인물이 필요하지 않겠나”라며 공관위원장 인선을 둘러싼 당내 분위기를 전했다', '다만 비이재명계 의원들은 “공관위원회에 이제는 별 관심이 없다”며 냉담한 반응을 보이기도 했다.']\n"
     ]
    }
   ],
   "source": [
    "sample_text1 = splitText(sample_text1)\n",
    "sample_text2 = splitText(sample_text2)\n",
    "\n",
    "print(f'sample_text1: {sample_text1}')\n",
    "print(f'sample_text2: {sample_text2}')"
   ]
  },
  {
   "cell_type": "code",
   "execution_count": 6,
   "metadata": {},
   "outputs": [
    {
     "name": "stdout",
     "output_type": "stream",
     "text": [
      "sample_sentences1: 이 중에서도 김종인 위원장이 공개 제안한 노동관계법 개정을 통한 노동시장 유연화 정책은 노조에서 반발하는 내용이라 특위에서 논의될 경우 합의점 도출이 쉽지 않을 것이란 전망이 나온다.이에 대해 임 의원은 \"특위 출범은 일방적으로 쟁점 법안을 통과시키기보다는 노사 각자의 입장을 듣자는 데 취지가 있다\"며 \"조금이라도 양보가 얻어져 합의가 이뤄지면 금상첨화겠지만, 합의가 안 되더라도 특위 참여 의원들이 양측 입장을 반영하기 위해 노력하겠다\"고 말했다\n",
      "sample_sentences2: 임 교수는 최근 친문계 의원 모임 ‘민주주의 4.0’ 토론회에서 발제로 나서 “정당정치가 양극화되고 파편화되고 있는데, 그 원인은 대표(정당)이 시민들을 제대로 대의하는데 실패했기 때문”이라고 주장했다.\n"
     ]
    }
   ],
   "source": [
    "sample_sentence1 =''.join(sample_text1[10])\n",
    "sample_sentence2 = ''.join(sample_text2[10])\n",
    "\n",
    "print(f'sample_sentences1: {sample_sentence1}')\n",
    "print(f'sample_sentences2: {sample_sentence2}')"
   ]
  },
  {
   "cell_type": "markdown",
   "metadata": {},
   "source": [
    "---"
   ]
  },
  {
   "cell_type": "markdown",
   "metadata": {},
   "source": [
    "### Compare"
   ]
  },
  {
   "cell_type": "code",
   "execution_count": 7,
   "metadata": {},
   "outputs": [
    {
     "name": "stdout",
     "output_type": "stream",
     "text": [
      "['이', '중', '에서', '도', '김종인', '위원장', '이', '공개', '제안', '한', '노동관계', '법', '개정', '을', '통한', '노동', '시장', '유연', '화', '정책', '은', '노조', '에서', '반발', '하', '는', '내용', '이', '라', '특위', '에서', '논의', '될', '경우', '합의', '점', '도출', '이', '쉽', '지', '않', '을', '것', '이', '란', '전망', '이', '나온다', '.', '이', '에', '대해', '임', '의원', '은', '\"', '특위', '출범', '은', '일방', '적', '으로', '쟁점', '법안', '을', '통과', '시키', '기', '보다', '는', '노사', '각자', '의', '입장', '을', '듣', '자는', '데', '취지', '가', '있', '다', '\"', '며', '\"', '조금', '이', '라도', '양보', '가', '얻', '어', '져', '합의', '가', '이뤄지면', '금상첨화', '겠', '지만', ',', '합의', '가', '안', '되', '더라도', '특위', '참여', '의원', '들', '이', '양측', '입장', '을', '반영', '하', '기', '위해', '노력', '하', '겠', '다', '\"', '고', '말', '했', '다']\n"
     ]
    }
   ],
   "source": [
    "test = Mecab(dicpath='C:/mecab/mecab-ko-dic')\n",
    "print(test.morphs(sample_sentence1))"
   ]
  },
  {
   "cell_type": "code",
   "execution_count": 8,
   "metadata": {},
   "outputs": [],
   "source": [
    "# 형태소 분석기 생성\n",
    "def get_tokenizer(tokenizer_name):\n",
    "\n",
    "    if tokenizer_name == \"komoran\":\n",
    "        tokenizer = Komoran()\n",
    "    elif tokenizer_name == \"okt\":\n",
    "        tokenizer = Okt()\n",
    "    elif tokenizer_name == \"Mecab\":\n",
    "        tokenizer = Mecab(dicpath='C:/mecab/mecab-ko-dic')\n",
    "    elif tokenizer_name == \"hannanum\":\n",
    "        tokenizer = Hannanum()\n",
    "    elif tokenizer_name == \"kkma\":\n",
    "        tokenizer = Kkma()\n",
    "    else:\n",
    "        print(\"Tokenizer is not valid\")\n",
    "        \n",
    "    return tokenizer"
   ]
  },
  {
   "cell_type": "code",
   "execution_count": 9,
   "metadata": {},
   "outputs": [],
   "source": [
    "# 토크나이저별로 토큰화 결과, 시간 측정\n",
    "\n",
    "def compareTokenizer(sentence: str, tokenizer_list: list):\n",
    "\n",
    "    result_list = []\n",
    "\n",
    "    for i in tokenizer_list:\n",
    "        start = time.time()                                 # 시작 시간 저장\n",
    "        tokenizer = get_tokenizer(i)                         # 토크나이저 불러오기\n",
    "\n",
    "        tokenized_sentence = tokenizer.morphs(sentence)          # 토큰화\n",
    "\n",
    "        time_required = time.time() - start                          # 종료 시간에서 시작 시간을 빼서 걸린 시간 계산\n",
    "        tokenizer_and_time = i, time_required, tokenized_sentence   # 토크나이저 이름, 걸린 시간, 결과를 리스트에 저장\n",
    "        \n",
    "        result_list.append(tokenizer_and_time)              \n",
    "\n",
    "    result_df = pd.DataFrame(result_list, columns=[\"Tokenizer\", \"Time\", \"Result\"])  \n",
    "\n",
    "    return sentence, result_df"
   ]
  },
  {
   "cell_type": "code",
   "execution_count": 10,
   "metadata": {},
   "outputs": [
    {
     "name": "stdout",
     "output_type": "stream",
     "text": [
      "본문: 아버지가방에들어가신다\n",
      "\n"
     ]
    },
    {
     "data": {
      "text/html": [
       "<div>\n",
       "<style scoped>\n",
       "    .dataframe tbody tr th:only-of-type {\n",
       "        vertical-align: middle;\n",
       "    }\n",
       "\n",
       "    .dataframe tbody tr th {\n",
       "        vertical-align: top;\n",
       "    }\n",
       "\n",
       "    .dataframe thead th {\n",
       "        text-align: right;\n",
       "    }\n",
       "</style>\n",
       "<table border=\"1\" class=\"dataframe\">\n",
       "  <thead>\n",
       "    <tr style=\"text-align: right;\">\n",
       "      <th></th>\n",
       "      <th>Tokenizer</th>\n",
       "      <th>Time</th>\n",
       "      <th>Result</th>\n",
       "    </tr>\n",
       "  </thead>\n",
       "  <tbody>\n",
       "    <tr>\n",
       "      <th>0</th>\n",
       "      <td>komoran</td>\n",
       "      <td>2.188112</td>\n",
       "      <td>[아버지, 가방, 에, 들어가, 시, ㄴ다]</td>\n",
       "    </tr>\n",
       "    <tr>\n",
       "      <th>1</th>\n",
       "      <td>okt</td>\n",
       "      <td>1.524668</td>\n",
       "      <td>[아버지, 가방, 에, 들어가신다]</td>\n",
       "    </tr>\n",
       "    <tr>\n",
       "      <th>2</th>\n",
       "      <td>Mecab</td>\n",
       "      <td>0.004333</td>\n",
       "      <td>[아버지, 가, 방, 에, 들어가, 신다]</td>\n",
       "    </tr>\n",
       "    <tr>\n",
       "      <th>3</th>\n",
       "      <td>hannanum</td>\n",
       "      <td>0.461359</td>\n",
       "      <td>[아버지가방에들어가, 이, 시ㄴ다]</td>\n",
       "    </tr>\n",
       "    <tr>\n",
       "      <th>4</th>\n",
       "      <td>kkma</td>\n",
       "      <td>2.622740</td>\n",
       "      <td>[아버지, 가방, 에, 들어가, 시, ㄴ다]</td>\n",
       "    </tr>\n",
       "  </tbody>\n",
       "</table>\n",
       "</div>"
      ],
      "text/plain": [
       "  Tokenizer      Time                    Result\n",
       "0   komoran  2.188112  [아버지, 가방, 에, 들어가, 시, ㄴ다]\n",
       "1       okt  1.524668       [아버지, 가방, 에, 들어가신다]\n",
       "2     Mecab  0.004333   [아버지, 가, 방, 에, 들어가, 신다]\n",
       "3  hannanum  0.461359       [아버지가방에들어가, 이, 시ㄴ다]\n",
       "4      kkma  2.622740  [아버지, 가방, 에, 들어가, 시, ㄴ다]"
      ]
     },
     "metadata": {},
     "output_type": "display_data"
    },
    {
     "name": "stdout",
     "output_type": "stream",
     "text": [
      "========================================================================================================================================================================================================\n",
      "\n",
      "본문: 국민의힘\n",
      "\n"
     ]
    },
    {
     "data": {
      "text/html": [
       "<div>\n",
       "<style scoped>\n",
       "    .dataframe tbody tr th:only-of-type {\n",
       "        vertical-align: middle;\n",
       "    }\n",
       "\n",
       "    .dataframe tbody tr th {\n",
       "        vertical-align: top;\n",
       "    }\n",
       "\n",
       "    .dataframe thead th {\n",
       "        text-align: right;\n",
       "    }\n",
       "</style>\n",
       "<table border=\"1\" class=\"dataframe\">\n",
       "  <thead>\n",
       "    <tr style=\"text-align: right;\">\n",
       "      <th></th>\n",
       "      <th>Tokenizer</th>\n",
       "      <th>Time</th>\n",
       "      <th>Result</th>\n",
       "    </tr>\n",
       "  </thead>\n",
       "  <tbody>\n",
       "    <tr>\n",
       "      <th>0</th>\n",
       "      <td>komoran</td>\n",
       "      <td>1.376308</td>\n",
       "      <td>[국민, 의, 힘]</td>\n",
       "    </tr>\n",
       "    <tr>\n",
       "      <th>1</th>\n",
       "      <td>okt</td>\n",
       "      <td>0.001000</td>\n",
       "      <td>[국민, 의, 힘]</td>\n",
       "    </tr>\n",
       "    <tr>\n",
       "      <th>2</th>\n",
       "      <td>Mecab</td>\n",
       "      <td>0.003020</td>\n",
       "      <td>[국민의힘]</td>\n",
       "    </tr>\n",
       "    <tr>\n",
       "      <th>3</th>\n",
       "      <td>hannanum</td>\n",
       "      <td>0.274814</td>\n",
       "      <td>[국민의힘]</td>\n",
       "    </tr>\n",
       "    <tr>\n",
       "      <th>4</th>\n",
       "      <td>kkma</td>\n",
       "      <td>0.004229</td>\n",
       "      <td>[국민, 의, 힘]</td>\n",
       "    </tr>\n",
       "  </tbody>\n",
       "</table>\n",
       "</div>"
      ],
      "text/plain": [
       "  Tokenizer      Time      Result\n",
       "0   komoran  1.376308  [국민, 의, 힘]\n",
       "1       okt  0.001000  [국민, 의, 힘]\n",
       "2     Mecab  0.003020      [국민의힘]\n",
       "3  hannanum  0.274814      [국민의힘]\n",
       "4      kkma  0.004229  [국민, 의, 힘]"
      ]
     },
     "metadata": {},
     "output_type": "display_data"
    },
    {
     "name": "stdout",
     "output_type": "stream",
     "text": [
      "========================================================================================================================================================================================================\n",
      "\n",
      "본문: 더불어민주당\n",
      "\n"
     ]
    },
    {
     "data": {
      "text/html": [
       "<div>\n",
       "<style scoped>\n",
       "    .dataframe tbody tr th:only-of-type {\n",
       "        vertical-align: middle;\n",
       "    }\n",
       "\n",
       "    .dataframe tbody tr th {\n",
       "        vertical-align: top;\n",
       "    }\n",
       "\n",
       "    .dataframe thead th {\n",
       "        text-align: right;\n",
       "    }\n",
       "</style>\n",
       "<table border=\"1\" class=\"dataframe\">\n",
       "  <thead>\n",
       "    <tr style=\"text-align: right;\">\n",
       "      <th></th>\n",
       "      <th>Tokenizer</th>\n",
       "      <th>Time</th>\n",
       "      <th>Result</th>\n",
       "    </tr>\n",
       "  </thead>\n",
       "  <tbody>\n",
       "    <tr>\n",
       "      <th>0</th>\n",
       "      <td>komoran</td>\n",
       "      <td>1.064523</td>\n",
       "      <td>[더불어민주당]</td>\n",
       "    </tr>\n",
       "    <tr>\n",
       "      <th>1</th>\n",
       "      <td>okt</td>\n",
       "      <td>0.003000</td>\n",
       "      <td>[더불어, 민주당]</td>\n",
       "    </tr>\n",
       "    <tr>\n",
       "      <th>2</th>\n",
       "      <td>Mecab</td>\n",
       "      <td>0.003205</td>\n",
       "      <td>[더불어민주당]</td>\n",
       "    </tr>\n",
       "    <tr>\n",
       "      <th>3</th>\n",
       "      <td>hannanum</td>\n",
       "      <td>0.160915</td>\n",
       "      <td>[더불어민주당]</td>\n",
       "    </tr>\n",
       "    <tr>\n",
       "      <th>4</th>\n",
       "      <td>kkma</td>\n",
       "      <td>0.006144</td>\n",
       "      <td>[더불, 어, 민주당]</td>\n",
       "    </tr>\n",
       "  </tbody>\n",
       "</table>\n",
       "</div>"
      ],
      "text/plain": [
       "  Tokenizer      Time        Result\n",
       "0   komoran  1.064523      [더불어민주당]\n",
       "1       okt  0.003000    [더불어, 민주당]\n",
       "2     Mecab  0.003205      [더불어민주당]\n",
       "3  hannanum  0.160915      [더불어민주당]\n",
       "4      kkma  0.006144  [더불, 어, 민주당]"
      ]
     },
     "metadata": {},
     "output_type": "display_data"
    }
   ],
   "source": [
    "from IPython.display import display # display 함수를 이용하여 DataFrame 출력\n",
    "pd.set_option('display.max_colwidth', None) # DataFrame 출력 컬럼 길이 설정\n",
    "\n",
    "tokenizer_list = [\"komoran\", \"okt\", \"Mecab\", \"hannanum\", \"kkma\"]\n",
    "\n",
    "for i, sample_sentence in enumerate([\"아버지가방에들어가신다\", \"국민의힘\", \"더불어민주당\"]):\n",
    "    text, result = compareTokenizer(sample_sentence, tokenizer_list)\n",
    "    print(f\"본문: {text}\\n\")\n",
    "    display(result)\n",
    "    \n",
    "\n",
    "    if i != 2:\n",
    "        print(f\"{'='*200}\\n\")"
   ]
  },
  {
   "cell_type": "code",
   "execution_count": 185,
   "metadata": {},
   "outputs": [
    {
     "name": "stdout",
     "output_type": "stream",
     "text": [
      "본문: 양측 노동개혁 제휴여부 주목\n",
      "\n"
     ]
    },
    {
     "data": {
      "text/html": [
       "<div>\n",
       "<style scoped>\n",
       "    .dataframe tbody tr th:only-of-type {\n",
       "        vertical-align: middle;\n",
       "    }\n",
       "\n",
       "    .dataframe tbody tr th {\n",
       "        vertical-align: top;\n",
       "    }\n",
       "\n",
       "    .dataframe thead th {\n",
       "        text-align: right;\n",
       "    }\n",
       "</style>\n",
       "<table border=\"1\" class=\"dataframe\">\n",
       "  <thead>\n",
       "    <tr style=\"text-align: right;\">\n",
       "      <th></th>\n",
       "      <th>Tokenizer</th>\n",
       "      <th>Time</th>\n",
       "      <th>Result</th>\n",
       "    </tr>\n",
       "  </thead>\n",
       "  <tbody>\n",
       "    <tr>\n",
       "      <th>0</th>\n",
       "      <td>komoran</td>\n",
       "      <td>0.873130</td>\n",
       "      <td>[양측, 노동, 개혁, 제휴, 여부, 주목]</td>\n",
       "    </tr>\n",
       "    <tr>\n",
       "      <th>1</th>\n",
       "      <td>okt</td>\n",
       "      <td>0.001000</td>\n",
       "      <td>[양, 측, 노동, 개혁, 제휴, 여부, 주목]</td>\n",
       "    </tr>\n",
       "    <tr>\n",
       "      <th>2</th>\n",
       "      <td>Mecab</td>\n",
       "      <td>0.001000</td>\n",
       "      <td>[양측, 노동, 개혁, 제휴, 여부, 주목]</td>\n",
       "    </tr>\n",
       "    <tr>\n",
       "      <th>3</th>\n",
       "      <td>hannanum</td>\n",
       "      <td>0.210864</td>\n",
       "      <td>[양측, 노동개혁, 제휴여부, 주목]</td>\n",
       "    </tr>\n",
       "    <tr>\n",
       "      <th>4</th>\n",
       "      <td>kkma</td>\n",
       "      <td>0.101826</td>\n",
       "      <td>[양측, 노동, 개혁, 제휴, 여부, 주목]</td>\n",
       "    </tr>\n",
       "  </tbody>\n",
       "</table>\n",
       "</div>"
      ],
      "text/plain": [
       "  Tokenizer      Time                      Result\n",
       "0   komoran  0.873130    [양측, 노동, 개혁, 제휴, 여부, 주목]\n",
       "1       okt  0.001000  [양, 측, 노동, 개혁, 제휴, 여부, 주목]\n",
       "2     Mecab  0.001000    [양측, 노동, 개혁, 제휴, 여부, 주목]\n",
       "3  hannanum  0.210864        [양측, 노동개혁, 제휴여부, 주목]\n",
       "4      kkma  0.101826    [양측, 노동, 개혁, 제휴, 여부, 주목]"
      ]
     },
     "metadata": {},
     "output_type": "display_data"
    },
    {
     "name": "stdout",
     "output_type": "stream",
     "text": [
      "========================================================================================================================================================================================================\n",
      "\n",
      "본문: 28일 이재명 대표와 정세균 총리가 만나 당내 통합과 혁신 방안을 논의한 후 이 대표와 지도부가 최종 논의를 거쳐 공관위원장 인선이 완료될 것으로 보인다.\n",
      "\n"
     ]
    },
    {
     "data": {
      "text/html": [
       "<div>\n",
       "<style scoped>\n",
       "    .dataframe tbody tr th:only-of-type {\n",
       "        vertical-align: middle;\n",
       "    }\n",
       "\n",
       "    .dataframe tbody tr th {\n",
       "        vertical-align: top;\n",
       "    }\n",
       "\n",
       "    .dataframe thead th {\n",
       "        text-align: right;\n",
       "    }\n",
       "</style>\n",
       "<table border=\"1\" class=\"dataframe\">\n",
       "  <thead>\n",
       "    <tr style=\"text-align: right;\">\n",
       "      <th></th>\n",
       "      <th>Tokenizer</th>\n",
       "      <th>Time</th>\n",
       "      <th>Result</th>\n",
       "    </tr>\n",
       "  </thead>\n",
       "  <tbody>\n",
       "    <tr>\n",
       "      <th>0</th>\n",
       "      <td>komoran</td>\n",
       "      <td>0.800784</td>\n",
       "      <td>[28, 일, 이재명, 대표, 와, 정세균, 총리, 가, 만나, 아, 당내, 통합, 과, 혁신, 방안, 을, 논의, 하, ㄴ, 후, 이, 대표, 와, 지도부, 가, 최종, 논의, 를, 거치, 어, 공관, 위원장, 인선, 이, 완료, 되, ㄹ, 것, 으로, 보이, ㄴ다, .]</td>\n",
       "    </tr>\n",
       "    <tr>\n",
       "      <th>1</th>\n",
       "      <td>okt</td>\n",
       "      <td>0.001000</td>\n",
       "      <td>[28일, 이재명, 대표, 와, 정세균, 총리, 가, 만나, 당내, 통합, 과, 혁신, 방안, 을, 논의, 한, 후, 이, 대표, 와, 지도, 부가, 최종, 논의, 를, 거쳐, 공관, 위원장, 인선, 이, 완료, 될, 것, 으로, 보인다, .]</td>\n",
       "    </tr>\n",
       "    <tr>\n",
       "      <th>2</th>\n",
       "      <td>Mecab</td>\n",
       "      <td>0.002891</td>\n",
       "      <td>[28, 일, 이재명, 대표, 와, 정세균, 총리, 가, 만나, 당내, 통합, 과, 혁신, 방안, 을, 논의, 한, 후, 이, 대표, 와, 지도부, 가, 최종, 논의, 를, 거쳐, 공관, 위원장, 인선, 이, 완료, 될, 것, 으로, 보인다, .]</td>\n",
       "    </tr>\n",
       "    <tr>\n",
       "      <th>3</th>\n",
       "      <td>hannanum</td>\n",
       "      <td>0.201016</td>\n",
       "      <td>[28일, 이재명, 대표, 와, 정세균, 총리, 가, 만나, 아, 당내, 통합, 과, 혁신, 방안, 을, 논의한, 후, 이, 대표, 와, 지도부, 가, 최종, 논의, 를, 거치, 어, 공관위원장, 인선, 이, 완료, 되, ㄹ, 것, 으로, 보이, ㄴ다, .]</td>\n",
       "    </tr>\n",
       "    <tr>\n",
       "      <th>4</th>\n",
       "      <td>kkma</td>\n",
       "      <td>0.014014</td>\n",
       "      <td>[28, 일, 이재명, 대표, 와, 정, 세균, 총리, 가, 만, 나, 당, 내, 통합, 과, 혁신, 방안, 을, 논의, 하, ㄴ, 후, 이, 대표, 와, 지도부, 가, 최종, 논의, 를, 거치, 어, 공관, 위원장, 인선, 이, 완료, 되, ㄹ, 것, 으로, 보이, ㄴ다, .]</td>\n",
       "    </tr>\n",
       "  </tbody>\n",
       "</table>\n",
       "</div>"
      ],
      "text/plain": [
       "  Tokenizer      Time  \\\n",
       "0   komoran  0.800784   \n",
       "1       okt  0.001000   \n",
       "2     Mecab  0.002891   \n",
       "3  hannanum  0.201016   \n",
       "4      kkma  0.014014   \n",
       "\n",
       "                                                                                                                                                         Result  \n",
       "0     [28, 일, 이재명, 대표, 와, 정세균, 총리, 가, 만나, 아, 당내, 통합, 과, 혁신, 방안, 을, 논의, 하, ㄴ, 후, 이, 대표, 와, 지도부, 가, 최종, 논의, 를, 거치, 어, 공관, 위원장, 인선, 이, 완료, 되, ㄹ, 것, 으로, 보이, ㄴ다, .]  \n",
       "1                      [28일, 이재명, 대표, 와, 정세균, 총리, 가, 만나, 당내, 통합, 과, 혁신, 방안, 을, 논의, 한, 후, 이, 대표, 와, 지도, 부가, 최종, 논의, 를, 거쳐, 공관, 위원장, 인선, 이, 완료, 될, 것, 으로, 보인다, .]  \n",
       "2                    [28, 일, 이재명, 대표, 와, 정세균, 총리, 가, 만나, 당내, 통합, 과, 혁신, 방안, 을, 논의, 한, 후, 이, 대표, 와, 지도부, 가, 최종, 논의, 를, 거쳐, 공관, 위원장, 인선, 이, 완료, 될, 것, 으로, 보인다, .]  \n",
       "3              [28일, 이재명, 대표, 와, 정세균, 총리, 가, 만나, 아, 당내, 통합, 과, 혁신, 방안, 을, 논의한, 후, 이, 대표, 와, 지도부, 가, 최종, 논의, 를, 거치, 어, 공관위원장, 인선, 이, 완료, 되, ㄹ, 것, 으로, 보이, ㄴ다, .]  \n",
       "4  [28, 일, 이재명, 대표, 와, 정, 세균, 총리, 가, 만, 나, 당, 내, 통합, 과, 혁신, 방안, 을, 논의, 하, ㄴ, 후, 이, 대표, 와, 지도부, 가, 최종, 논의, 를, 거치, 어, 공관, 위원장, 인선, 이, 완료, 되, ㄹ, 것, 으로, 보이, ㄴ다, .]  "
      ]
     },
     "metadata": {},
     "output_type": "display_data"
    }
   ],
   "source": [
    "from IPython.display import display # display 함수를 이용하여 DataFrame 출력\n",
    "pd.set_option('display.max_colwidth', None) # DataFrame 출력 컬럼 길이 설정\n",
    "\n",
    "tokenizer_list = [\"komoran\", \"okt\", \"Mecab\", \"hannanum\", \"kkma\"]\n",
    "sample_sentence1 =''.join(sample_text1[rd.randint(0, len(sample_text1)-1)])\n",
    "sample_sentence2 = ''.join(sample_text2[rd.randint(0, len(sample_text2)-1)])\n",
    "\n",
    "for sample_sentence in [sample_sentence1, sample_sentence2]:\n",
    "    text, result = compareTokenizer(sample_sentence, tokenizer_list)\n",
    "    print(f\"본문: {text}\\n\")\n",
    "    display(result)\n",
    "    \n",
    "    if sample_sentence == sample_sentence1:\n",
    "        print(f\"{'='*200}\\n\")"
   ]
  },
  {
   "cell_type": "markdown",
   "metadata": {},
   "source": [
    "## 비교 결과\n",
    "- 분석 품질: Mecab > Okt > Komoran > Kkma > hannanum (주관적, 경험적, 사용할 데이터셋마다 다름)\n",
    "- 소요 시간: Mecab > Okt > kkma > hannanum > komoran"
   ]
  },
  {
   "cell_type": "markdown",
   "metadata": {},
   "source": [
    "---"
   ]
  },
  {
   "cell_type": "markdown",
   "metadata": {},
   "source": [
    "# MeCab 사용자 사전 추가"
   ]
  },
  {
   "cell_type": "code",
   "execution_count": 11,
   "metadata": {},
   "outputs": [
    {
     "name": "stdout",
     "output_type": "stream",
     "text": [
      "['아버지', '가', '방', '에', '들어가', '신다']\n",
      "['국민의힘']\n",
      "['더불어민주당']\n"
     ]
    }
   ],
   "source": [
    "from konlpy.tag import Mecab\n",
    "\n",
    "sentence = \"아버지가방에들어가신다\"\n",
    "test1 = \"국민의힘\"\n",
    "test2 = \"더불어민주당\"\n",
    "tokenizer  = Mecab(dicpath=r\"C:\\mecab\\mecab-ko-dic\")\n",
    "\n",
    "print(tokenizer.morphs(sentence))\n",
    "print(tokenizer.morphs(test1))\n",
    "print(tokenizer.morphs(test2))"
   ]
  },
  {
   "cell_type": "markdown",
   "metadata": {},
   "source": [
    "### user-dic(사용자 사전) 확인\n",
    "##### [단어, 좌문맥ID, 우문맥ID, 가중치(단어비용), 품사태그, 의미분류, 종성유무, 타입, 첫 품사, 마지막 품사, 표현]"
   ]
  },
  {
   "cell_type": "code",
   "execution_count": null,
   "metadata": {},
   "outputs": [
    {
     "name": "stdout",
     "output_type": "stream",
     "text": [
      "['대우,,,,NNP,*,F,대우,*,*,*,*,*\\n', '구글,,,,NNP,*,T,구글,*,*,*,*,*\\n', '국민의힘,,,,NNP,*,T,국민의힘,*,*,*,*,*\\n', '더불어민주당,,,,NNP,*,T,더불어민주당,*,*,*,*,*\\n']\n"
     ]
    }
   ],
   "source": [
    "# user-dic 확인\n",
    "\n",
    "def checkUserDic():\n",
    "    with open(\"C:/mecab/user-dic/nnp.csv\", 'r', encoding='utf-8') as f: \n",
    "        file_data = f.readlines()\n",
    "    print(file_data)\n",
    "\n",
    "checkUserDic()"
   ]
  },
  {
   "cell_type": "markdown",
   "metadata": {},
   "source": [
    "##### 종성 유무 확인"
   ]
  },
  {
   "cell_type": "code",
   "execution_count": 12,
   "metadata": {},
   "outputs": [
    {
     "name": "stdout",
     "output_type": "stream",
     "text": [
      "True\n"
     ]
    }
   ],
   "source": [
    "# 종성 유무 확인\n",
    "def has_coda(word):\n",
    "    return (ord(word[-1]) - 44032) % 28 > 0\n",
    "\n",
    "print(has_coda(\"국민의힘\"))"
   ]
  },
  {
   "cell_type": "code",
   "execution_count": null,
   "metadata": {},
   "outputs": [],
   "source": [
    "# user-dic에 단어 추가\n",
    "\n",
    "def addUserDic(word: str, has_coda: bool):\n",
    "    path = \"C:/mecab/user-dic/nnp.csv\"\n",
    "\n",
    "    if has_coda:\n",
    "        has_coda = 'T'\n",
    "    else:\n",
    "        has_coda = 'F'\n",
    "\n",
    "    with open(path, 'r', encoding='utf-8') as f: \n",
    "        file_data = f.readlines()\n",
    "        file_data.append(f'{word},,,,NNP,*,{has_coda},{word},*,*,*,*,*\\n')\n",
    "    \n",
    "    with open(path, 'w', encoding='utf-8') as f:\n",
    "        for line in file_data:\n",
    "            f.write(line)\n",
    "\n",
    "    print(f\"단어 '{word}'(이)가 {path}에 추가되었습니다.\")    "
   ]
  },
  {
   "cell_type": "code",
   "execution_count": null,
   "metadata": {},
   "outputs": [],
   "source": [
    "# addUserDic(\"더불어민주당\", has_coda(\"더불어민주당\"))"
   ]
  },
  {
   "cell_type": "markdown",
   "metadata": {},
   "source": [
    "1. Jupyter 종료 후\n",
    "2. powershell(관리자 모드)에서\n",
    "3. 'C:\\mecab'으로 이동 후 '.\\tools\\add-userdic-win.ps1' 실행"
   ]
  },
  {
   "cell_type": "code",
   "execution_count": null,
   "metadata": {},
   "outputs": [
    {
     "name": "stdout",
     "output_type": "stream",
     "text": [
      "['대우,1786,3545,3821,NNP,*,F,대우,*,*,*,*,*\\n', '구글,1786,3546,2953,NNP,*,T,구글,*,*,*,*,*\\n', '국민의힘,1786,3546,0,NNP,*,T,국민의힘,*,*,*,*,*\\n', '더불어민주당,1786,3546,0,NNP,*,T,더불어민주당,*,*,*,*,*\\n']\n"
     ]
    }
   ],
   "source": [
    "# user-nnp.csv 확인 (사용자 사전에 추가 되었는지)\n",
    "\n",
    "def checkAddedUserDic():\n",
    "    with open(\"C:/mecab/mecab-ko-dic/user-nnp.csv\", 'r', encoding='utf-8') as f: \n",
    "        file_data = f.readlines()\n",
    "    print(file_data)\n",
    "\n",
    "checkAddedUserDic()"
   ]
  },
  {
   "cell_type": "code",
   "execution_count": null,
   "metadata": {},
   "outputs": [
    {
     "name": "stdout",
     "output_type": "stream",
     "text": [
      "단어 '더불어민주당'의 우선순위가 0(으)로 변경되었습니다.\n",
      "['대우,1786,3545,3821,NNP,*,F,대우,*,*,*,*,*\\n', '구글,1786,3546,2953,NNP,*,T,구글,*,*,*,*,*\\n', '국민의힘,1786,3546,0,NNP,*,T,국민의힘,*,*,*,*,*\\n', '더불어민주당,1786,3546,0,NNP,*,T,더불어민주당,*,*,*,*,*\\n']\n"
     ]
    }
   ],
   "source": [
    "# 우선순위 변경\n",
    "\n",
    "def changePriority(word: str, priority: int):\n",
    "    path = \"C:/mecab/mecab-ko-dic/user-nnp.csv\"\n",
    "\n",
    "    with open(path, 'r', encoding='utf-8') as f: \n",
    "        file_data = f.readlines()\n",
    "        for file in file_data:\n",
    "            if word in file:\n",
    "                idx = file_data.index(file)\n",
    "                file = file.split(',')\n",
    "                file[3] = str(priority)\n",
    "                file = ','.join(file)\n",
    "                break\n",
    "\n",
    "    file_data[idx] = file\n",
    "\n",
    "    with open(path, 'w', encoding='utf-8') as f:\n",
    "        for line in file_data:\n",
    "            f.write(line)\n",
    "\n",
    "    print(f\"단어 '{word}'의 우선순위가 {priority}(으)로 변경되었습니다.\")\n",
    "    checkAddedUserDic()\n",
    "\n",
    "\n",
    "changePriority(\"더불어민주당\", 0)"
   ]
  },
  {
   "cell_type": "markdown",
   "metadata": {},
   "source": [
    "1. Jupyter 종료 후\n",
    "2. powershell(관리자 모드)에서\n",
    "3. 'C:\\mecab'으로 이동 후 'compile-win.ps1' 실행"
   ]
  },
  {
   "cell_type": "code",
   "execution_count": null,
   "metadata": {},
   "outputs": [
    {
     "name": "stdout",
     "output_type": "stream",
     "text": [
      "['대우,1786,3545,3821,NNP,*,F,대우,*,*,*,*,*\\n', '구글,1786,3546,2953,NNP,*,T,구글,*,*,*,*,*\\n', '국민의힘,1786,3546,0,NNP,*,T,국민의힘,*,*,*,*,*\\n', '더불어민주당,1786,3546,0,NNP,*,T,더불어민주당,*,*,*,*,*\\n']\n"
     ]
    }
   ],
   "source": [
    "checkAddedUserDic()"
   ]
  },
  {
   "cell_type": "code",
   "execution_count": null,
   "metadata": {},
   "outputs": [
    {
     "name": "stdout",
     "output_type": "stream",
     "text": [
      "['아버지', '가', '방', '에', '들어가', '신다']\n",
      "['국민의힘']\n",
      "['더불어민주당']\n"
     ]
    }
   ],
   "source": [
    "from konlpy.tag import Mecab\n",
    "\n",
    "sentence = \"아버지가방에들어가신다\"\n",
    "test1 = \"국민의힘\"\n",
    "test2 = \"더불어민주당\"\n",
    "tokenizer  = Mecab(dicpath=r\"C:\\mecab\\mecab-ko-dic\")\n",
    "\n",
    "print(tokenizer.morphs(sentence))\n",
    "print(tokenizer.morphs(test1))\n",
    "print(tokenizer.morphs(test2))"
   ]
  }
 ],
 "metadata": {
  "kernelspec": {
   "display_name": "project-D53q-EhT",
   "language": "python",
   "name": "python3"
  },
  "language_info": {
   "codemirror_mode": {
    "name": "ipython",
    "version": 3
   },
   "file_extension": ".py",
   "mimetype": "text/x-python",
   "name": "python",
   "nbconvert_exporter": "python",
   "pygments_lexer": "ipython3",
   "version": "3.9.13"
  }
 },
 "nbformat": 4,
 "nbformat_minor": 2
}
