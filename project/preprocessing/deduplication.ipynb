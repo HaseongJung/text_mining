{
 "cells": [
  {
   "cell_type": "code",
   "execution_count": 3,
   "metadata": {},
   "outputs": [],
   "source": [
    "import os\n",
    "import time\n",
    "import re\n",
    "import random as rd\n",
    "import pandas as pd\n",
    "import numpy as np\n",
    "import collections\n",
    "from tqdm import tqdm\n",
    "import pickle"
   ]
  },
  {
   "cell_type": "code",
   "execution_count": 4,
   "metadata": {},
   "outputs": [
    {
     "name": "stdout",
     "output_type": "stream",
     "text": [
      "['AsiaGyeongJe.pkl', 'GukMinIlBo.pkl', 'GyeongHyang.pkl', 'HanGukGyeongJe.pkl', 'HanGyeoRye.pkl', 'JoSeonIlBo.pkl', 'JTBC.pkl', 'JungAngIlBo.pkl', 'KBS.pkl', 'MaeIlGyeongJe.pkl', 'MBC.pkl', 'SBS.pkl', 'YTN.pkl']\n"
     ]
    }
   ],
   "source": [
    "datasets = os.listdir('../data/')\n",
    "print(datasets)"
   ]
  },
  {
   "cell_type": "code",
   "execution_count": 20,
   "metadata": {},
   "outputs": [
    {
     "name": "stdout",
     "output_type": "stream",
     "text": [
      "------------------------------------------------------------------- AsiaGyeongJe.pkl -------------------------------------------------------------------\n",
      "------------------------------------------------------------------- GukMinIlBo.pkl -------------------------------------------------------------------\n",
      "------------------------------------------------------------------- GyeongHyang.pkl -------------------------------------------------------------------\n",
      "------------------------------------------------------------------- HanGukGyeongJe.pkl -------------------------------------------------------------------\n",
      "------------------------------------------------------------------- HanGyeoRye.pkl -------------------------------------------------------------------\n",
      "------------------------------------------------------------------- JoSeonIlBo.pkl -------------------------------------------------------------------\n",
      "------------------------------------------------------------------- JTBC.pkl -------------------------------------------------------------------\n",
      "------------------------------------------------------------------- JungAngIlBo.pkl -------------------------------------------------------------------\n",
      "------------------------------------------------------------------- KBS.pkl -------------------------------------------------------------------\n",
      "------------------------------------------------------------------- MaeIlGyeongJe.pkl -------------------------------------------------------------------\n",
      "------------------------------------------------------------------- MBC.pkl -------------------------------------------------------------------\n",
      "------------------------------------------------------------------- SBS.pkl -------------------------------------------------------------------\n",
      "------------------------------------------------------------------- YTN.pkl -------------------------------------------------------------------\n"
     ]
    }
   ],
   "source": [
    "for dataset in datasets:\n",
    "    print(f\"------------------------------------------------------------------- {dataset} -------------------------------------------------------------------\")\n",
    "    df = pd.read_pickle(f'../data/{dataset}')\n",
    "\n",
    "    # 결측값 제거\n",
    "    df = df.dropna(subset=['Text'])\n",
    "    df = df.dropna(subset=['Title'])\n",
    "    # 중복값 제거\n",
    "    df = df.drop_duplicates(subset=['Text'])\n",
    "    df = df.drop_duplicates(subset=['Title'])\n",
    "\n",
    "    # 데이터 확인\n",
    "    # print(f'shape: {df.shape}')\n",
    "    # print(df.describe())\n",
    "    # print(f'Title duplicated: {df[\"Title\"].duplicated().sum()}')\n",
    "    # print(f'Text duplicated: {df[\"Text\"].duplicated().sum()}')\n",
    "    # print(f'null:\\n{df.isnull().sum()}')\n",
    "    # print(df[df[\"Text\"].duplicated(keep=False)].sort_values(by='Text').head(10))\n",
    "\n",
    "    df.to_pickle(f\"../data/{dataset.replace('.csv','')}\")"
   ]
  }
 ],
 "metadata": {
  "kernelspec": {
   "display_name": "project-D53q-EhT",
   "language": "python",
   "name": "python3"
  },
  "language_info": {
   "codemirror_mode": {
    "name": "ipython",
    "version": 3
   },
   "file_extension": ".py",
   "mimetype": "text/x-python",
   "name": "python",
   "nbconvert_exporter": "python",
   "pygments_lexer": "ipython3",
   "version": "3.9.13"
  }
 },
 "nbformat": 4,
 "nbformat_minor": 2
}
