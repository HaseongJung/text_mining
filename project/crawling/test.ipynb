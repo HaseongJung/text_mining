{
 "cells": [
  {
   "cell_type": "code",
   "execution_count": 165,
   "metadata": {},
   "outputs": [],
   "source": [
    "# import the libraries\n",
    "import time\n",
    "import re\n",
    "import random as rd\n",
    "import pandas as pd\n",
    "import numpy as np\n",
    "import collections\n",
    "from tqdm import tqdm\n",
    "import pickle\n",
    "import datetime\n",
    "from dateutil.relativedelta import relativedelta\n",
    "\n",
    "import requests\n",
    "from bs4 import BeautifulSoup as bs\n",
    "from selenium import webdriver\n",
    "from webdriver_manager.chrome import ChromeDriverManager\n",
    "\n",
    "from selenium.webdriver.common.by import By\n",
    "from selenium.webdriver.common.keys import Keys\n",
    "from selenium.webdriver.support.ui import WebDriverWait\n",
    "from selenium.webdriver.support import expected_conditions as EC\n",
    "from selenium.webdriver.chrome.service import Service as ChromeService\n",
    "from selenium.webdriver.chrome.options import Options as ChromeOptions\n",
    "from selenium.common.exceptions import NoSuchElementException\n",
    "from selenium.common.exceptions import TimeoutException\n",
    "from webdriver_manager.chrome import ChromeDriverManager\n",
    "\n",
    "from newspaper import Article"
   ]
  },
  {
   "cell_type": "code",
   "execution_count": 166,
   "metadata": {},
   "outputs": [],
   "source": [
    "# Driver setting\n",
    "user_agent = \"Mozilla/5.0 (Windows NT 10.0; Win64; x64) AppleWebKit/537.36 (KHTML, like Gecko) Chrome/58.0.3029.110 Safari/537.3\"\n",
    "headers = {\n",
    "    \"User-Agent\": user_agent\n",
    "}\n",
    "\n",
    "def setWebdriver():\n",
    "    service = ChromeService(executable_path=ChromeDriverManager().install())    # 크롬 드라이버 최신 버전 설정\n",
    "\n",
    "    options = ChromeOptions()\n",
    "    options.add_argument('user-agent=' + user_agent)\n",
    "    options.add_argument('--start-maximized') #브라우저가 최대화된 상태로 실행됩니다.\n",
    "    # options.add_argument('headless') #headless모드 브라우저가 뜨지 않고 실행됩니다.\n",
    "    #options.add_argument('--window-size= x, y') #실행되는 브라우저 크기를 지정할 수 있습니다.\n",
    "    #options.add_argument('--start-fullscreen') #브라우저가 풀스크린 모드(F11)로 실행됩니다.\n",
    "    #options.add_argument('--blink-settings=imagesEnabled=false') #브라우저에서 이미지 로딩을 하지 않습니다.\n",
    "    options.add_argument('--mute-audio') #브라우저에 음소거 옵션을 적용합니다.\n",
    "    options.add_argument('incognito') #시크릿 모드의 브라우저가 실행됩니다.\n",
    "    driver = webdriver.Chrome(service=service, options=options)\n",
    "\n",
    "    return driver"
   ]
  },
  {
   "cell_type": "code",
   "execution_count": 171,
   "metadata": {},
   "outputs": [],
   "source": [
    "# 원하는 횟수만큼 Scroll down\n",
    "\n",
    "def scrollDown(driver, num: int): \n",
    "    \n",
    "    for _ in tqdm(range(0, num), desc='Scrolling Down...', leave='False'):\n",
    "        driver.execute_script('window.scrollTo(0, document.body.scrollHeight);')\n",
    "        time.sleep(rd.uniform(0.1, 0.3))    \n",
    "\n",
    "    return"
   ]
  },
  {
   "cell_type": "code",
   "execution_count": 169,
   "metadata": {},
   "outputs": [],
   "source": [
    "# start_date부터 end_date까지 3개월 단위로 나누기\n",
    "\n",
    "def getPeriods(start_date, end_date):\n",
    "    \n",
    "    periods = []\n",
    "    while (start_date < end_date):\n",
    "        if (start_date + relativedelta(months=3) > end_date):\n",
    "            periods.append([start_date.strftime(\"%Y.%m.%d\"), end_date.strftime(\"%Y.%m.%d\")])\n",
    "\n",
    "        else:\n",
    "            periods.append([start_date.strftime(\"%Y.%m.%d\"), (start_date + relativedelta(months=3)).strftime(\"%Y.%m.%d\")])\n",
    "        start_date += relativedelta(months=3)\n",
    "    # print(periods)\n",
    "\n",
    "    return periods"
   ]
  },
  {
   "cell_type": "code",
   "execution_count": 176,
   "metadata": {},
   "outputs": [],
   "source": [
    "# 언론사 세팅\n",
    "\n",
    "def setCompany():\n",
    "\n",
    "    company_names = [\"YTN\", \"JTBC\", \"MBC\", \"SBS\", \"국민일보\", \"매일경제\", \"조선일보\", \"중앙일보\", \"아시아경제\", \"한국경제\", \"KBS\", \"한겨례\", \"경향신문\"]\n",
    "    company_codes = {\n",
    "        \"YTN\": \"1052\",\n",
    "        \"JTBC\": \"1437\",\n",
    "        \"MBC\": \"1214\",\n",
    "        \"SBS\": \"1055\",\n",
    "        \"국민일보\": \"1005\",\n",
    "        \"매일경제\": \"1009\",\n",
    "        \"조선일보\": \"1023\",\n",
    "        \"중앙일보\": \"1025\",\n",
    "        \"아시아경제\": \"1277\",\n",
    "        \"한국경제\": \"1015\",\n",
    "        \"KBS\": \"1056\",\n",
    "        \"한겨례\": \"1028\",\n",
    "        \"경향신문\": \"1032\",\n",
    "    }\n",
    "\n",
    "    return company_names, company_codes"
   ]
  },
  {
   "cell_type": "code",
   "execution_count": 173,
   "metadata": {},
   "outputs": [
    {
     "name": "stdout",
     "output_type": "stream",
     "text": [
      "[['2020.09.02', '2020.12.01'], ['2020.12.01', '2021.03.01'], ['2021.03.01', '2021.06.01'], ['2021.06.01', '2021.09.01'], ['2021.09.01', '2021.12.01'], ['2021.12.01', '2022.03.01'], ['2022.03.01', '2022.06.01'], ['2022.06.01', '2022.09.01'], ['2022.09.01', '2022.12.01'], ['2022.12.01', '2023.03.01'], ['2023.03.01', '2023.06.01'], ['2023.06.01', '2023.09.01'], ['2023.09.01', '2023.12.01'], ['2023.12.01', '2023.12.31']]\n"
     ]
    }
   ],
   "source": [
    "# 기간 세팅 (3개월 단위로 나누기)\n",
    "\n",
    "start_date = datetime.datetime.strptime(\"2020.09.01\", \"%Y.%m.%d\")\n",
    "end_date = datetime.datetime.strptime(\"2023.12.31\", \"%Y.%m.%d\")\n",
    "periods = getPeriods(start_date, end_date)\n",
    "\n",
    "periods[0][0] = \"2020.09.02\"\n",
    "print(periods)"
   ]
  },
  {
   "cell_type": "code",
   "execution_count": 197,
   "metadata": {},
   "outputs": [],
   "source": [
    "driver = setWebdriver()"
   ]
  },
  {
   "cell_type": "code",
   "execution_count": 136,
   "metadata": {},
   "outputs": [],
   "source": [
    "company_code = companies[companies_name[0]]\n",
    "query = querys[0]\n",
    "start_date = periods[0][0]    # 시작 날짜\n",
    "end_date = periods[0][1]    # 끝 날짜"
   ]
  },
  {
   "cell_type": "code",
   "execution_count": 137,
   "metadata": {},
   "outputs": [
    {
     "name": "stdout",
     "output_type": "stream",
     "text": [
      "https://search.naver.com/search.naver?where=news&query=국민의힘&sm=tab_clk.jou&sort=0&photo=0&field=0&pd=3&ds=2020.09.02&de=2020.12.01&docid=&related=0&mynews=1&office_type=1&office_section_code=1&news_office_checked=1052&nso=so%3Ar%2Cp%3Afrom20210520to20240520&is_sug_officeid=0&office_category=0&service_area=0\n"
     ]
    }
   ],
   "source": [
    "url = f'https://search.naver.com/search.naver?where=news&query={query}&sm=tab_clk.jou&sort=0&photo=0&field=0&pd=3&ds={start_date}&de={end_date}&docid=&related=0&mynews=1&office_type=1&office_section_code=1&news_office_checked={company_code}&nso=so%3Ar%2Cp%3Afrom20210520to20240520&is_sug_officeid=0&office_category=0&service_area=0'\n",
    "print(url)"
   ]
  },
  {
   "cell_type": "code",
   "execution_count": 198,
   "metadata": {},
   "outputs": [],
   "source": [
    "driver.get(url)"
   ]
  },
  {
   "cell_type": "code",
   "execution_count": 199,
   "metadata": {},
   "outputs": [
    {
     "name": "stderr",
     "output_type": "stream",
     "text": [
      "Scrolling Down...: 100%|██████████| 99/99 [00:21<00:00,  4.66it/s]\n"
     ]
    }
   ],
   "source": [
    "# 아래로 스크롤 할 수 있을 만큼 스크롤 다운\n",
    "scrollDown(driver, 99)"
   ]
  },
  {
   "cell_type": "code",
   "execution_count": 200,
   "metadata": {},
   "outputs": [],
   "source": [
    "news_list = driver.find_elements(By.CLASS_NAME, \"news_tit\")"
   ]
  },
  {
   "cell_type": "code",
   "execution_count": 201,
   "metadata": {},
   "outputs": [
    {
     "name": "stdout",
     "output_type": "stream",
     "text": [
      "1000\n"
     ]
    }
   ],
   "source": [
    "print(len(news_list))"
   ]
  },
  {
   "cell_type": "code",
   "execution_count": 203,
   "metadata": {},
   "outputs": [
    {
     "name": "stdout",
     "output_type": "stream",
     "text": [
      "https://www.ytn.co.kr/_ln/0101_202011301050011782\n"
     ]
    }
   ],
   "source": [
    "news_url = news_list[0].get_attribute('href')\n",
    "print(news_url)"
   ]
  },
  {
   "cell_type": "code",
   "execution_count": 204,
   "metadata": {},
   "outputs": [],
   "source": [
    "article = Article(news_url, language=\"ko\")"
   ]
  },
  {
   "cell_type": "code",
   "execution_count": null,
   "metadata": {},
   "outputs": [],
   "source": [
    "current_url = news_url\n",
    "article = Article(current_url, language=\"ko\")\n",
    "article.download()\n",
    "article.parse()\n",
    "\n",
    "date = article.publish_date;    print(f'date: {date}')\n",
    "authors = article.authors;      print(f'authors: {authors}')\n",
    "title = article.title;  print(f'title: {title}')\n",
    "text = article.text;    print(f'text: {text}')\n",
    "print(f'{\"-\"*200}')\n",
    "\n",
    "# dates.append(date)\n",
    "# titles.append(title)\n",
    "# texts.append(text)"
   ]
  },
  {
   "cell_type": "code",
   "execution_count": 191,
   "metadata": {},
   "outputs": [],
   "source": [
    "def main():\n",
    "    \n",
    "    # 언론사 세팅\n",
    "    company_names, comapny_codes = setCompany()\n",
    "\n",
    "    # 기간 세팅 (3개월 단위로 나누기)\n",
    "    start_date = datetime.datetime.strptime(\"2020.09.01\", \"%Y.%m.%d\")\n",
    "    end_date = datetime.datetime.strptime(\"2023.12.31\", \"%Y.%m.%d\")\n",
    "    periods = getPeriods(start_date, end_date)\n",
    "\n",
    "    # 검색어 세팅\n",
    "    querys = [\"국민의힘\", \"더불어민주당\"]\n",
    "    \n",
    "    \n",
    "    driver = setWebdriver()\n",
    "\n",
    "    for comany in tqdm(company_names, desc=\"Companies...\"):\n",
    "        company_code = comapny_codes[comany]\n",
    "\n",
    "        for period in periods:\n",
    "            start_date = period[0]\n",
    "            end_date = period[1]\n",
    "\n",
    "            for query in querys:\n",
    "                url = f'https://search.naver.com/search.naver?where=news&query={query}&sm=tab_clk.jou&sort=0&photo=0&field=0&pd=3&ds={start_date}&de={end_date}&docid=&related=0&mynews=1&office_type=1&office_section_code=1&news_office_checked={company_code}&nso=so%3Ar%2Cp%3Afrom20210520to20240520&is_sug_officeid=0&office_category=0&service_area=0'\n",
    "\n",
    "                driver.get(url)\n",
    "                time.sleep(1)\n",
    "\n",
    "                scrollDown(driver, 99)  # 아래로 스크롤 할 수 있을 만큼 스크롤 다운\n",
    "\n",
    "                news_list = driver.find_elements(By.CLASS_NAME, \"news_tit\")\n",
    "\n",
    "                for news in news_list:\n",
    "                    news_url = news.get_attribute('herf')\n",
    "\n",
    "                    driver.execute_script(f\"window.open('{news_url}');\")     # 새 탭 열기\n",
    "                    driver.switch_to.window(driver.window_handles[1])       # 새 탭으로 이동\n",
    "\n",
    "                    article = Article(current_url, language=\"ko\")\n",
    "                    article.download()\n",
    "                    article.parse()\n",
    "\n",
    "                    date = article.publish_date;    print(f'date: {date}')\n",
    "                    authors = article.authors;      print(f'authors: {authors}')\n",
    "                    title = article.title;  print(f'title: {title}')\n",
    "                    text = article.text;    print(f'text: {text}')\n",
    "                    print(f'{\"-\"*200}')\n",
    "                    \n",
    "                    time.sleep(1)\n",
    "                    driver.close()                                          # 현재 탭 닫기\n",
    "                    driver.switch_to.window(driver.window_handles[0])       # 0번째 탭으로 이동"
   ]
  },
  {
   "cell_type": "code",
   "execution_count": null,
   "metadata": {},
   "outputs": [],
   "source": [
    "if __name__ == \"__main__\":\n",
    "    main()"
   ]
  },
  {
   "cell_type": "code",
   "execution_count": 195,
   "metadata": {},
   "outputs": [
    {
     "name": "stdout",
     "output_type": "stream",
     "text": [
      "0\n"
     ]
    }
   ],
   "source": [
    "# 첫 번째 탭으로 이동\n",
    "driver.switch_to.window(driver.window_handles[0])\n",
    "\n",
    "news_list = driver.find_elements(By.CLASS_NAME, 'news_tit')\n",
    "print(len(news_list))"
   ]
  },
  {
   "cell_type": "code",
   "execution_count": 206,
   "metadata": {},
   "outputs": [
    {
     "data": {
      "text/html": [
       "<div>\n",
       "<style scoped>\n",
       "    .dataframe tbody tr th:only-of-type {\n",
       "        vertical-align: middle;\n",
       "    }\n",
       "\n",
       "    .dataframe tbody tr th {\n",
       "        vertical-align: top;\n",
       "    }\n",
       "\n",
       "    .dataframe thead th {\n",
       "        text-align: right;\n",
       "    }\n",
       "</style>\n",
       "<table border=\"1\" class=\"dataframe\">\n",
       "  <thead>\n",
       "    <tr style=\"text-align: right;\">\n",
       "      <th></th>\n",
       "      <th>Date</th>\n",
       "      <th>Title</th>\n",
       "      <th>Text</th>\n",
       "    </tr>\n",
       "  </thead>\n",
       "  <tbody>\n",
       "  </tbody>\n",
       "</table>\n",
       "</div>"
      ],
      "text/plain": [
       "Empty DataFrame\n",
       "Columns: [Date, Title, Text]\n",
       "Index: []"
      ]
     },
     "execution_count": 206,
     "metadata": {},
     "output_type": "execute_result"
    }
   ],
   "source": [
    "df = pd.DataFrame(columns=[\"Date\", \"Title\", \"Text\"])\n",
    "df"
   ]
  },
  {
   "cell_type": "code",
   "execution_count": 27,
   "metadata": {},
   "outputs": [
    {
     "data": {
      "text/html": [
       "<div>\n",
       "<style scoped>\n",
       "    .dataframe tbody tr th:only-of-type {\n",
       "        vertical-align: middle;\n",
       "    }\n",
       "\n",
       "    .dataframe tbody tr th {\n",
       "        vertical-align: top;\n",
       "    }\n",
       "\n",
       "    .dataframe thead th {\n",
       "        text-align: right;\n",
       "    }\n",
       "</style>\n",
       "<table border=\"1\" class=\"dataframe\">\n",
       "  <thead>\n",
       "    <tr style=\"text-align: right;\">\n",
       "      <th></th>\n",
       "      <th>Unnamed: 0</th>\n",
       "      <th>Query</th>\n",
       "      <th>Date</th>\n",
       "      <th>Title</th>\n",
       "      <th>Text</th>\n",
       "    </tr>\n",
       "  </thead>\n",
       "  <tbody>\n",
       "    <tr>\n",
       "      <th>0</th>\n",
       "      <td>0</td>\n",
       "      <td>국민의힘</td>\n",
       "      <td>2020-11-28 19:31:00+09:00</td>\n",
       "      <td>김종인 \"추미애 역겹다\"…민주 \"국민의힘 막말 더 역겨워\"</td>\n",
       "      <td>[앵커]여야의 대리전은 오늘(28일)도 계속됐습니다. 서로 말폭탄까지 주고받았는데요...</td>\n",
       "    </tr>\n",
       "    <tr>\n",
       "      <th>1</th>\n",
       "      <td>1</td>\n",
       "      <td>국민의힘</td>\n",
       "      <td>2020-11-27 14:11:00+09:00</td>\n",
       "      <td>추미애 \"판사 사찰, 국민께 보고할 의무…법·절차 따라 진행\"</td>\n",
       "      <td>[앵커]현재 법무부와 대검찰청 상황 어떤지 연결해보겠습니다.이상엽 기자, 추미애 법...</td>\n",
       "    </tr>\n",
       "    <tr>\n",
       "      <th>2</th>\n",
       "      <td>2</td>\n",
       "      <td>국민의힘</td>\n",
       "      <td>2020-11-24 20:25:00+09:00</td>\n",
       "      <td>민주당 \"윤석열이 자초\"…국민의힘 \"추미애 무법전횡\"</td>\n",
       "      <td>[앵커]이번에는 정치권 반응을 확인해보겠습니다.박소연 기자, 청와대 입장 나왔습니까...</td>\n",
       "    </tr>\n",
       "    <tr>\n",
       "      <th>3</th>\n",
       "      <td>3</td>\n",
       "      <td>국민의힘</td>\n",
       "      <td>2020-11-20 20:52:00+09:00</td>\n",
       "      <td>국민의힘 PK 의원들 '가덕도 특별법' 발의…내분 격화</td>\n",
       "      <td>[앵커]부산 가덕도 신공항을 놓고 국민의힘 안에서 갈등이 커지고 있습니다. 부산지역...</td>\n",
       "    </tr>\n",
       "    <tr>\n",
       "      <th>4</th>\n",
       "      <td>4</td>\n",
       "      <td>국민의힘</td>\n",
       "      <td>2020-11-26 09:22:00+09:00</td>\n",
       "      <td>[인터뷰] 정의당 \"문 대통령, 추미애 손 들어준 것…국민 위한 메시지 있어야\"</td>\n",
       "      <td>■ 인용보도 시 프로그램명 'JTBC 아침&amp;'을 밝혀주시기 바랍니다. 저작권은 JT...</td>\n",
       "    </tr>\n",
       "    <tr>\n",
       "      <th>...</th>\n",
       "      <td>...</td>\n",
       "      <td>...</td>\n",
       "      <td>...</td>\n",
       "      <td>...</td>\n",
       "      <td>...</td>\n",
       "    </tr>\n",
       "    <tr>\n",
       "      <th>20708</th>\n",
       "      <td>20708</td>\n",
       "      <td>더불어민주당</td>\n",
       "      <td>2023-12-08 16:37:00+09:00</td>\n",
       "      <td>강정애 보훈장관 후보자, 50년 만기 주담대 막차 탔다</td>\n",
       "      <td>강정애 국가보훈부 장관 후보자가 올해 시중은행에서 50년 만기 주택담보대출을 받은 ...</td>\n",
       "    </tr>\n",
       "    <tr>\n",
       "      <th>20709</th>\n",
       "      <td>20709</td>\n",
       "      <td>더불어민주당</td>\n",
       "      <td>2023-12-06 15:30:00+09:00</td>\n",
       "      <td>박용진 “변희재와 연대 난데없다…송영길 신당 잘 안굴러갈 것”</td>\n",
       "      <td>박용진 더불어민주당 의원이 오늘(6일) JTBC 유튜브 라이브 '장르만 여의도'에 ...</td>\n",
       "    </tr>\n",
       "    <tr>\n",
       "      <th>20710</th>\n",
       "      <td>20710</td>\n",
       "      <td>더불어민주당</td>\n",
       "      <td>2023-12-05 15:56:00+09:00</td>\n",
       "      <td>\"40대와 14살의 사랑?\" 과거 판결 직격…조희대 후보자 대답은 [현장영상]</td>\n",
       "      <td>오늘(5일) 국회에서 열린 대법원장 후보자 인사청문회에서 전용기 더불어민주당 의원은...</td>\n",
       "    </tr>\n",
       "    <tr>\n",
       "      <th>20711</th>\n",
       "      <td>20711</td>\n",
       "      <td>더불어민주당</td>\n",
       "      <td>2023-12-05 20:14:00+09:00</td>\n",
       "      <td>조희대 대법원장 후보자 \"재판지연 실타래 풀겠다\"…야당도 긍정?</td>\n",
       "      <td>[앵커]사법부를 이끄는 대법원장 자리, 두달 넘게 비어있었는데요. 오늘(5일)부터 ...</td>\n",
       "    </tr>\n",
       "    <tr>\n",
       "      <th>20712</th>\n",
       "      <td>20712</td>\n",
       "      <td>더불어민주당</td>\n",
       "      <td>2023-12-04 11:44:00+09:00</td>\n",
       "      <td>김기현 \"이렇게 무도한 야당 있었나\"…이재명 \"청개구리처럼 국정운영\" [현장영상]</td>\n",
       "      <td>오늘(4일) 김기현 국민의힘 대표는 최고위원회의에서 \"더불어민주당은 총선을 위한 정...</td>\n",
       "    </tr>\n",
       "  </tbody>\n",
       "</table>\n",
       "<p>20713 rows × 5 columns</p>\n",
       "</div>"
      ],
      "text/plain": [
       "       Unnamed: 0   Query                       Date  \\\n",
       "0               0    국민의힘  2020-11-28 19:31:00+09:00   \n",
       "1               1    국민의힘  2020-11-27 14:11:00+09:00   \n",
       "2               2    국민의힘  2020-11-24 20:25:00+09:00   \n",
       "3               3    국민의힘  2020-11-20 20:52:00+09:00   \n",
       "4               4    국민의힘  2020-11-26 09:22:00+09:00   \n",
       "...           ...     ...                        ...   \n",
       "20708       20708  더불어민주당  2023-12-08 16:37:00+09:00   \n",
       "20709       20709  더불어민주당  2023-12-06 15:30:00+09:00   \n",
       "20710       20710  더불어민주당  2023-12-05 15:56:00+09:00   \n",
       "20711       20711  더불어민주당  2023-12-05 20:14:00+09:00   \n",
       "20712       20712  더불어민주당  2023-12-04 11:44:00+09:00   \n",
       "\n",
       "                                               Title  \\\n",
       "0                   김종인 \"추미애 역겹다\"…민주 \"국민의힘 막말 더 역겨워\"   \n",
       "1                 추미애 \"판사 사찰, 국민께 보고할 의무…법·절차 따라 진행\"   \n",
       "2                      민주당 \"윤석열이 자초\"…국민의힘 \"추미애 무법전횡\"   \n",
       "3                     국민의힘 PK 의원들 '가덕도 특별법' 발의…내분 격화   \n",
       "4       [인터뷰] 정의당 \"문 대통령, 추미애 손 들어준 것…국민 위한 메시지 있어야\"   \n",
       "...                                              ...   \n",
       "20708                 강정애 보훈장관 후보자, 50년 만기 주담대 막차 탔다   \n",
       "20709             박용진 “변희재와 연대 난데없다…송영길 신당 잘 안굴러갈 것”   \n",
       "20710    \"40대와 14살의 사랑?\" 과거 판결 직격…조희대 후보자 대답은 [현장영상]   \n",
       "20711            조희대 대법원장 후보자 \"재판지연 실타래 풀겠다\"…야당도 긍정?   \n",
       "20712  김기현 \"이렇게 무도한 야당 있었나\"…이재명 \"청개구리처럼 국정운영\" [현장영상]   \n",
       "\n",
       "                                                    Text  \n",
       "0      [앵커]여야의 대리전은 오늘(28일)도 계속됐습니다. 서로 말폭탄까지 주고받았는데요...  \n",
       "1      [앵커]현재 법무부와 대검찰청 상황 어떤지 연결해보겠습니다.이상엽 기자, 추미애 법...  \n",
       "2      [앵커]이번에는 정치권 반응을 확인해보겠습니다.박소연 기자, 청와대 입장 나왔습니까...  \n",
       "3      [앵커]부산 가덕도 신공항을 놓고 국민의힘 안에서 갈등이 커지고 있습니다. 부산지역...  \n",
       "4      ■ 인용보도 시 프로그램명 'JTBC 아침&'을 밝혀주시기 바랍니다. 저작권은 JT...  \n",
       "...                                                  ...  \n",
       "20708  강정애 국가보훈부 장관 후보자가 올해 시중은행에서 50년 만기 주택담보대출을 받은 ...  \n",
       "20709  박용진 더불어민주당 의원이 오늘(6일) JTBC 유튜브 라이브 '장르만 여의도'에 ...  \n",
       "20710  오늘(5일) 국회에서 열린 대법원장 후보자 인사청문회에서 전용기 더불어민주당 의원은...  \n",
       "20711  [앵커]사법부를 이끄는 대법원장 자리, 두달 넘게 비어있었는데요. 오늘(5일)부터 ...  \n",
       "20712  오늘(4일) 김기현 국민의힘 대표는 최고위원회의에서 \"더불어민주당은 총선을 위한 정...  \n",
       "\n",
       "[20713 rows x 5 columns]"
      ]
     },
     "execution_count": 27,
     "metadata": {},
     "output_type": "execute_result"
    }
   ],
   "source": [
    "df = pd.read_csv('../data/JTBC.csv')\n",
    "df"
   ]
  },
  {
   "cell_type": "code",
   "execution_count": 28,
   "metadata": {},
   "outputs": [
    {
     "data": {
      "text/plain": [
       "Unnamed: 0     0\n",
       "Query          0\n",
       "Date          14\n",
       "Title         14\n",
       "Text          20\n",
       "dtype: int64"
      ]
     },
     "execution_count": 28,
     "metadata": {},
     "output_type": "execute_result"
    }
   ],
   "source": [
    "df.isnull().sum()"
   ]
  },
  {
   "cell_type": "code",
   "execution_count": 5,
   "metadata": {},
   "outputs": [],
   "source": [
    "import pandas as pd\n",
    "tmp1 = pd.DataFrame(columns=[\"Query\", \"Date\", \"Title\", \"Text\"])"
   ]
  },
  {
   "cell_type": "code",
   "execution_count": 18,
   "metadata": {},
   "outputs": [],
   "source": [
    "\n",
    "tmp3 = pd.DataFrame({\"Query\": \"123\", \"Date\": \"12\", \"Title\": '123', \"Text\": '123'}, index=([len(tmp)]))\n",
    "tmp = pd.concat([tmp, tmp3])"
   ]
  },
  {
   "cell_type": "code",
   "execution_count": 19,
   "metadata": {},
   "outputs": [
    {
     "data": {
      "text/html": [
       "<div>\n",
       "<style scoped>\n",
       "    .dataframe tbody tr th:only-of-type {\n",
       "        vertical-align: middle;\n",
       "    }\n",
       "\n",
       "    .dataframe tbody tr th {\n",
       "        vertical-align: top;\n",
       "    }\n",
       "\n",
       "    .dataframe thead th {\n",
       "        text-align: right;\n",
       "    }\n",
       "</style>\n",
       "<table border=\"1\" class=\"dataframe\">\n",
       "  <thead>\n",
       "    <tr style=\"text-align: right;\">\n",
       "      <th></th>\n",
       "      <th>Query</th>\n",
       "      <th>Date</th>\n",
       "      <th>Title</th>\n",
       "      <th>Text</th>\n",
       "    </tr>\n",
       "  </thead>\n",
       "  <tbody>\n",
       "    <tr>\n",
       "      <th>0</th>\n",
       "      <td>123</td>\n",
       "      <td>12</td>\n",
       "      <td>123</td>\n",
       "      <td>123</td>\n",
       "    </tr>\n",
       "    <tr>\n",
       "      <th>0</th>\n",
       "      <td>123</td>\n",
       "      <td>12</td>\n",
       "      <td>123</td>\n",
       "      <td>123</td>\n",
       "    </tr>\n",
       "    <tr>\n",
       "      <th>2</th>\n",
       "      <td>123</td>\n",
       "      <td>12</td>\n",
       "      <td>123</td>\n",
       "      <td>123</td>\n",
       "    </tr>\n",
       "    <tr>\n",
       "      <th>3</th>\n",
       "      <td>123</td>\n",
       "      <td>12</td>\n",
       "      <td>123</td>\n",
       "      <td>123</td>\n",
       "    </tr>\n",
       "  </tbody>\n",
       "</table>\n",
       "</div>"
      ],
      "text/plain": [
       "  Query Date Title Text\n",
       "0   123   12   123  123\n",
       "0   123   12   123  123\n",
       "2   123   12   123  123\n",
       "3   123   12   123  123"
      ]
     },
     "execution_count": 19,
     "metadata": {},
     "output_type": "execute_result"
    }
   ],
   "source": [
    "tmp"
   ]
  }
 ],
 "metadata": {
  "kernelspec": {
   "display_name": "project-D53q-EhT",
   "language": "python",
   "name": "python3"
  },
  "language_info": {
   "codemirror_mode": {
    "name": "ipython",
    "version": 3
   },
   "file_extension": ".py",
   "mimetype": "text/x-python",
   "name": "python",
   "nbconvert_exporter": "python",
   "pygments_lexer": "ipython3",
   "version": "3.9.13"
  }
 },
 "nbformat": 4,
 "nbformat_minor": 2
}
