{
 "cells": [
  {
   "cell_type": "code",
   "execution_count": 165,
   "metadata": {},
   "outputs": [],
   "source": [
    "# import the libraries\n",
    "import time\n",
    "import re\n",
    "import random as rd\n",
    "import pandas as pd\n",
    "import numpy as np\n",
    "import collections\n",
    "from tqdm import tqdm\n",
    "import pickle\n",
    "import datetime\n",
    "from dateutil.relativedelta import relativedelta\n",
    "\n",
    "import requests\n",
    "from bs4 import BeautifulSoup as bs\n",
    "from selenium import webdriver\n",
    "from webdriver_manager.chrome import ChromeDriverManager\n",
    "\n",
    "from selenium.webdriver.common.by import By\n",
    "from selenium.webdriver.common.keys import Keys\n",
    "from selenium.webdriver.support.ui import WebDriverWait\n",
    "from selenium.webdriver.support import expected_conditions as EC\n",
    "from selenium.webdriver.chrome.service import Service as ChromeService\n",
    "from selenium.webdriver.chrome.options import Options as ChromeOptions\n",
    "from selenium.common.exceptions import NoSuchElementException\n",
    "from selenium.common.exceptions import TimeoutException\n",
    "from webdriver_manager.chrome import ChromeDriverManager\n",
    "\n",
    "from newspaper import Article"
   ]
  },
  {
   "cell_type": "code",
   "execution_count": 166,
   "metadata": {},
   "outputs": [],
   "source": [
    "# Driver setting\n",
    "user_agent = \"Mozilla/5.0 (Windows NT 10.0; Win64; x64) AppleWebKit/537.36 (KHTML, like Gecko) Chrome/58.0.3029.110 Safari/537.3\"\n",
    "headers = {\n",
    "    \"User-Agent\": user_agent\n",
    "}\n",
    "\n",
    "def setWebdriver():\n",
    "    service = ChromeService(executable_path=ChromeDriverManager().install())    # 크롬 드라이버 최신 버전 설정\n",
    "\n",
    "    options = ChromeOptions()\n",
    "    options.add_argument('user-agent=' + user_agent)\n",
    "    options.add_argument('--start-maximized') #브라우저가 최대화된 상태로 실행됩니다.\n",
    "    # options.add_argument('headless') #headless모드 브라우저가 뜨지 않고 실행됩니다.\n",
    "    #options.add_argument('--window-size= x, y') #실행되는 브라우저 크기를 지정할 수 있습니다.\n",
    "    #options.add_argument('--start-fullscreen') #브라우저가 풀스크린 모드(F11)로 실행됩니다.\n",
    "    #options.add_argument('--blink-settings=imagesEnabled=false') #브라우저에서 이미지 로딩을 하지 않습니다.\n",
    "    options.add_argument('--mute-audio') #브라우저에 음소거 옵션을 적용합니다.\n",
    "    options.add_argument('incognito') #시크릿 모드의 브라우저가 실행됩니다.\n",
    "    driver = webdriver.Chrome(service=service, options=options)\n",
    "\n",
    "    return driver"
   ]
  },
  {
   "cell_type": "code",
   "execution_count": 171,
   "metadata": {},
   "outputs": [],
   "source": [
    "# 원하는 횟수만큼 Scroll down\n",
    "\n",
    "def scrollDown(driver, num: int): \n",
    "    \n",
    "    for _ in tqdm(range(0, num), desc='Scrolling Down...', leave='False'):\n",
    "        driver.execute_script('window.scrollTo(0, document.body.scrollHeight);')\n",
    "        time.sleep(rd.uniform(0.1, 0.3))    \n",
    "\n",
    "    return"
   ]
  },
  {
   "cell_type": "code",
   "execution_count": 169,
   "metadata": {},
   "outputs": [],
   "source": [
    "# start_date부터 end_date까지 3개월 단위로 나누기\n",
    "\n",
    "def getPeriods(start_date, end_date):\n",
    "    \n",
    "    periods = []\n",
    "    while (start_date < end_date):\n",
    "        if (start_date + relativedelta(months=3) > end_date):\n",
    "            periods.append([start_date.strftime(\"%Y.%m.%d\"), end_date.strftime(\"%Y.%m.%d\")])\n",
    "\n",
    "        else:\n",
    "            periods.append([start_date.strftime(\"%Y.%m.%d\"), (start_date + relativedelta(months=3)).strftime(\"%Y.%m.%d\")])\n",
    "        start_date += relativedelta(months=3)\n",
    "    # print(periods)\n",
    "\n",
    "    return periods"
   ]
  },
  {
   "cell_type": "code",
   "execution_count": 176,
   "metadata": {},
   "outputs": [],
   "source": [
    "# 언론사 세팅\n",
    "\n",
    "def setCompany():\n",
    "\n",
    "    company_names = [\"YTN\", \"JTBC\", \"MBC\", \"SBS\", \"국민일보\", \"매일경제\", \"조선일보\", \"중앙일보\", \"아시아경제\", \"한국경제\", \"KBS\", \"한겨례\", \"경향신문\"]\n",
    "    company_codes = {\n",
    "        \"YTN\": \"1052\",\n",
    "        \"JTBC\": \"1437\",\n",
    "        \"MBC\": \"1214\",\n",
    "        \"SBS\": \"1055\",\n",
    "        \"국민일보\": \"1005\",\n",
    "        \"매일경제\": \"1009\",\n",
    "        \"조선일보\": \"1023\",\n",
    "        \"중앙일보\": \"1025\",\n",
    "        \"아시아경제\": \"1277\",\n",
    "        \"한국경제\": \"1015\",\n",
    "        \"KBS\": \"1056\",\n",
    "        \"한겨례\": \"1028\",\n",
    "        \"경향신문\": \"1032\",\n",
    "    }\n",
    "\n",
    "    return company_names, company_codes"
   ]
  },
  {
   "cell_type": "code",
   "execution_count": 173,
   "metadata": {},
   "outputs": [
    {
     "name": "stdout",
     "output_type": "stream",
     "text": [
      "[['2020.09.02', '2020.12.01'], ['2020.12.01', '2021.03.01'], ['2021.03.01', '2021.06.01'], ['2021.06.01', '2021.09.01'], ['2021.09.01', '2021.12.01'], ['2021.12.01', '2022.03.01'], ['2022.03.01', '2022.06.01'], ['2022.06.01', '2022.09.01'], ['2022.09.01', '2022.12.01'], ['2022.12.01', '2023.03.01'], ['2023.03.01', '2023.06.01'], ['2023.06.01', '2023.09.01'], ['2023.09.01', '2023.12.01'], ['2023.12.01', '2023.12.31']]\n"
     ]
    }
   ],
   "source": [
    "# 기간 세팅 (3개월 단위로 나누기)\n",
    "\n",
    "start_date = datetime.datetime.strptime(\"2020.09.01\", \"%Y.%m.%d\")\n",
    "end_date = datetime.datetime.strptime(\"2023.12.31\", \"%Y.%m.%d\")\n",
    "periods = getPeriods(start_date, end_date)\n",
    "\n",
    "periods[0][0] = \"2020.09.02\"\n",
    "print(periods)"
   ]
  },
  {
   "cell_type": "code",
   "execution_count": 197,
   "metadata": {},
   "outputs": [],
   "source": [
    "driver = setWebdriver()"
   ]
  },
  {
   "cell_type": "code",
   "execution_count": 136,
   "metadata": {},
   "outputs": [],
   "source": [
    "company_code = companies[companies_name[0]]\n",
    "query = querys[0]\n",
    "start_date = periods[0][0]    # 시작 날짜\n",
    "end_date = periods[0][1]    # 끝 날짜"
   ]
  },
  {
   "cell_type": "code",
   "execution_count": 137,
   "metadata": {},
   "outputs": [
    {
     "name": "stdout",
     "output_type": "stream",
     "text": [
      "https://search.naver.com/search.naver?where=news&query=국민의힘&sm=tab_clk.jou&sort=0&photo=0&field=0&pd=3&ds=2020.09.02&de=2020.12.01&docid=&related=0&mynews=1&office_type=1&office_section_code=1&news_office_checked=1052&nso=so%3Ar%2Cp%3Afrom20210520to20240520&is_sug_officeid=0&office_category=0&service_area=0\n"
     ]
    }
   ],
   "source": [
    "url = f'https://search.naver.com/search.naver?where=news&query={query}&sm=tab_clk.jou&sort=0&photo=0&field=0&pd=3&ds={start_date}&de={end_date}&docid=&related=0&mynews=1&office_type=1&office_section_code=1&news_office_checked={company_code}&nso=so%3Ar%2Cp%3Afrom20210520to20240520&is_sug_officeid=0&office_category=0&service_area=0'\n",
    "print(url)"
   ]
  },
  {
   "cell_type": "code",
   "execution_count": 198,
   "metadata": {},
   "outputs": [],
   "source": [
    "driver.get(url)"
   ]
  },
  {
   "cell_type": "code",
   "execution_count": 199,
   "metadata": {},
   "outputs": [
    {
     "name": "stderr",
     "output_type": "stream",
     "text": [
      "Scrolling Down...: 100%|██████████| 99/99 [00:21<00:00,  4.66it/s]\n"
     ]
    }
   ],
   "source": [
    "# 아래로 스크롤 할 수 있을 만큼 스크롤 다운\n",
    "scrollDown(driver, 99)"
   ]
  },
  {
   "cell_type": "code",
   "execution_count": 200,
   "metadata": {},
   "outputs": [],
   "source": [
    "news_list = driver.find_elements(By.CLASS_NAME, \"news_tit\")"
   ]
  },
  {
   "cell_type": "code",
   "execution_count": 201,
   "metadata": {},
   "outputs": [
    {
     "name": "stdout",
     "output_type": "stream",
     "text": [
      "1000\n"
     ]
    }
   ],
   "source": [
    "print(len(news_list))"
   ]
  },
  {
   "cell_type": "code",
   "execution_count": 203,
   "metadata": {},
   "outputs": [
    {
     "name": "stdout",
     "output_type": "stream",
     "text": [
      "https://www.ytn.co.kr/_ln/0101_202011301050011782\n"
     ]
    }
   ],
   "source": [
    "news_url = news_list[0].get_attribute('href')\n",
    "print(news_url)"
   ]
  },
  {
   "cell_type": "code",
   "execution_count": 204,
   "metadata": {},
   "outputs": [],
   "source": [
    "article = Article(news_url, language=\"ko\")"
   ]
  },
  {
   "cell_type": "code",
   "execution_count": null,
   "metadata": {},
   "outputs": [],
   "source": [
    "current_url = news_url\n",
    "article = Article(current_url, language=\"ko\")\n",
    "article.download()\n",
    "article.parse()\n",
    "\n",
    "date = article.publish_date;    print(f'date: {date}')\n",
    "authors = article.authors;      print(f'authors: {authors}')\n",
    "title = article.title;  print(f'title: {title}')\n",
    "text = article.text;    print(f'text: {text}')\n",
    "print(f'{\"-\"*200}')\n",
    "\n",
    "# dates.append(date)\n",
    "# titles.append(title)\n",
    "# texts.append(text)"
   ]
  },
  {
   "cell_type": "code",
   "execution_count": 191,
   "metadata": {},
   "outputs": [],
   "source": [
    "def main():\n",
    "    \n",
    "    # 언론사 세팅\n",
    "    company_names, comapny_codes = setCompany()\n",
    "\n",
    "    # 기간 세팅 (3개월 단위로 나누기)\n",
    "    start_date = datetime.datetime.strptime(\"2020.09.01\", \"%Y.%m.%d\")\n",
    "    end_date = datetime.datetime.strptime(\"2023.12.31\", \"%Y.%m.%d\")\n",
    "    periods = getPeriods(start_date, end_date)\n",
    "\n",
    "    # 검색어 세팅\n",
    "    querys = [\"국민의힘\", \"더불어민주당\"]\n",
    "    \n",
    "    \n",
    "    driver = setWebdriver()\n",
    "\n",
    "    for comany in tqdm(company_names, desc=\"Companies...\"):\n",
    "        company_code = comapny_codes[comany]\n",
    "\n",
    "        for period in periods:\n",
    "            start_date = period[0]\n",
    "            end_date = period[1]\n",
    "\n",
    "            for query in querys:\n",
    "                url = f'https://search.naver.com/search.naver?where=news&query={query}&sm=tab_clk.jou&sort=0&photo=0&field=0&pd=3&ds={start_date}&de={end_date}&docid=&related=0&mynews=1&office_type=1&office_section_code=1&news_office_checked={company_code}&nso=so%3Ar%2Cp%3Afrom20210520to20240520&is_sug_officeid=0&office_category=0&service_area=0'\n",
    "\n",
    "                driver.get(url)\n",
    "                time.sleep(1)\n",
    "\n",
    "                scrollDown(driver, 99)  # 아래로 스크롤 할 수 있을 만큼 스크롤 다운\n",
    "\n",
    "                news_list = driver.find_elements(By.CLASS_NAME, \"news_tit\")\n",
    "\n",
    "                for news in news_list:\n",
    "                    news_url = news.get_attribute('herf')\n",
    "\n",
    "                    driver.execute_script(f\"window.open('{news_url}');\")     # 새 탭 열기\n",
    "                    driver.switch_to.window(driver.window_handles[1])       # 새 탭으로 이동\n",
    "\n",
    "                    article = Article(current_url, language=\"ko\")\n",
    "                    article.download()\n",
    "                    article.parse()\n",
    "\n",
    "                    date = article.publish_date;    print(f'date: {date}')\n",
    "                    authors = article.authors;      print(f'authors: {authors}')\n",
    "                    title = article.title;  print(f'title: {title}')\n",
    "                    text = article.text;    print(f'text: {text}')\n",
    "                    print(f'{\"-\"*200}')\n",
    "                    \n",
    "                    time.sleep(1)\n",
    "                    driver.close()                                          # 현재 탭 닫기\n",
    "                    driver.switch_to.window(driver.window_handles[0])       # 0번째 탭으로 이동"
   ]
  },
  {
   "cell_type": "code",
   "execution_count": null,
   "metadata": {},
   "outputs": [],
   "source": [
    "if __name__ == \"__main__\":\n",
    "    main()"
   ]
  },
  {
   "cell_type": "code",
   "execution_count": 195,
   "metadata": {},
   "outputs": [
    {
     "name": "stdout",
     "output_type": "stream",
     "text": [
      "0\n"
     ]
    }
   ],
   "source": [
    "# 첫 번째 탭으로 이동\n",
    "driver.switch_to.window(driver.window_handles[0])\n",
    "\n",
    "news_list = driver.find_elements(By.CLASS_NAME, 'news_tit')\n",
    "print(len(news_list))"
   ]
  },
  {
   "cell_type": "code",
   "execution_count": 206,
   "metadata": {},
   "outputs": [
    {
     "data": {
      "text/html": [
       "<div>\n",
       "<style scoped>\n",
       "    .dataframe tbody tr th:only-of-type {\n",
       "        vertical-align: middle;\n",
       "    }\n",
       "\n",
       "    .dataframe tbody tr th {\n",
       "        vertical-align: top;\n",
       "    }\n",
       "\n",
       "    .dataframe thead th {\n",
       "        text-align: right;\n",
       "    }\n",
       "</style>\n",
       "<table border=\"1\" class=\"dataframe\">\n",
       "  <thead>\n",
       "    <tr style=\"text-align: right;\">\n",
       "      <th></th>\n",
       "      <th>Date</th>\n",
       "      <th>Title</th>\n",
       "      <th>Text</th>\n",
       "    </tr>\n",
       "  </thead>\n",
       "  <tbody>\n",
       "  </tbody>\n",
       "</table>\n",
       "</div>"
      ],
      "text/plain": [
       "Empty DataFrame\n",
       "Columns: [Date, Title, Text]\n",
       "Index: []"
      ]
     },
     "execution_count": 206,
     "metadata": {},
     "output_type": "execute_result"
    }
   ],
   "source": [
    "df = pd.DataFrame(columns=[\"Date\", \"Title\", \"Text\"])\n",
    "df"
   ]
  },
  {
   "cell_type": "code",
   "execution_count": 30,
   "metadata": {},
   "outputs": [
    {
     "data": {
      "text/html": [
       "<div>\n",
       "<style scoped>\n",
       "    .dataframe tbody tr th:only-of-type {\n",
       "        vertical-align: middle;\n",
       "    }\n",
       "\n",
       "    .dataframe tbody tr th {\n",
       "        vertical-align: top;\n",
       "    }\n",
       "\n",
       "    .dataframe thead th {\n",
       "        text-align: right;\n",
       "    }\n",
       "</style>\n",
       "<table border=\"1\" class=\"dataframe\">\n",
       "  <thead>\n",
       "    <tr style=\"text-align: right;\">\n",
       "      <th></th>\n",
       "      <th>Unnamed: 0</th>\n",
       "      <th>Query</th>\n",
       "      <th>Date</th>\n",
       "      <th>Title</th>\n",
       "      <th>Text</th>\n",
       "    </tr>\n",
       "  </thead>\n",
       "  <tbody>\n",
       "    <tr>\n",
       "      <th>0</th>\n",
       "      <td>0</td>\n",
       "      <td>국민의힘</td>\n",
       "      <td>2020-12-01 17:40:51+09:00</td>\n",
       "      <td>경찰청장, 국민의힘 초선-경찰 대치에 \"매끄럽지 못했다\"</td>\n",
       "      <td>전체재생\\n\\n김창룡 경찰청장은 청와대 연풍문 앞에서 벌어진 국민의힘 초선의원들과 ...</td>\n",
       "    </tr>\n",
       "    <tr>\n",
       "      <th>1</th>\n",
       "      <td>1</td>\n",
       "      <td>국민의힘</td>\n",
       "      <td>2020-11-30 10:05:04+09:00</td>\n",
       "      <td>국민의힘 \"최재성, 코로나 방역수칙상 못만난다더니 조기축구\"</td>\n",
       "      <td>전체재생\\n\\n지난 27일부터 청와대 앞에서 릴레이 1인 시위를 벌이고 있는 국민의...</td>\n",
       "    </tr>\n",
       "    <tr>\n",
       "      <th>2</th>\n",
       "      <td>2</td>\n",
       "      <td>국민의힘</td>\n",
       "      <td>2020-11-30 13:46:31+09:00</td>\n",
       "      <td>국민의힘, 재보궐선거 공약개발단 구성…추경호·지상욱 등 참여</td>\n",
       "      <td>전체재생\\n\\n국민의힘이 내년 서울시장과 부산시장 보궐선거의 공약을 개발할 '4·7...</td>\n",
       "    </tr>\n",
       "    <tr>\n",
       "      <th>3</th>\n",
       "      <td>3</td>\n",
       "      <td>국민의힘</td>\n",
       "      <td>2020-11-30 17:48:27+09:00</td>\n",
       "      <td>국민의힘, 윤호중 법사위원장 징계안 제출…\"인격모독\"</td>\n",
       "      <td>전체재생\\n\\n국민의힘 의원들이 오늘 국회 의안과에 더불어민주당 소속 윤호중 법제사...</td>\n",
       "    </tr>\n",
       "    <tr>\n",
       "      <th>4</th>\n",
       "      <td>4</td>\n",
       "      <td>국민의힘</td>\n",
       "      <td>2020-12-01 10:27:13+09:00</td>\n",
       "      <td>국민의힘 초선 의원들 \"1인시위 할수록 청와대 불통 느껴\"</td>\n",
       "      <td>전체재생\\n\\n국민의힘 초선 의원들이 \"청와대 앞에서 1인 시위를 하면 할수록 청와...</td>\n",
       "    </tr>\n",
       "    <tr>\n",
       "      <th>...</th>\n",
       "      <td>...</td>\n",
       "      <td>...</td>\n",
       "      <td>...</td>\n",
       "      <td>...</td>\n",
       "      <td>...</td>\n",
       "    </tr>\n",
       "    <tr>\n",
       "      <th>27530</th>\n",
       "      <td>27530</td>\n",
       "      <td>더불어민주당</td>\n",
       "      <td>NaN</td>\n",
       "      <td>[시선집중] 이상민 \"당 뜯어고치지 못할 바엔 깔끔한 결별.. 국민의힘? 모든 가능...</td>\n",
       "      <td>\\n\\n\\n\\n■ 방송 : MBC 라디오 표준FM 95.9MHz &lt;김종배의 시선집중...</td>\n",
       "    </tr>\n",
       "    <tr>\n",
       "      <th>27531</th>\n",
       "      <td>27531</td>\n",
       "      <td>더불어민주당</td>\n",
       "      <td>NaN</td>\n",
       "      <td>[시선집중] 홍익표 “이낙연 신당, 가능성 높지 않아. 내년 총선 당에서 역할하셔야”</td>\n",
       "      <td>\\n\\n\\n\\n■ 방송 : MBC 라디오 표준FM 95.9MHz &lt;김종배의 시선집중...</td>\n",
       "    </tr>\n",
       "    <tr>\n",
       "      <th>27532</th>\n",
       "      <td>27532</td>\n",
       "      <td>더불어민주당</td>\n",
       "      <td>NaN</td>\n",
       "      <td>[시선집중] 홍익표 “이동관, 사퇴 ‘당한’ 것. 용산 주변에서 오래전부터 얘기 나와”</td>\n",
       "      <td>\\n\\n\\n\\n■ 방송 : MBC 라디오 표준FM 95.9MHz &lt;김종배의 시선집중...</td>\n",
       "    </tr>\n",
       "    <tr>\n",
       "      <th>27533</th>\n",
       "      <td>27533</td>\n",
       "      <td>더불어민주당</td>\n",
       "      <td>NaN</td>\n",
       "      <td>[시선집중] 장동혁 “與, 준예산 정국 만들어 야당 탓? 합의 원만한데.. 이재명 ...</td>\n",
       "      <td>\\n\\n\\n\\n■ 방송 : MBC 라디오 표준FM 95.9MHz &lt;김종배의 시선집중...</td>\n",
       "    </tr>\n",
       "    <tr>\n",
       "      <th>27534</th>\n",
       "      <td>27534</td>\n",
       "      <td>더불어민주당</td>\n",
       "      <td>NaN</td>\n",
       "      <td>[뉴스하이킥] 고민정 \"이동관 사퇴? 대통령 몫 누가 와도 제2·제3의 탄핵 진행할 것\"</td>\n",
       "      <td>* 아래 텍스트는 실제 방송 내용과 차이가 있을 수 있으니 보다 정확한 내용은 방송...</td>\n",
       "    </tr>\n",
       "  </tbody>\n",
       "</table>\n",
       "<p>27535 rows × 5 columns</p>\n",
       "</div>"
      ],
      "text/plain": [
       "       Unnamed: 0   Query                       Date  \\\n",
       "0               0    국민의힘  2020-12-01 17:40:51+09:00   \n",
       "1               1    국민의힘  2020-11-30 10:05:04+09:00   \n",
       "2               2    국민의힘  2020-11-30 13:46:31+09:00   \n",
       "3               3    국민의힘  2020-11-30 17:48:27+09:00   \n",
       "4               4    국민의힘  2020-12-01 10:27:13+09:00   \n",
       "...           ...     ...                        ...   \n",
       "27530       27530  더불어민주당                        NaN   \n",
       "27531       27531  더불어민주당                        NaN   \n",
       "27532       27532  더불어민주당                        NaN   \n",
       "27533       27533  더불어민주당                        NaN   \n",
       "27534       27534  더불어민주당                        NaN   \n",
       "\n",
       "                                                   Title  \\\n",
       "0                        경찰청장, 국민의힘 초선-경찰 대치에 \"매끄럽지 못했다\"   \n",
       "1                      국민의힘 \"최재성, 코로나 방역수칙상 못만난다더니 조기축구\"   \n",
       "2                      국민의힘, 재보궐선거 공약개발단 구성…추경호·지상욱 등 참여   \n",
       "3                          국민의힘, 윤호중 법사위원장 징계안 제출…\"인격모독\"   \n",
       "4                       국민의힘 초선 의원들 \"1인시위 할수록 청와대 불통 느껴\"   \n",
       "...                                                  ...   \n",
       "27530  [시선집중] 이상민 \"당 뜯어고치지 못할 바엔 깔끔한 결별.. 국민의힘? 모든 가능...   \n",
       "27531    [시선집중] 홍익표 “이낙연 신당, 가능성 높지 않아. 내년 총선 당에서 역할하셔야”   \n",
       "27532   [시선집중] 홍익표 “이동관, 사퇴 ‘당한’ 것. 용산 주변에서 오래전부터 얘기 나와”   \n",
       "27533  [시선집중] 장동혁 “與, 준예산 정국 만들어 야당 탓? 합의 원만한데.. 이재명 ...   \n",
       "27534  [뉴스하이킥] 고민정 \"이동관 사퇴? 대통령 몫 누가 와도 제2·제3의 탄핵 진행할 것\"   \n",
       "\n",
       "                                                    Text  \n",
       "0      전체재생\\n\\n김창룡 경찰청장은 청와대 연풍문 앞에서 벌어진 국민의힘 초선의원들과 ...  \n",
       "1      전체재생\\n\\n지난 27일부터 청와대 앞에서 릴레이 1인 시위를 벌이고 있는 국민의...  \n",
       "2      전체재생\\n\\n국민의힘이 내년 서울시장과 부산시장 보궐선거의 공약을 개발할 '4·7...  \n",
       "3      전체재생\\n\\n국민의힘 의원들이 오늘 국회 의안과에 더불어민주당 소속 윤호중 법제사...  \n",
       "4      전체재생\\n\\n국민의힘 초선 의원들이 \"청와대 앞에서 1인 시위를 하면 할수록 청와...  \n",
       "...                                                  ...  \n",
       "27530  \\n\\n\\n\\n■ 방송 : MBC 라디오 표준FM 95.9MHz <김종배의 시선집중...  \n",
       "27531  \\n\\n\\n\\n■ 방송 : MBC 라디오 표준FM 95.9MHz <김종배의 시선집중...  \n",
       "27532  \\n\\n\\n\\n■ 방송 : MBC 라디오 표준FM 95.9MHz <김종배의 시선집중...  \n",
       "27533  \\n\\n\\n\\n■ 방송 : MBC 라디오 표준FM 95.9MHz <김종배의 시선집중...  \n",
       "27534  * 아래 텍스트는 실제 방송 내용과 차이가 있을 수 있으니 보다 정확한 내용은 방송...  \n",
       "\n",
       "[27535 rows x 5 columns]"
      ]
     },
     "execution_count": 30,
     "metadata": {},
     "output_type": "execute_result"
    }
   ],
   "source": [
    "df = pd.read_csv('../data/MBC.csv')\n",
    "df"
   ]
  },
  {
   "cell_type": "code",
   "execution_count": 28,
   "metadata": {},
   "outputs": [
    {
     "data": {
      "text/plain": [
       "Unnamed: 0     0\n",
       "Query          0\n",
       "Date          14\n",
       "Title         14\n",
       "Text          20\n",
       "dtype: int64"
      ]
     },
     "execution_count": 28,
     "metadata": {},
     "output_type": "execute_result"
    }
   ],
   "source": [
    "df.isnull().sum()"
   ]
  },
  {
   "cell_type": "code",
   "execution_count": 5,
   "metadata": {},
   "outputs": [],
   "source": [
    "import pandas as pd\n",
    "tmp1 = pd.DataFrame(columns=[\"Query\", \"Date\", \"Title\", \"Text\"])"
   ]
  },
  {
   "cell_type": "code",
   "execution_count": 18,
   "metadata": {},
   "outputs": [],
   "source": [
    "\n",
    "tmp3 = pd.DataFrame({\"Query\": \"123\", \"Date\": \"12\", \"Title\": '123', \"Text\": '123'}, index=([len(tmp)]))\n",
    "tmp = pd.concat([tmp, tmp3])"
   ]
  },
  {
   "cell_type": "code",
   "execution_count": 19,
   "metadata": {},
   "outputs": [
    {
     "data": {
      "text/html": [
       "<div>\n",
       "<style scoped>\n",
       "    .dataframe tbody tr th:only-of-type {\n",
       "        vertical-align: middle;\n",
       "    }\n",
       "\n",
       "    .dataframe tbody tr th {\n",
       "        vertical-align: top;\n",
       "    }\n",
       "\n",
       "    .dataframe thead th {\n",
       "        text-align: right;\n",
       "    }\n",
       "</style>\n",
       "<table border=\"1\" class=\"dataframe\">\n",
       "  <thead>\n",
       "    <tr style=\"text-align: right;\">\n",
       "      <th></th>\n",
       "      <th>Query</th>\n",
       "      <th>Date</th>\n",
       "      <th>Title</th>\n",
       "      <th>Text</th>\n",
       "    </tr>\n",
       "  </thead>\n",
       "  <tbody>\n",
       "    <tr>\n",
       "      <th>0</th>\n",
       "      <td>123</td>\n",
       "      <td>12</td>\n",
       "      <td>123</td>\n",
       "      <td>123</td>\n",
       "    </tr>\n",
       "    <tr>\n",
       "      <th>0</th>\n",
       "      <td>123</td>\n",
       "      <td>12</td>\n",
       "      <td>123</td>\n",
       "      <td>123</td>\n",
       "    </tr>\n",
       "    <tr>\n",
       "      <th>2</th>\n",
       "      <td>123</td>\n",
       "      <td>12</td>\n",
       "      <td>123</td>\n",
       "      <td>123</td>\n",
       "    </tr>\n",
       "    <tr>\n",
       "      <th>3</th>\n",
       "      <td>123</td>\n",
       "      <td>12</td>\n",
       "      <td>123</td>\n",
       "      <td>123</td>\n",
       "    </tr>\n",
       "  </tbody>\n",
       "</table>\n",
       "</div>"
      ],
      "text/plain": [
       "  Query Date Title Text\n",
       "0   123   12   123  123\n",
       "0   123   12   123  123\n",
       "2   123   12   123  123\n",
       "3   123   12   123  123"
      ]
     },
     "execution_count": 19,
     "metadata": {},
     "output_type": "execute_result"
    }
   ],
   "source": [
    "tmp"
   ]
  }
 ],
 "metadata": {
  "kernelspec": {
   "display_name": "project-D53q-EhT",
   "language": "python",
   "name": "python3"
  },
  "language_info": {
   "codemirror_mode": {
    "name": "ipython",
    "version": 3
   },
   "file_extension": ".py",
   "mimetype": "text/x-python",
   "name": "python",
   "nbconvert_exporter": "python",
   "pygments_lexer": "ipython3",
   "version": "3.9.13"
  }
 },
 "nbformat": 4,
 "nbformat_minor": 2
}
