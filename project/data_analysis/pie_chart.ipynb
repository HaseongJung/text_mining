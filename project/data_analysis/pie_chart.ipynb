{
 "cells": [
  {
   "cell_type": "code",
   "execution_count": 3,
   "metadata": {},
   "outputs": [],
   "source": [
    "import pandas as pd\n",
    "import matplotlib.pyplot as plt"
   ]
  },
  {
   "cell_type": "code",
   "execution_count": 6,
   "metadata": {},
   "outputs": [],
   "source": [
    "df1 = pd.read_feather('../data/data_analysis/added_mainTopic.feather')\n",
    "df2 = pd.read_feather('../data/data_analysis/added_mainTopic2.feather')"
   ]
  },
  {
   "cell_type": "code",
   "execution_count": 7,
   "metadata": {},
   "outputs": [
    {
     "name": "stdout",
     "output_type": "stream",
     "text": [
      "Main_topic\n",
      "국민의힘      23566\n",
      "더불어민주당    12664\n",
      "Name: count, dtype: int64\n",
      "Null values: 145594\n",
      "\n",
      "Main_topic\n",
      "국민의힘      39672\n",
      "더불어민주당    21793\n",
      "Name: count, dtype: int64\n",
      "Null values: 120359\n"
     ]
    }
   ],
   "source": [
    "print(df1.Main_topic.value_counts())\n",
    "print(f\"Null values: {df1.Main_topic.isnull().sum()}\")\n",
    "print()\n",
    "print(df2.Main_topic.value_counts())\n",
    "print(f\"Null values: {df2.Main_topic.isnull().sum()}\")"
   ]
  },
  {
   "cell_type": "code",
   "execution_count": null,
   "metadata": {},
   "outputs": [],
   "source": [
    "df = pd.read_feather('../data/data_analysis/added_mainTopic.feather')\n",
    "df"
   ]
  }
 ],
 "metadata": {
  "kernelspec": {
   "display_name": "project-D53q-EhT",
   "language": "python",
   "name": "python3"
  },
  "language_info": {
   "codemirror_mode": {
    "name": "ipython",
    "version": 3
   },
   "file_extension": ".py",
   "mimetype": "text/x-python",
   "name": "python",
   "nbconvert_exporter": "python",
   "pygments_lexer": "ipython3",
   "version": "3.9.13"
  }
 },
 "nbformat": 4,
 "nbformat_minor": 2
}
