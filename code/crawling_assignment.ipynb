{
 "cells": [
  {
   "cell_type": "code",
   "execution_count": null,
   "metadata": {},
   "outputs": [],
   "source": [
    "# install the libraries for crwaling\n",
    "!pip install requests   \n",
    "!pip install beautifulsoup4 \n",
    "!pip install selenium   \n",
    "!pip install webdriver_manager  \n",
    "!pip install pandas "
   ]
  },
  {
   "cell_type": "code",
   "execution_count": 2,
   "metadata": {},
   "outputs": [],
   "source": [
    "# import the libraries\n",
    "import time\n",
    "import re\n",
    "import random as rd\n",
    "import pandas as pd\n",
    "import numpy as np\n",
    "import collections\n",
    "from tqdm import tqdm\n",
    "\n",
    "import requests\n",
    "from bs4 import BeautifulSoup as bs\n",
    "from selenium import webdriver\n",
    "from webdriver_manager.chrome import ChromeDriverManager\n",
    "\n",
    "from selenium.webdriver.common.by import By\n",
    "from selenium.webdriver.common.keys import Keys\n",
    "from selenium.webdriver.support.ui import WebDriverWait\n",
    "from selenium.webdriver.support import expected_conditions as EC\n",
    "from selenium.webdriver.chrome.options import Options"
   ]
  },
  {
   "cell_type": "code",
   "execution_count": 3,
   "metadata": {},
   "outputs": [],
   "source": [
    "# header값 설정\n",
    "\n",
    "#user_agent = \"Mozilla/5.0 (Linux; Android 9; SM-G975F) AppleWebKit/537.36 (KHTML, like Gecko) Chrome/71.0.3578.83 Mobile Safari/537.36\"\n",
    "user_agent = \"Mozilla/5.0 (X11; Linux x86_64) AppleWebKit/537.36 (KHTML, like Gecko) Chrome/51.0.2704.103 Safari/537.36\"\n",
    "headers = {\n",
    "    \"User-Agent\": user_agent\n",
    "}"
   ]
  },
  {
   "cell_type": "code",
   "execution_count": 4,
   "metadata": {},
   "outputs": [
    {
     "name": "stderr",
     "output_type": "stream",
     "text": [
      "Pages...:   0%|          | 0/5 [00:00<?, ?it/s]"
     ]
    },
    {
     "name": "stdout",
     "output_type": "stream",
     "text": [
      "URL: https://search.naver.com/search.naver?where=news&sm=tab_jum&query=오염수&start=1&pd=3&ds=20230101&de=20240101\n",
      "status code: 200\n"
     ]
    },
    {
     "name": "stderr",
     "output_type": "stream",
     "text": [
      "Links...: 100%|██████████| 10/10 [00:00<?, ?it/s]"
     ]
    },
    {
     "name": "stdout",
     "output_type": "stream",
     "text": [
      "https://www.mediatoday.co.kr/news/articleView.html?idxno=314817\n",
      "https://www.news1.kr/articles/5275846\n",
      "https://view.asiae.co.kr/article/2023123110393169578\n",
      "http://moneys.mt.co.kr/news/mwView.php?no=2023122914370583186\n",
      "https://www.dt.co.kr/contents.html?article_no=2023123002109931731001&ref=naver\n",
      "http://www.joongboo.com/news/articleView.html?idxno=363628491\n",
      "http://www.newsis.com/view/?id=NISX20231229_0002574968&cID=10201&pID=10200\n",
      "https://news.sbs.co.kr/news/endPage.do?news_id=N1007482252&plink=ORI&cooper=NAVER\n",
      "https://www.seoul.co.kr/news/newsView.php?id=20231227010005&wlog_tag3=naver\n",
      "https://www.yna.co.kr/view/AKR20231226044000073?input=1195m\n",
      "0번째 페이지\n",
      "기사 갯수: 10\n",
      "--------------------------------------------------------------------------------------------------------------------------------------------------------------------------------------------------------\n"
     ]
    },
    {
     "name": "stderr",
     "output_type": "stream",
     "text": [
      "\n",
      "Pages...:  20%|██        | 1/5 [00:02<00:09,  2.49s/it]"
     ]
    },
    {
     "name": "stdout",
     "output_type": "stream",
     "text": [
      "URL: https://search.naver.com/search.naver?where=news&sm=tab_jum&query=오염수&start=11&pd=3&ds=20230101&de=20240101\n",
      "status code: 200\n"
     ]
    },
    {
     "name": "stderr",
     "output_type": "stream",
     "text": [
      "Links...: 100%|██████████| 10/10 [00:00<00:00, 10027.02it/s]"
     ]
    },
    {
     "name": "stdout",
     "output_type": "stream",
     "text": [
      "http://www.newsis.com/view/?id=NISX20231229_0002575876&cID=14001&pID=14000\n",
      "http://www.kihoilbo.co.kr/news/articleView.html?idxno=1065627\n",
      "https://www.yna.co.kr/view/AKR20231225048700073?input=1195m\n",
      "https://news.tvchosun.com/site/data/html_dir/2023/12/26/2023122690039.html\n",
      "https://www.daejonilbo.com/news/articleView.html?idxno=2105366\n",
      "https://nownews.seoul.co.kr/news/newsView.php?id=20231231601005&wlog_tag3=naver\n",
      "http://www.yonhapnewstv.co.kr/MYH20231230000500032/?input=1825m\n",
      "https://www.ytn.co.kr/_ln/0104_202401010027278121\n",
      "https://www.ytn.co.kr/_ln/0104_202312312254590256\n",
      "http://www.newsis.com/view/?id=NISX20231227_0002571808&cID=10101&pID=10100\n",
      "1번째 페이지\n",
      "기사 갯수: 20\n",
      "--------------------------------------------------------------------------------------------------------------------------------------------------------------------------------------------------------\n"
     ]
    },
    {
     "name": "stderr",
     "output_type": "stream",
     "text": [
      "\n",
      "Pages...:  40%|████      | 2/5 [00:06<00:09,  3.14s/it]"
     ]
    },
    {
     "name": "stdout",
     "output_type": "stream",
     "text": [
      "URL: https://search.naver.com/search.naver?where=news&sm=tab_jum&query=오염수&start=21&pd=3&ds=20230101&de=20240101\n",
      "status code: 200\n"
     ]
    },
    {
     "name": "stderr",
     "output_type": "stream",
     "text": [
      "Links...: 100%|██████████| 10/10 [00:00<00:00, 4991.44it/s]"
     ]
    },
    {
     "name": "stdout",
     "output_type": "stream",
     "text": [
      "https://www.mk.co.kr/article/10908523\n",
      "https://www.yna.co.kr/view/AKR20231227111800030?input=1195m\n",
      "http://www.lawissue.co.kr/view.php?ud=20240101141627316092eef753eb_12\n",
      "https://www.yna.co.kr/view/AKR20231226071100001?input=1195m\n",
      "https://www.yeongnam.com/web/view.php?key=20231231010004265\n",
      "https://www.etnews.com/20231227000377\n",
      "https://news.kbs.co.kr/news/pc/view/view.do?ncd=7855585&ref=A\n",
      "http://www.newsis.com/view/?id=NISX20231224_0002569486&cID=10806&pID=10800\n",
      "https://www.etnews.com/20231229000053\n",
      "http://weekly.chosun.com/news/articleView.html?idxno=31054\n",
      "2번째 페이지\n",
      "기사 갯수: 30\n",
      "--------------------------------------------------------------------------------------------------------------------------------------------------------------------------------------------------------\n"
     ]
    },
    {
     "name": "stderr",
     "output_type": "stream",
     "text": [
      "\n",
      "Pages...:  60%|██████    | 3/5 [00:09<00:06,  3.42s/it]"
     ]
    },
    {
     "name": "stdout",
     "output_type": "stream",
     "text": [
      "URL: https://search.naver.com/search.naver?where=news&sm=tab_jum&query=오염수&start=31&pd=3&ds=20230101&de=20240101\n",
      "status code: 200\n"
     ]
    },
    {
     "name": "stderr",
     "output_type": "stream",
     "text": [
      "Links...: 100%|██████████| 10/10 [00:00<00:00, 10017.44it/s]"
     ]
    },
    {
     "name": "stdout",
     "output_type": "stream",
     "text": [
      "http://www.newsis.com/view/?id=NISX20231222_0002568578&cID=10101&pID=10100\n",
      "https://www.dailian.co.kr/news/view/1312045/?sc=Naver\n",
      "https://www.yna.co.kr/view/PYH20231227143600340?input=1196m\n",
      "https://news.kbs.co.kr/news/pc/view/view.do?ncd=7854430&ref=A\n",
      "https://www.khan.co.kr/politics/north-korea/article/202312241031001\n",
      "https://www.yna.co.kr/view/AKR20231218146100073?input=1195m\n",
      "https://www.ohmynews.com/NWS_Web/View/at_pg.aspx?CNTN_CD=A0002989937&CMPT_CD=P0010&utm_source=naver&utm_medium=newsearch&utm_campaign=naver_news\n",
      "https://www.eroun.net/news/articleView.html?idxno=39646\n",
      "https://news.kbs.co.kr/news/pc/view/view.do?ncd=7851648&ref=A\n",
      "https://www.nocutnews.co.kr/news/6070782\n",
      "3번째 페이지\n",
      "기사 갯수: 40\n",
      "--------------------------------------------------------------------------------------------------------------------------------------------------------------------------------------------------------\n"
     ]
    },
    {
     "name": "stderr",
     "output_type": "stream",
     "text": [
      "\n",
      "Pages...:  80%|████████  | 4/5 [00:13<00:03,  3.70s/it]"
     ]
    },
    {
     "name": "stdout",
     "output_type": "stream",
     "text": [
      "URL: https://search.naver.com/search.naver?where=news&sm=tab_jum&query=오염수&start=41&pd=3&ds=20230101&de=20240101\n",
      "status code: 200\n"
     ]
    },
    {
     "name": "stderr",
     "output_type": "stream",
     "text": [
      "Links...: 100%|██████████| 10/10 [00:00<00:00, 9986.44it/s]"
     ]
    },
    {
     "name": "stdout",
     "output_type": "stream",
     "text": [
      "https://www.seoul.co.kr/news/newsView.php?id=20231221500211&wlog_tag3=naver\n",
      "https://news.kbs.co.kr/news/pc/view/view.do?ncd=7851315&ref=A\n",
      "https://www.hani.co.kr/arti/international/japan/1121604.html\n",
      "https://news.sbs.co.kr/news/endPage.do?news_id=N1007474200&plink=ORI&cooper=NAVER\n",
      "https://www.yna.co.kr/view/AKR20231226058500052?input=1195m\n",
      "https://www.newstof.com/news/articleView.html?idxno=22068\n",
      "https://news.kbs.co.kr/news/pc/view/view.do?ncd=7850498&ref=A\n",
      "https://www.khan.co.kr/world/japan/article/202312271318011\n",
      "https://www.khan.co.kr/politics/politics-general/article/202312282057015\n",
      "http://www.newsis.com/view/?id=NISX20231220_0002565339&cID=10810&pID=10800\n",
      "4번째 페이지\n",
      "기사 갯수: 50\n",
      "--------------------------------------------------------------------------------------------------------------------------------------------------------------------------------------------------------\n"
     ]
    },
    {
     "name": "stderr",
     "output_type": "stream",
     "text": [
      "\n",
      "Pages...: 100%|██████████| 5/5 [00:18<00:00,  3.70s/it]"
     ]
    },
    {
     "name": "stdout",
     "output_type": "stream",
     "text": [
      "총 기사 갯수: 50\n",
      "['https://www.mediatoday.co.kr/news/articleView.html?idxno=314817', 'https://www.news1.kr/articles/5275846', 'https://view.asiae.co.kr/article/2023123110393169578', 'http://moneys.mt.co.kr/news/mwView.php?no=2023122914370583186', 'https://www.dt.co.kr/contents.html?article_no=2023123002109931731001&ref=naver', 'http://www.joongboo.com/news/articleView.html?idxno=363628491', 'http://www.newsis.com/view/?id=NISX20231229_0002574968&cID=10201&pID=10200', 'https://news.sbs.co.kr/news/endPage.do?news_id=N1007482252&plink=ORI&cooper=NAVER', 'https://www.seoul.co.kr/news/newsView.php?id=20231227010005&wlog_tag3=naver', 'https://www.yna.co.kr/view/AKR20231226044000073?input=1195m', 'http://www.newsis.com/view/?id=NISX20231229_0002575876&cID=14001&pID=14000', 'http://www.kihoilbo.co.kr/news/articleView.html?idxno=1065627', 'https://www.yna.co.kr/view/AKR20231225048700073?input=1195m', 'https://news.tvchosun.com/site/data/html_dir/2023/12/26/2023122690039.html', 'https://www.daejonilbo.com/news/articleView.html?idxno=2105366', 'https://nownews.seoul.co.kr/news/newsView.php?id=20231231601005&wlog_tag3=naver', 'http://www.yonhapnewstv.co.kr/MYH20231230000500032/?input=1825m', 'https://www.ytn.co.kr/_ln/0104_202401010027278121', 'https://www.ytn.co.kr/_ln/0104_202312312254590256', 'http://www.newsis.com/view/?id=NISX20231227_0002571808&cID=10101&pID=10100', 'https://www.mk.co.kr/article/10908523', 'https://www.yna.co.kr/view/AKR20231227111800030?input=1195m', 'http://www.lawissue.co.kr/view.php?ud=20240101141627316092eef753eb_12', 'https://www.yna.co.kr/view/AKR20231226071100001?input=1195m', 'https://www.yeongnam.com/web/view.php?key=20231231010004265', 'https://www.etnews.com/20231227000377', 'https://news.kbs.co.kr/news/pc/view/view.do?ncd=7855585&ref=A', 'http://www.newsis.com/view/?id=NISX20231224_0002569486&cID=10806&pID=10800', 'https://www.etnews.com/20231229000053', 'http://weekly.chosun.com/news/articleView.html?idxno=31054', 'http://www.newsis.com/view/?id=NISX20231222_0002568578&cID=10101&pID=10100', 'https://www.dailian.co.kr/news/view/1312045/?sc=Naver', 'https://www.yna.co.kr/view/PYH20231227143600340?input=1196m', 'https://news.kbs.co.kr/news/pc/view/view.do?ncd=7854430&ref=A', 'https://www.khan.co.kr/politics/north-korea/article/202312241031001', 'https://www.yna.co.kr/view/AKR20231218146100073?input=1195m', 'https://www.ohmynews.com/NWS_Web/View/at_pg.aspx?CNTN_CD=A0002989937&CMPT_CD=P0010&utm_source=naver&utm_medium=newsearch&utm_campaign=naver_news', 'https://www.eroun.net/news/articleView.html?idxno=39646', 'https://news.kbs.co.kr/news/pc/view/view.do?ncd=7851648&ref=A', 'https://www.nocutnews.co.kr/news/6070782', 'https://www.seoul.co.kr/news/newsView.php?id=20231221500211&wlog_tag3=naver', 'https://news.kbs.co.kr/news/pc/view/view.do?ncd=7851315&ref=A', 'https://www.hani.co.kr/arti/international/japan/1121604.html', 'https://news.sbs.co.kr/news/endPage.do?news_id=N1007474200&plink=ORI&cooper=NAVER', 'https://www.yna.co.kr/view/AKR20231226058500052?input=1195m', 'https://www.newstof.com/news/articleView.html?idxno=22068', 'https://news.kbs.co.kr/news/pc/view/view.do?ncd=7850498&ref=A', 'https://www.khan.co.kr/world/japan/article/202312271318011', 'https://www.khan.co.kr/politics/politics-general/article/202312282057015', 'http://www.newsis.com/view/?id=NISX20231220_0002565339&cID=10810&pID=10800']\n"
     ]
    },
    {
     "name": "stderr",
     "output_type": "stream",
     "text": [
      "\n"
     ]
    }
   ],
   "source": [
    "# 키워드를 입력하여 URL 생성\n",
    "query = input(\"검색어를 입력하세요: \")\n",
    "start_date = re.sub(r'[^0-9]', '', input(\"시작 날짜를 yyyy.mm.dd 형식으로 입력하세요: \")) # 시작 날짜(정규식을 이용하여 숫자만 추출)\n",
    "end_date = re.sub(r'[^0-9]', '', input(\"종료 날짜를 yyyy.mm.dd 형식으로 입력하세요: \"))    # 종료 날짜(정규식을 이용하여 숫자만 추출)\n",
    "\n",
    "num_articles_per_page = 10  # 페이지당 기사 수\n",
    "num_pages = int(input(\"크롤링할 페이지 수를 입력하세요: \"))  # 크롤링할 페이지 수\n",
    "\n",
    "# 데이터를 저장할 리스트 초기화\n",
    "link_list = []\n",
    "\n",
    "for page in tqdm(range(num_pages), desc='Pages...'):\n",
    "    start_index = page * num_articles_per_page + 1  # 페이지의 시작 인덱스 계산\n",
    "\n",
    "    # URL 생성\n",
    "    url = f'https://search.naver.com/search.naver?where=news&sm=tab_jum&query={query}&start={start_index}&pd=3&ds={start_date}&de={end_date}'\n",
    "    print(f'URL: {url}')\n",
    "\n",
    "    # HTML 문서 가져오기\n",
    "    response = requests.get(url, headers=headers);  print(f'status code: {response.status_code}')\n",
    "    html = response.text\n",
    "\n",
    "    # BeautifulSoup을 이용하여 HTML 파싱\n",
    "    soup = bs(html, 'html.parser'); \n",
    "\n",
    "    # 기사 제목 추출\n",
    "    links = soup.find_all('a', class_=\"news_tit\")\n",
    "\n",
    "    # 추출한 데이터를 리스트에 저장\n",
    "    for link in tqdm(links, desc=\"Links...\"):\n",
    "        current_url = link[\"href\"]\n",
    "        print(current_url)\n",
    "        link_list.append(current_url)\n",
    "    print(f'{page}번째 페이지')\n",
    "    print(f'기사 갯수: {len(link_list)}')\n",
    "    print(f'{\"-\"*200}')\n",
    "    time.sleep(rd.uniform(2, 5))\n",
    "        \n",
    "print(f'총 기사 갯수: {len(link_list)}')\n",
    "print(link_list)"
   ]
  },
  {
   "cell_type": "code",
   "execution_count": null,
   "metadata": {},
   "outputs": [],
   "source": [
    "!pip install newspaper3k "
   ]
  },
  {
   "cell_type": "code",
   "execution_count": 70,
   "metadata": {},
   "outputs": [
    {
     "name": "stderr",
     "output_type": "stream",
     "text": [
      "lists...:   0%|          | 0/100 [00:00<?, ?it/s]"
     ]
    },
    {
     "name": "stdout",
     "output_type": "stream",
     "text": [
      "date: 2024-01-01 18:15:47+09:00\n",
      "title: 후쿠시마 오염수 영상 삭제, SBS 시청자위-시사교양국장 논쟁\n",
      "--------------------------------------------------------------------------------------------------------------------------------------------------------------------------------------------------------\n"
     ]
    },
    {
     "name": "stderr",
     "output_type": "stream",
     "text": [
      "lists...:   1%|          | 1/100 [00:02<03:42,  2.25s/it]"
     ]
    },
    {
     "name": "stdout",
     "output_type": "stream",
     "text": [
      "date: 2023-12-31 06:30:00+09:00\n",
      "title: 후쿠시마 오염수 방류·기후 위기로 어자원 고갈…어민들 '시름'[결산 2023]\n",
      "--------------------------------------------------------------------------------------------------------------------------------------------------------------------------------------------------------\n"
     ]
    },
    {
     "name": "stderr",
     "output_type": "stream",
     "text": [
      "lists...:   2%|▏         | 2/100 [00:05<04:09,  2.55s/it]"
     ]
    },
    {
     "name": "stdout",
     "output_type": "stream",
     "text": [
      "date: 2023-12-31 10:39:32+09:00\n",
      "title: \"중일, 후쿠시마 오염수 전문가 협의 내년 조기 개최 조율\"\n",
      "--------------------------------------------------------------------------------------------------------------------------------------------------------------------------------------------------------\n"
     ]
    },
    {
     "name": "stderr",
     "output_type": "stream",
     "text": [
      "lists...:   3%|▎         | 3/100 [00:06<03:33,  2.20s/it]"
     ]
    },
    {
     "name": "stdout",
     "output_type": "stream",
     "text": [
      "date: 2023-12-31 06:29:00+09:00\n",
      "title: [아듀2023] 日오염수 방류·잼버리 망신... 사회·국제 10대 뉴스\n",
      "--------------------------------------------------------------------------------------------------------------------------------------------------------------------------------------------------------\n"
     ]
    },
    {
     "name": "stderr",
     "output_type": "stream",
     "text": [
      "lists...:   4%|▍         | 4/100 [00:09<03:51,  2.41s/it]"
     ]
    },
    {
     "name": "stdout",
     "output_type": "stream",
     "text": [
      "date: None\n",
      "title: 원전 오염수에 이어…日, 후지산 화산재도 바다에 버린다\n",
      "--------------------------------------------------------------------------------------------------------------------------------------------------------------------------------------------------------\n"
     ]
    },
    {
     "name": "stderr",
     "output_type": "stream",
     "text": [
      "lists...:   5%|▌         | 5/100 [00:12<03:52,  2.45s/it]"
     ]
    },
    {
     "name": "stdout",
     "output_type": "stream",
     "text": [
      "date: 2024-01-01 16:40:00+09:00\n",
      "title: 후쿠시마 오염수 방류 4개월째… 활기 되찾은 수산물시장\n",
      "--------------------------------------------------------------------------------------------------------------------------------------------------------------------------------------------------------\n"
     ]
    },
    {
     "name": "stderr",
     "output_type": "stream",
     "text": [
      "lists...:   6%|▌         | 6/100 [00:14<03:40,  2.35s/it]"
     ]
    },
    {
     "name": "stdout",
     "output_type": "stream",
     "text": [
      "date: 2023-12-31 10:11:28+09:00\n",
      "title: 아스파탐·日수산물 '포비아'…올해 달군 먹거리 이슈는?\n",
      "--------------------------------------------------------------------------------------------------------------------------------------------------------------------------------------------------------\n"
     ]
    },
    {
     "name": "stderr",
     "output_type": "stream",
     "text": [
      "lists...:   7%|▋         | 7/100 [00:17<03:53,  2.51s/it]"
     ]
    },
    {
     "name": "stdout",
     "output_type": "stream",
     "text": [
      "date: None\n",
      "title: 도쿄전력 \"'오염수' 아닌 '처리수' 용어 사용해달라\"…정부 \"'처리수' 변경 목소리 소강상태\"\n",
      "--------------------------------------------------------------------------------------------------------------------------------------------------------------------------------------------------------\n"
     ]
    },
    {
     "name": "stderr",
     "output_type": "stream",
     "text": [
      "lists...:   8%|▊         | 8/100 [00:19<03:36,  2.35s/it]"
     ]
    },
    {
     "name": "stdout",
     "output_type": "stream",
     "text": [
      "date: 2023-12-26 23:53:49+09:00\n",
      "title: 日, 오염수 삼중수소 분석 횟수 줄인다\n",
      "--------------------------------------------------------------------------------------------------------------------------------------------------------------------------------------------------------\n"
     ]
    },
    {
     "name": "stderr",
     "output_type": "stream",
     "text": [
      "lists...:   9%|▉         | 9/100 [00:21<03:41,  2.43s/it]"
     ]
    },
    {
     "name": "stdout",
     "output_type": "stream",
     "text": [
      "date: 2023-12-26 10:22:40+09:00\n",
      "title: 日도쿄전력, 오염수 미방류시 해수 분석횟수 매일 1회→주 1회로\n",
      "--------------------------------------------------------------------------------------------------------------------------------------------------------------------------------------------------------\n"
     ]
    },
    {
     "name": "stderr",
     "output_type": "stream",
     "text": [
      "lists...:  10%|█         | 10/100 [00:23<03:32,  2.36s/it]"
     ]
    },
    {
     "name": "stdout",
     "output_type": "stream",
     "text": [
      "date: 2023-12-29 16:05:03+09:00\n",
      "title: 폐광 폐수처리 오니, 오염수 흡착제로 재활용한다\n",
      "--------------------------------------------------------------------------------------------------------------------------------------------------------------------------------------------------------\n"
     ]
    },
    {
     "name": "stderr",
     "output_type": "stream",
     "text": [
      "lists...:  11%|█         | 11/100 [00:26<03:41,  2.49s/it]"
     ]
    },
    {
     "name": "stdout",
     "output_type": "stream",
     "text": [
      "date: 2024-01-01 13:46:27+09:00\n",
      "title: 수도권매립지관리공사, 폐탄광 폐수처리 침전물 오염수 흡착제로 재활용 기술 승인\n",
      "--------------------------------------------------------------------------------------------------------------------------------------------------------------------------------------------------------\n"
     ]
    },
    {
     "name": "stderr",
     "output_type": "stream",
     "text": [
      "lists...:  12%|█▏        | 12/100 [00:29<03:36,  2.46s/it]"
     ]
    },
    {
     "name": "stdout",
     "output_type": "stream",
     "text": [
      "date: 2023-12-25 19:37:07+09:00\n",
      "title: 日, 오염수로 中서 막힌 가리비 한국 수출 확대키로\n",
      "--------------------------------------------------------------------------------------------------------------------------------------------------------------------------------------------------------\n"
     ]
    },
    {
     "name": "stderr",
     "output_type": "stream",
     "text": [
      "lists...:  13%|█▎        | 13/100 [00:31<03:31,  2.43s/it]"
     ]
    },
    {
     "name": "stdout",
     "output_type": "stream",
     "text": [
      "date: 2023-12-26 00:00:00\n",
      "title: 오염수 방류로 中서 막힌 가리비…日 \"한국에 수출 확대\"\n",
      "--------------------------------------------------------------------------------------------------------------------------------------------------------------------------------------------------------\n"
     ]
    },
    {
     "name": "stderr",
     "output_type": "stream",
     "text": [
      "lists...:  14%|█▍        | 14/100 [00:33<03:32,  2.48s/it]"
     ]
    },
    {
     "name": "stdout",
     "output_type": "stream",
     "text": [
      "date: 2023-12-31 08:38:00+09:00\n",
      "title: [2023년 대전일보 선정 국외 10대 뉴스] 이스라엘-하마스 전쟁·일본 후쿠시마 오염수 방류 등\n",
      "--------------------------------------------------------------------------------------------------------------------------------------------------------------------------------------------------------\n"
     ]
    },
    {
     "name": "stderr",
     "output_type": "stream",
     "text": [
      "lists...:  15%|█▌        | 15/100 [00:36<03:20,  2.36s/it]"
     ]
    },
    {
     "name": "stdout",
     "output_type": "stream",
     "text": [
      "date: 2023-12-31 17:14:22+09:00\n",
      "title: 日, 원전 오염수 이어 ‘화산재’도 바다에 버리겠다 선언 [여기는 일본]\n",
      "--------------------------------------------------------------------------------------------------------------------------------------------------------------------------------------------------------\n"
     ]
    },
    {
     "name": "stderr",
     "output_type": "stream",
     "text": [
      "lists...:  16%|█▌        | 16/100 [00:38<03:09,  2.25s/it]"
     ]
    },
    {
     "name": "stdout",
     "output_type": "stream",
     "text": [
      "date: 2023-12-30 00:21:26+00:00\n",
      "title: 연합뉴스TV\n",
      "--------------------------------------------------------------------------------------------------------------------------------------------------------------------------------------------------------\n"
     ]
    },
    {
     "name": "stderr",
     "output_type": "stream",
     "text": [
      "lists...:  17%|█▋        | 17/100 [00:40<03:11,  2.30s/it]"
     ]
    },
    {
     "name": "stdout",
     "output_type": "stream",
     "text": [
      "date: 2024-01-01 00:27:00+09:00\n",
      "title: 새해를 맞이한 한일 관계의 변수와 전망은?\n",
      "--------------------------------------------------------------------------------------------------------------------------------------------------------------------------------------------------------\n"
     ]
    },
    {
     "name": "stderr",
     "output_type": "stream",
     "text": [
      "lists...:  18%|█▊        | 18/100 [00:42<03:03,  2.24s/it]"
     ]
    },
    {
     "name": "stdout",
     "output_type": "stream",
     "text": [
      "date: 2023-12-31 22:54:00+09:00\n",
      "title: 올해 한일 관계 급진전...새해 변수와 전망은?\n",
      "--------------------------------------------------------------------------------------------------------------------------------------------------------------------------------------------------------\n"
     ]
    },
    {
     "name": "stderr",
     "output_type": "stream",
     "text": [
      "lists...:  19%|█▉        | 19/100 [00:44<02:47,  2.06s/it]"
     ]
    },
    {
     "name": "stdout",
     "output_type": "stream",
     "text": [
      "date: 2023-12-27 10:49:29+09:00\n",
      "title: \"日·中, 원전 오염수 전문가 협의회 내년 조기 개최 조율\"\n",
      "--------------------------------------------------------------------------------------------------------------------------------------------------------------------------------------------------------\n"
     ]
    },
    {
     "name": "stderr",
     "output_type": "stream",
     "text": [
      "lists...:  20%|██        | 20/100 [00:47<03:09,  2.37s/it]"
     ]
    },
    {
     "name": "stdout",
     "output_type": "stream",
     "text": [
      "date: 2023-12-28 15:20:40+09:00\n",
      "title: 원안위, 후쿠시마 오염수 대응 전담조직 신설\n",
      "--------------------------------------------------------------------------------------------------------------------------------------------------------------------------------------------------------\n"
     ]
    },
    {
     "name": "stderr",
     "output_type": "stream",
     "text": [
      "lists...:  21%|██        | 21/100 [00:49<03:07,  2.38s/it]"
     ]
    },
    {
     "name": "stdout",
     "output_type": "stream",
     "text": [
      "date: 2023-12-27 15:30:39+09:00\n",
      "title: [프로필] 송명달 신임 해수부 차관…후쿠시마 오염수 대응 이끌어\n",
      "--------------------------------------------------------------------------------------------------------------------------------------------------------------------------------------------------------\n"
     ]
    },
    {
     "name": "stderr",
     "output_type": "stream",
     "text": [
      "lists...:  22%|██▏       | 22/100 [00:51<02:56,  2.27s/it]"
     ]
    },
    {
     "name": "stdout",
     "output_type": "stream",
     "text": [
      "date: 2024-01-01 14:36:43+09:00\n",
      "title: 위성곤 “개혁·공정·민생·정의 깃발로 최남단 제주부터 변하겠다”\n",
      "--------------------------------------------------------------------------------------------------------------------------------------------------------------------------------------------------------\n"
     ]
    },
    {
     "name": "stderr",
     "output_type": "stream",
     "text": [
      "lists...:  23%|██▎       | 23/100 [00:53<02:46,  2.16s/it]"
     ]
    },
    {
     "name": "stdout",
     "output_type": "stream",
     "text": [
      "date: 2023-12-26 12:27:08+09:00\n",
      "title: 일본 가리비 한국 수출설에 정부 \"日계획 불과…수입규제 유지\"\n",
      "--------------------------------------------------------------------------------------------------------------------------------------------------------------------------------------------------------\n"
     ]
    },
    {
     "name": "stderr",
     "output_type": "stream",
     "text": [
      "lists...:  24%|██▍       | 24/100 [00:56<02:48,  2.22s/it]"
     ]
    },
    {
     "name": "stdout",
     "output_type": "stream",
     "text": [
      "date: 2023-12-31 10:27:19+09:00\n",
      "title: 올해 뜨거웠던 사회 이슈 Top10…마약 범죄·전세사기·후쿠시마 오염수 방류 등\n",
      "--------------------------------------------------------------------------------------------------------------------------------------------------------------------------------------------------------\n"
     ]
    },
    {
     "name": "stderr",
     "output_type": "stream",
     "text": [
      "lists...:  25%|██▌       | 25/100 [00:57<02:40,  2.14s/it]"
     ]
    },
    {
     "name": "stdout",
     "output_type": "stream",
     "text": [
      "date: 2023-12-27 20:50:00+09:00\n",
      "title: “日 오염수 방류, 완료까지 최소 15년 걸린다”\n",
      "--------------------------------------------------------------------------------------------------------------------------------------------------------------------------------------------------------\n"
     ]
    },
    {
     "name": "stderr",
     "output_type": "stream",
     "text": [
      "lists...:  26%|██▌       | 26/100 [00:59<02:28,  2.01s/it]"
     ]
    },
    {
     "name": "stdout",
     "output_type": "stream",
     "text": [
      "date: None\n",
      "title: KBS 뉴스\n",
      "--------------------------------------------------------------------------------------------------------------------------------------------------------------------------------------------------------\n"
     ]
    },
    {
     "name": "stderr",
     "output_type": "stream",
     "text": [
      "lists...:  27%|██▋       | 27/100 [01:02<02:41,  2.21s/it]"
     ]
    },
    {
     "name": "stdout",
     "output_type": "stream",
     "text": [
      "date: 2023-12-24 10:09:30+09:00\n",
      "title: 日 오염수 불안감 줄여라…충북도, 농수산물 방사능 상시감시\n",
      "--------------------------------------------------------------------------------------------------------------------------------------------------------------------------------------------------------\n"
     ]
    },
    {
     "name": "stderr",
     "output_type": "stream",
     "text": [
      "lists...:  28%|██▊       | 28/100 [01:04<02:32,  2.12s/it]"
     ]
    },
    {
     "name": "stdout",
     "output_type": "stream",
     "text": [
      "date: 2023-12-29 10:50:05+09:00\n",
      "title: 日 미에현서 갈치떼 집단 폐사…오염수 때문?\n",
      "--------------------------------------------------------------------------------------------------------------------------------------------------------------------------------------------------------\n"
     ]
    },
    {
     "name": "stderr",
     "output_type": "stream",
     "text": [
      "lists...:  29%|██▉       | 29/100 [01:06<02:40,  2.26s/it]"
     ]
    },
    {
     "name": "stdout",
     "output_type": "stream",
     "text": [
      "date: 2023-12-26 04:00:00+09:00\n",
      "title: 갑자기 자취를 감춰버린 오염수 괴담\n",
      "--------------------------------------------------------------------------------------------------------------------------------------------------------------------------------------------------------\n"
     ]
    },
    {
     "name": "stderr",
     "output_type": "stream",
     "text": [
      "lists...:  30%|███       | 30/100 [01:08<02:35,  2.22s/it]"
     ]
    },
    {
     "name": "stdout",
     "output_type": "stream",
     "text": [
      "date: 2023-12-22 17:01:29+09:00\n",
      "title: 日, 후쿠시마 오염수 모니터링 주 1회→월 1회로 줄인다\n",
      "--------------------------------------------------------------------------------------------------------------------------------------------------------------------------------------------------------\n"
     ]
    },
    {
     "name": "stderr",
     "output_type": "stream",
     "text": [
      "lists...:  31%|███       | 31/100 [01:11<02:41,  2.34s/it]"
     ]
    },
    {
     "name": "stdout",
     "output_type": "stream",
     "text": [
      "date: 2023-12-29 10:39:00+09:00\n",
      "title: 떠나는 조승환 “오염수만 아니었다면…남은 과제 잘 부탁”\n",
      "--------------------------------------------------------------------------------------------------------------------------------------------------------------------------------------------------------\n"
     ]
    },
    {
     "name": "stderr",
     "output_type": "stream",
     "text": [
      "lists...:  32%|███▏      | 32/100 [01:13<02:37,  2.32s/it]"
     ]
    },
    {
     "name": "stdout",
     "output_type": "stream",
     "text": [
      "date: 2023-12-27 16:29:11+09:00\n",
      "title: 오염수 방류 회의하는 일본 원자력규제위원회\n",
      "--------------------------------------------------------------------------------------------------------------------------------------------------------------------------------------------------------\n"
     ]
    },
    {
     "name": "stderr",
     "output_type": "stream",
     "text": [
      "lists...:  33%|███▎      | 33/100 [01:16<02:41,  2.40s/it]"
     ]
    },
    {
     "name": "stdout",
     "output_type": "stream",
     "text": [
      "date: None\n",
      "title: KBS 뉴스\n",
      "--------------------------------------------------------------------------------------------------------------------------------------------------------------------------------------------------------\n"
     ]
    },
    {
     "name": "stderr",
     "output_type": "stream",
     "text": [
      "lists...:  34%|███▍      | 34/100 [01:19<02:43,  2.48s/it]"
     ]
    },
    {
     "name": "stdout",
     "output_type": "stream",
     "text": [
      "date: 2023-12-24 10:31:00+09:00\n",
      "title: 북한 “세균전 전범자 후예들, 핵 오염수로 지구 안전 위협” 읽음\n",
      "--------------------------------------------------------------------------------------------------------------------------------------------------------------------------------------------------------\n"
     ]
    },
    {
     "name": "stderr",
     "output_type": "stream",
     "text": [
      "lists...:  35%|███▌      | 35/100 [01:21<02:47,  2.58s/it]"
     ]
    },
    {
     "name": "stdout",
     "output_type": "stream",
     "text": [
      "date: 2023-12-18 18:37:51+09:00\n",
      "title: \"日후쿠시마 오염수 4차 해양 방류 내년 2월 하순 개시\"\n",
      "--------------------------------------------------------------------------------------------------------------------------------------------------------------------------------------------------------\n"
     ]
    },
    {
     "name": "stderr",
     "output_type": "stream",
     "text": [
      "lists...:  36%|███▌      | 36/100 [01:24<02:40,  2.51s/it]"
     ]
    },
    {
     "name": "stdout",
     "output_type": "stream",
     "text": [
      "date: 2023-12-30 18:52:00+09:00\n",
      "title: 총 295일간 86회의 윤석열정부 규탄집회를 마치며\n",
      "--------------------------------------------------------------------------------------------------------------------------------------------------------------------------------------------------------\n"
     ]
    },
    {
     "name": "stderr",
     "output_type": "stream",
     "text": [
      "lists...:  37%|███▋      | 37/100 [01:27<02:43,  2.59s/it]"
     ]
    },
    {
     "name": "stdout",
     "output_type": "stream",
     "text": [
      "date: 2023-12-31 16:08:05+09:00\n",
      "title: 중국 신화통신이 꼽은 '2023 세계 10대 뉴스'\n",
      "--------------------------------------------------------------------------------------------------------------------------------------------------------------------------------------------------------\n"
     ]
    },
    {
     "name": "stderr",
     "output_type": "stream",
     "text": [
      "lists...:  38%|███▊      | 38/100 [01:29<02:39,  2.58s/it]"
     ]
    },
    {
     "name": "stdout",
     "output_type": "stream",
     "text": [
      "date: None\n",
      "title: KBS 뉴스\n",
      "--------------------------------------------------------------------------------------------------------------------------------------------------------------------------------------------------------\n"
     ]
    },
    {
     "name": "stderr",
     "output_type": "stream",
     "text": [
      "lists...:  39%|███▉      | 39/100 [01:32<02:35,  2.55s/it]"
     ]
    },
    {
     "name": "stdout",
     "output_type": "stream",
     "text": [
      "date: None\n",
      "title: \"故이선균, 전청조, 누리호, 항저우AG…올해의 키워드\"\n",
      "--------------------------------------------------------------------------------------------------------------------------------------------------------------------------------------------------------\n"
     ]
    },
    {
     "name": "stderr",
     "output_type": "stream",
     "text": [
      "lists...:  40%|████      | 40/100 [01:33<02:20,  2.34s/it]"
     ]
    },
    {
     "name": "stdout",
     "output_type": "stream",
     "text": [
      "date: 2023-12-21 20:06:32+09:00\n",
      "title: 日 도쿄전력 “5차 방류 오염수 1월부터 이송”\n",
      "--------------------------------------------------------------------------------------------------------------------------------------------------------------------------------------------------------\n"
     ]
    },
    {
     "name": "stderr",
     "output_type": "stream",
     "text": [
      "lists...:  41%|████      | 41/100 [01:36<02:26,  2.49s/it]"
     ]
    },
    {
     "name": "stdout",
     "output_type": "stream",
     "text": [
      "date: None\n",
      "title: KBS 뉴스\n",
      "--------------------------------------------------------------------------------------------------------------------------------------------------------------------------------------------------------\n"
     ]
    },
    {
     "name": "stderr",
     "output_type": "stream",
     "text": [
      "lists...:  42%|████▏     | 42/100 [01:39<02:22,  2.46s/it]"
     ]
    },
    {
     "name": "stdout",
     "output_type": "stream",
     "text": [
      "date: None\n",
      "title: 후쿠시마 오염수 방류 4개월…‘소문피해’ 배상청구 130건\n",
      "--------------------------------------------------------------------------------------------------------------------------------------------------------------------------------------------------------\n"
     ]
    },
    {
     "name": "stderr",
     "output_type": "stream",
     "text": [
      "lists...:  43%|████▎     | 43/100 [01:41<02:19,  2.44s/it]"
     ]
    },
    {
     "name": "stdout",
     "output_type": "stream",
     "text": [
      "date: None\n",
      "title: 11년치 정어리떼 또 폐사…\"오염수 탓\" 외신에 일 '발칵'\n",
      "--------------------------------------------------------------------------------------------------------------------------------------------------------------------------------------------------------\n"
     ]
    },
    {
     "name": "stderr",
     "output_type": "stream",
     "text": [
      "lists...:  44%|████▍     | 44/100 [01:43<02:09,  2.31s/it]"
     ]
    },
    {
     "name": "stdout",
     "output_type": "stream",
     "text": [
      "date: 2023-12-30 07:31:03+09:00\n",
      "title: [신년인터뷰] 천영기 통영시장 \"야간관광 활성화해 글로벌 도시로 우뚝\"\n",
      "--------------------------------------------------------------------------------------------------------------------------------------------------------------------------------------------------------\n"
     ]
    },
    {
     "name": "stderr",
     "output_type": "stream",
     "text": [
      "lists...:  45%|████▌     | 45/100 [01:45<02:03,  2.24s/it]"
     ]
    },
    {
     "name": "stdout",
     "output_type": "stream",
     "text": [
      "date: 2023-12-31 06:17:01+09:00\n",
      "title: 팩트체크 2023 ② ‘의대정원’, ‘김건희 특검’, ‘원전 오염수’…\n",
      "--------------------------------------------------------------------------------------------------------------------------------------------------------------------------------------------------------\n"
     ]
    },
    {
     "name": "stderr",
     "output_type": "stream",
     "text": [
      "lists...:  46%|████▌     | 46/100 [01:48<02:04,  2.31s/it]"
     ]
    },
    {
     "name": "stdout",
     "output_type": "stream",
     "text": [
      "date: None\n",
      "title: KBS 뉴스\n",
      "--------------------------------------------------------------------------------------------------------------------------------------------------------------------------------------------------------\n"
     ]
    },
    {
     "name": "stderr",
     "output_type": "stream",
     "text": [
      "lists...:  47%|████▋     | 47/100 [01:50<02:04,  2.35s/it]"
     ]
    },
    {
     "name": "stdout",
     "output_type": "stream",
     "text": [
      "date: 2023-12-27 13:18:00+09:00\n",
      "title: 후쿠시마 인근 주민 48% “우리도 건강 걱정돼 내고장 식품 기피” 읽음\n",
      "--------------------------------------------------------------------------------------------------------------------------------------------------------------------------------------------------------\n"
     ]
    },
    {
     "name": "stderr",
     "output_type": "stream",
     "text": [
      "lists...:  48%|████▊     | 48/100 [01:52<01:54,  2.21s/it]"
     ]
    },
    {
     "name": "stdout",
     "output_type": "stream",
     "text": [
      "date: 2023-12-28 20:57:00+09:00\n",
      "title: 강제동원 ‘제3자 변제’·오염수 방류 ‘방조’ 연장선 읽음\n",
      "--------------------------------------------------------------------------------------------------------------------------------------------------------------------------------------------------------\n"
     ]
    },
    {
     "name": "stderr",
     "output_type": "stream",
     "text": [
      "lists...:  49%|████▉     | 49/100 [01:54<01:47,  2.11s/it]"
     ]
    },
    {
     "name": "stdout",
     "output_type": "stream",
     "text": [
      "date: 2023-12-20 16:23:29+09:00\n",
      "title: 대구 환경단체 \"일본 핵 오염수 방류 반대\"\n",
      "--------------------------------------------------------------------------------------------------------------------------------------------------------------------------------------------------------\n"
     ]
    },
    {
     "name": "stderr",
     "output_type": "stream",
     "text": [
      "lists...:  50%|█████     | 50/100 [01:56<01:51,  2.23s/it]"
     ]
    },
    {
     "name": "stdout",
     "output_type": "stream",
     "text": [
      "date: None\n",
      "title: KBS 뉴스\n",
      "--------------------------------------------------------------------------------------------------------------------------------------------------------------------------------------------------------\n"
     ]
    },
    {
     "name": "stderr",
     "output_type": "stream",
     "text": [
      "lists...:  51%|█████     | 51/100 [01:59<01:52,  2.30s/it]"
     ]
    },
    {
     "name": "stdout",
     "output_type": "stream",
     "text": [
      "date: None\n",
      "title: [R]후쿠시마 오염수 방류..\\'수산물 소비위축\\' 현실화\n",
      "--------------------------------------------------------------------------------------------------------------------------------------------------------------------------------------------------------\n"
     ]
    },
    {
     "name": "stderr",
     "output_type": "stream",
     "text": [
      "lists...:  52%|█████▏    | 52/100 [02:02<01:57,  2.44s/it]"
     ]
    },
    {
     "name": "stdout",
     "output_type": "stream",
     "text": [
      "date: 2023-12-26 11:10:19+09:00\n",
      "title: 박구연 국무1차장, 후쿠시마 오염수 방류 브리핑\n",
      "--------------------------------------------------------------------------------------------------------------------------------------------------------------------------------------------------------\n"
     ]
    },
    {
     "name": "stderr",
     "output_type": "stream",
     "text": [
      "lists...:  53%|█████▎    | 53/100 [02:04<01:51,  2.37s/it]"
     ]
    },
    {
     "name": "stdout",
     "output_type": "stream",
     "text": [
      "date: 2023-12-19 16:48:20+09:00\n",
      "title: 시민이 뽑은 올해 환경뉴스 1위는…\"후쿠시마 오염수 방류\"\n",
      "--------------------------------------------------------------------------------------------------------------------------------------------------------------------------------------------------------\n"
     ]
    },
    {
     "name": "stderr",
     "output_type": "stream",
     "text": [
      "lists...:  54%|█████▍    | 54/100 [02:06<01:50,  2.40s/it]"
     ]
    },
    {
     "name": "stdout",
     "output_type": "stream",
     "text": [
      "date: 2023-12-27 13:02:40+09:00\n",
      "title: 중일 오염수 전문가 협의 개최하기로…가리비 수출 재개될까\n",
      "--------------------------------------------------------------------------------------------------------------------------------------------------------------------------------------------------------\n"
     ]
    },
    {
     "name": "stderr",
     "output_type": "stream",
     "text": [
      "lists...:  55%|█████▌    | 55/100 [02:08<01:42,  2.28s/it]"
     ]
    },
    {
     "name": "stdout",
     "output_type": "stream",
     "text": [
      "date: None\n",
      "title: ‘일본 오염수 방류 지속 대비’…인천 남동구, 내년 수산물 방사능 검사 강화\n",
      "--------------------------------------------------------------------------------------------------------------------------------------------------------------------------------------------------------\n"
     ]
    },
    {
     "name": "stderr",
     "output_type": "stream",
     "text": [
      "lists...:  56%|█████▌    | 56/100 [02:10<01:34,  2.14s/it]"
     ]
    },
    {
     "name": "stdout",
     "output_type": "stream",
     "text": [
      "date: 2023-12-26 12:00:00\n",
      "title: 기름 오염수를 ‘생수’처럼 정화… 신기술에 산유국 러브콜 쇄도\n",
      "--------------------------------------------------------------------------------------------------------------------------------------------------------------------------------------------------------\n"
     ]
    },
    {
     "name": "stderr",
     "output_type": "stream",
     "text": [
      "lists...:  57%|█████▋    | 57/100 [02:13<01:38,  2.29s/it]"
     ]
    },
    {
     "name": "stdout",
     "output_type": "stream",
     "text": [
      "date: None\n",
      "title: KBS 뉴스\n",
      "--------------------------------------------------------------------------------------------------------------------------------------------------------------------------------------------------------\n"
     ]
    },
    {
     "name": "stderr",
     "output_type": "stream",
     "text": [
      "lists...:  58%|█████▊    | 58/100 [02:15<01:40,  2.40s/it]"
     ]
    },
    {
     "name": "stdout",
     "output_type": "stream",
     "text": [
      "date: 2023-12-26 11:10:19+09:00\n",
      "title: 최용석 해수부 수산정책실장, 후쿠시마 오염수 방류 브리핑\n",
      "--------------------------------------------------------------------------------------------------------------------------------------------------------------------------------------------------------\n"
     ]
    },
    {
     "name": "stderr",
     "output_type": "stream",
     "text": [
      "lists...:  59%|█████▉    | 59/100 [02:18<01:41,  2.47s/it]"
     ]
    },
    {
     "name": "stdout",
     "output_type": "stream",
     "text": [
      "date: None\n",
      "title: \n",
      "--------------------------------------------------------------------------------------------------------------------------------------------------------------------------------------------------------\n"
     ]
    },
    {
     "name": "stderr",
     "output_type": "stream",
     "text": [
      "lists...:  60%|██████    | 60/100 [02:21<01:40,  2.51s/it]"
     ]
    },
    {
     "name": "stdout",
     "output_type": "stream",
     "text": [
      "date: None\n",
      "title: KBS 뉴스\n",
      "--------------------------------------------------------------------------------------------------------------------------------------------------------------------------------------------------------\n"
     ]
    },
    {
     "name": "stderr",
     "output_type": "stream",
     "text": [
      "lists...:  61%|██████    | 61/100 [02:23<01:40,  2.57s/it]"
     ]
    },
    {
     "name": "stdout",
     "output_type": "stream",
     "text": [
      "date: 2023-12-24 10:56:00+09:00\n",
      "title: 핵미사일로 전세계 위협 北 \"日, 핵오염수로 인류 위협\"\n",
      "--------------------------------------------------------------------------------------------------------------------------------------------------------------------------------------------------------\n"
     ]
    },
    {
     "name": "stderr",
     "output_type": "stream",
     "text": [
      "lists...:  62%|██████▏   | 62/100 [02:25<01:28,  2.33s/it]"
     ]
    },
    {
     "name": "stdout",
     "output_type": "stream",
     "text": [
      "date: None\n",
      "title: 채널A가 뽑은 2023 국제 7대 뉴스\n",
      "--------------------------------------------------------------------------------------------------------------------------------------------------------------------------------------------------------\n"
     ]
    },
    {
     "name": "stderr",
     "output_type": "stream",
     "text": [
      "lists...:  63%|██████▎   | 63/100 [02:27<01:26,  2.35s/it]"
     ]
    },
    {
     "name": "stdout",
     "output_type": "stream",
     "text": [
      "date: None\n",
      "title: 연말기획)오염수 방류* AI 확산에 '걱정 또 걱정' ::::: 기사\n",
      "--------------------------------------------------------------------------------------------------------------------------------------------------------------------------------------------------------\n"
     ]
    },
    {
     "name": "stderr",
     "output_type": "stream",
     "text": [
      "lists...:  64%|██████▍   | 64/100 [02:30<01:31,  2.53s/it]"
     ]
    },
    {
     "name": "stdout",
     "output_type": "stream",
     "text": [
      "date: 2023-12-31 07:04:00+09:00\n",
      "title: [기록 2023] 국제\n",
      "--------------------------------------------------------------------------------------------------------------------------------------------------------------------------------------------------------\n"
     ]
    },
    {
     "name": "stderr",
     "output_type": "stream",
     "text": [
      "lists...:  65%|██████▌   | 65/100 [02:33<01:25,  2.43s/it]"
     ]
    },
    {
     "name": "stdout",
     "output_type": "stream",
     "text": [
      "date: 2023-12-20 10:37:29+09:00\n",
      "title: 日외무상, 후쿠시마 오염수 설비 시찰…中 등 \"수입 중단 철폐 요구\"\n",
      "--------------------------------------------------------------------------------------------------------------------------------------------------------------------------------------------------------\n"
     ]
    },
    {
     "name": "stderr",
     "output_type": "stream",
     "text": [
      "lists...:  66%|██████▌   | 66/100 [02:35<01:22,  2.43s/it]"
     ]
    },
    {
     "name": "stdout",
     "output_type": "stream",
     "text": [
      "date: 2024-01-01 06:40:34+09:00\n",
      "title: [와글와글] 기모노 입은 중국 여성에 \"매국노\"‥'반일 정서' 고조\n",
      "--------------------------------------------------------------------------------------------------------------------------------------------------------------------------------------------------------\n"
     ]
    },
    {
     "name": "stderr",
     "output_type": "stream",
     "text": [
      "lists...:  67%|██████▋   | 67/100 [02:37<01:12,  2.20s/it]"
     ]
    },
    {
     "name": "stdout",
     "output_type": "stream",
     "text": [
      "date: 2023-12-18 11:39:11+09:00\n",
      "title: 정부 \"'오염수→처리수' 변경 목소리 소강상태\"\n",
      "--------------------------------------------------------------------------------------------------------------------------------------------------------------------------------------------------------\n"
     ]
    },
    {
     "name": "stderr",
     "output_type": "stream",
     "text": [
      "lists...:  68%|██████▊   | 68/100 [02:39<01:09,  2.16s/it]"
     ]
    },
    {
     "name": "stdout",
     "output_type": "stream",
     "text": [
      "date: None\n",
      "title: 오염수 방류* AI 확산에 '걱정 또 걱정' ::::: 기사\n",
      "--------------------------------------------------------------------------------------------------------------------------------------------------------------------------------------------------------\n"
     ]
    },
    {
     "name": "stderr",
     "output_type": "stream",
     "text": [
      "lists...:  69%|██████▉   | 69/100 [02:41<01:12,  2.33s/it]"
     ]
    },
    {
     "name": "stdout",
     "output_type": "stream",
     "text": [
      "date: 2023-12-27 16:33:00+09:00\n",
      "title: 충북, 올해 가장 뜨거웠던 시민운동 투표 결과 보니...\n",
      "--------------------------------------------------------------------------------------------------------------------------------------------------------------------------------------------------------\n"
     ]
    },
    {
     "name": "stderr",
     "output_type": "stream",
     "text": [
      "lists...:  70%|███████   | 70/100 [02:44<01:09,  2.32s/it]"
     ]
    },
    {
     "name": "stdout",
     "output_type": "stream",
     "text": [
      "date: 2023-12-20 14:04:53+09:00\n",
      "title: 소비자단체가 뽑은 올해 1위뉴스는 '후쿠시마 오염수 방류'\n",
      "--------------------------------------------------------------------------------------------------------------------------------------------------------------------------------------------------------\n"
     ]
    },
    {
     "name": "stderr",
     "output_type": "stream",
     "text": [
      "lists...:  71%|███████   | 71/100 [02:46<01:05,  2.24s/it]"
     ]
    },
    {
     "name": "stdout",
     "output_type": "stream",
     "text": [
      "date: 2023-12-29 07:00:00+09:00\n",
      "title: 중국에 ‘퇴짜’ 맞은 가리비 한국에 판다는 일본, 현실될 수도\n",
      "--------------------------------------------------------------------------------------------------------------------------------------------------------------------------------------------------------\n"
     ]
    },
    {
     "name": "stderr",
     "output_type": "stream",
     "text": [
      "lists...:  72%|███████▏  | 72/100 [02:48<00:59,  2.11s/it]"
     ]
    },
    {
     "name": "stdout",
     "output_type": "stream",
     "text": [
      "date: None\n",
      "title: [세상읽기] 日 오염수, 태아와 ‘슈뢰딩거 고양이’ 살리기\n",
      "--------------------------------------------------------------------------------------------------------------------------------------------------------------------------------------------------------\n"
     ]
    },
    {
     "name": "stderr",
     "output_type": "stream",
     "text": [
      "lists...:  73%|███████▎  | 73/100 [02:50<00:57,  2.14s/it]"
     ]
    },
    {
     "name": "stdout",
     "output_type": "stream",
     "text": [
      "date: 2023-12-27 00:05:00+09:00\n",
      "title: 민원사주 심의 의혹 속 MBC KBS 가짜뉴스 센터 신속 심의 올라\n",
      "--------------------------------------------------------------------------------------------------------------------------------------------------------------------------------------------------------\n"
     ]
    },
    {
     "name": "stderr",
     "output_type": "stream",
     "text": [
      "lists...:  74%|███████▍  | 74/100 [02:52<00:54,  2.08s/it]"
     ]
    },
    {
     "name": "stdout",
     "output_type": "stream",
     "text": [
      "date: None\n",
      "title: KTV 국민방송\n",
      "--------------------------------------------------------------------------------------------------------------------------------------------------------------------------------------------------------\n"
     ]
    },
    {
     "name": "stderr",
     "output_type": "stream",
     "text": [
      "lists...:  75%|███████▌  | 75/100 [02:55<01:03,  2.54s/it]"
     ]
    },
    {
     "name": "stdout",
     "output_type": "stream",
     "text": [
      "date: 2023-12-30 00:00:00\n",
      "title: [뉴데일리 선정 경제 10대 뉴스] '악전고투(惡戰苦鬪)'\n",
      "--------------------------------------------------------------------------------------------------------------------------------------------------------------------------------------------------------\n"
     ]
    },
    {
     "name": "stderr",
     "output_type": "stream",
     "text": [
      "lists...:  76%|███████▌  | 76/100 [02:58<01:00,  2.54s/it]"
     ]
    },
    {
     "name": "stdout",
     "output_type": "stream",
     "text": [
      "date: 2023-12-19 18:26:00+09:00\n",
      "title: 강도형 해수장관 후보자 \"물의에 거듭 사과\"…'오염수' 두고 여야 공방\n",
      "--------------------------------------------------------------------------------------------------------------------------------------------------------------------------------------------------------\n"
     ]
    },
    {
     "name": "stderr",
     "output_type": "stream",
     "text": [
      "lists...:  77%|███████▋  | 77/100 [03:00<00:56,  2.46s/it]"
     ]
    },
    {
     "name": "stdout",
     "output_type": "stream",
     "text": [
      "date: None\n",
      "title: 日 후쿠시마 오염수 4차 방류, 내년 2월 말 개시\n",
      "--------------------------------------------------------------------------------------------------------------------------------------------------------------------------------------------------------\n"
     ]
    },
    {
     "name": "stderr",
     "output_type": "stream",
     "text": [
      "lists...:  78%|███████▊  | 78/100 [03:02<00:52,  2.38s/it]"
     ]
    },
    {
     "name": "stdout",
     "output_type": "stream",
     "text": [
      "date: 2023-12-15 13:14:05+09:00\n",
      "title: 한일, '후쿠시마 오염수' 화상회의…방류 관련 기술 사안 협의\n",
      "--------------------------------------------------------------------------------------------------------------------------------------------------------------------------------------------------------\n"
     ]
    },
    {
     "name": "stderr",
     "output_type": "stream",
     "text": [
      "lists...:  79%|███████▉  | 79/100 [03:04<00:46,  2.23s/it]"
     ]
    },
    {
     "name": "stdout",
     "output_type": "stream",
     "text": [
      "date: None\n",
      "title: (2023 사건사고)흉악범죄 공포에 일 오염수 방류까지\n",
      "--------------------------------------------------------------------------------------------------------------------------------------------------------------------------------------------------------\n"
     ]
    },
    {
     "name": "stderr",
     "output_type": "stream",
     "text": [
      "lists...:  80%|████████  | 80/100 [03:07<00:45,  2.28s/it]"
     ]
    },
    {
     "name": "stdout",
     "output_type": "stream",
     "text": [
      "date: 2023-12-25 16:40:22+09:00\n",
      "title: 일본 오염수 방류 불안…충북도, 농수산물 방사능 상시감시\n",
      "--------------------------------------------------------------------------------------------------------------------------------------------------------------------------------------------------------\n"
     ]
    },
    {
     "name": "stderr",
     "output_type": "stream",
     "text": [
      "lists...:  81%|████████  | 81/100 [03:09<00:41,  2.17s/it]"
     ]
    },
    {
     "name": "stdout",
     "output_type": "stream",
     "text": [
      "date: 2023-12-20 10:57:29+09:00\n",
      "title: 신임 주중 일본대사, 오염수 갈등 관련 \"中과 끈질긴 대화 중요\"\n",
      "--------------------------------------------------------------------------------------------------------------------------------------------------------------------------------------------------------\n"
     ]
    },
    {
     "name": "stderr",
     "output_type": "stream",
     "text": [
      "lists...:  82%|████████▏ | 82/100 [03:11<00:42,  2.38s/it]"
     ]
    },
    {
     "name": "stdout",
     "output_type": "stream",
     "text": [
      "date: 2023-12-14 10:19:29+09:00\n",
      "title: 日 \"韓 '오염수' 명칭, 오해 확산…처리수로 표현해야\"\n",
      "--------------------------------------------------------------------------------------------------------------------------------------------------------------------------------------------------------\n"
     ]
    },
    {
     "name": "stderr",
     "output_type": "stream",
     "text": [
      "lists...:  83%|████████▎ | 83/100 [03:14<00:42,  2.51s/it]"
     ]
    },
    {
     "name": "stdout",
     "output_type": "stream",
     "text": [
      "date: 2023-12-28 20:54:22+09:00\n",
      "title: “괴담에서 벗어나 상식과 신뢰의 2024년 되길”\n",
      "--------------------------------------------------------------------------------------------------------------------------------------------------------------------------------------------------------\n"
     ]
    },
    {
     "name": "stderr",
     "output_type": "stream",
     "text": [
      "lists...:  84%|████████▍ | 84/100 [03:17<00:40,  2.53s/it]"
     ]
    },
    {
     "name": "stdout",
     "output_type": "stream",
     "text": [
      "date: None\n",
      "title: 2024년, 민생의 국회 탄생하길\n",
      "--------------------------------------------------------------------------------------------------------------------------------------------------------------------------------------------------------\n"
     ]
    },
    {
     "name": "stderr",
     "output_type": "stream",
     "text": [
      "lists...:  85%|████████▌ | 85/100 [03:19<00:34,  2.33s/it]"
     ]
    },
    {
     "name": "stdout",
     "output_type": "stream",
     "text": [
      "date: 2023-12-22 11:43:22+09:00\n",
      "title: 日 도쿄전력 \"내년 4월 이후 방류 오염수, 1월부터 이송작업\"\n",
      "--------------------------------------------------------------------------------------------------------------------------------------------------------------------------------------------------------\n"
     ]
    },
    {
     "name": "stderr",
     "output_type": "stream",
     "text": [
      "lists...:  86%|████████▌ | 86/100 [03:21<00:32,  2.34s/it]"
     ]
    },
    {
     "name": "stdout",
     "output_type": "stream",
     "text": [
      "date: 2023-12-27 14:06:25+09:00\n",
      "title: 충북지역 농·수산물 일본 방사능 오염수 검사서 '적합'\n",
      "--------------------------------------------------------------------------------------------------------------------------------------------------------------------------------------------------------\n"
     ]
    },
    {
     "name": "stderr",
     "output_type": "stream",
     "text": [
      "lists...:  87%|████████▋ | 87/100 [03:23<00:29,  2.28s/it]"
     ]
    },
    {
     "name": "stdout",
     "output_type": "stream",
     "text": [
      "date: 2023-12-27 22:26:00+09:00\n",
      "title: [경향의 눈] 2023, 대통령의 ‘황당한 말잔치’ 1년\n",
      "--------------------------------------------------------------------------------------------------------------------------------------------------------------------------------------------------------\n"
     ]
    },
    {
     "name": "stderr",
     "output_type": "stream",
     "text": [
      "lists...:  88%|████████▊ | 88/100 [03:26<00:28,  2.41s/it]"
     ]
    },
    {
     "name": "stdout",
     "output_type": "stream",
     "text": [
      "date: 2023-12-26 15:20:00+09:00\n",
      "title: [다시 보는 2023 경남] 반발 속에서 일본 원전 오염수 방류…어업인 직격탄\n",
      "--------------------------------------------------------------------------------------------------------------------------------------------------------------------------------------------------------\n"
     ]
    },
    {
     "name": "stderr",
     "output_type": "stream",
     "text": [
      "lists...:  89%|████████▉ | 89/100 [03:28<00:26,  2.42s/it]"
     ]
    },
    {
     "name": "stdout",
     "output_type": "stream",
     "text": [
      "date: 2023-12-15 14:53:29+09:00\n",
      "title: \"日후쿠시마 원전 처리 비용 17조원 증가…오염수 피해 배상 원인\"\n",
      "--------------------------------------------------------------------------------------------------------------------------------------------------------------------------------------------------------\n"
     ]
    },
    {
     "name": "stderr",
     "output_type": "stream",
     "text": [
      "lists...:  90%|█████████ | 90/100 [03:31<00:26,  2.61s/it]"
     ]
    },
    {
     "name": "stdout",
     "output_type": "stream",
     "text": [
      "date: None\n",
      "title: '위기가 기회', 올해 경남 수산업계에 '딱'\n",
      "--------------------------------------------------------------------------------------------------------------------------------------------------------------------------------------------------------\n"
     ]
    },
    {
     "name": "stderr",
     "output_type": "stream",
     "text": [
      "lists...:  91%|█████████ | 91/100 [03:34<00:23,  2.56s/it]"
     ]
    },
    {
     "name": "stdout",
     "output_type": "stream",
     "text": [
      "date: None\n",
      "title: \n",
      "--------------------------------------------------------------------------------------------------------------------------------------------------------------------------------------------------------\n"
     ]
    },
    {
     "name": "stderr",
     "output_type": "stream",
     "text": [
      "lists...:  92%|█████████▏| 92/100 [03:37<00:22,  2.75s/it]"
     ]
    },
    {
     "name": "stdout",
     "output_type": "stream",
     "text": [
      "date: 2023-12-19 05:03:09+09:00\n",
      "title: 강도형 해수부장관 후보 청문회…민주, 폭력·음주운전 전과 집중 추궁\n",
      "--------------------------------------------------------------------------------------------------------------------------------------------------------------------------------------------------------\n"
     ]
    },
    {
     "name": "stderr",
     "output_type": "stream",
     "text": [
      "lists...:  93%|█████████▎| 93/100 [03:40<00:19,  2.72s/it]"
     ]
    },
    {
     "name": "stdout",
     "output_type": "stream",
     "text": [
      "date: 2023-12-30 08:31:49+09:00\n",
      "title: 2023년 ‘정치’를 ‘정리’한다...월별 정치 뉴스(中)\n",
      "--------------------------------------------------------------------------------------------------------------------------------------------------------------------------------------------------------\n"
     ]
    },
    {
     "name": "stderr",
     "output_type": "stream",
     "text": [
      "lists...:  94%|█████████▍| 94/100 [03:42<00:14,  2.49s/it]"
     ]
    },
    {
     "name": "stdout",
     "output_type": "stream",
     "text": [
      "date: None\n",
      "title: [토마토레터 제327호] 공지연 변호사 논란? 이재명은?\n",
      "--------------------------------------------------------------------------------------------------------------------------------------------------------------------------------------------------------\n"
     ]
    },
    {
     "name": "stderr",
     "output_type": "stream",
     "text": [
      "lists...:  95%|█████████▌| 95/100 [03:45<00:13,  2.66s/it]"
     ]
    },
    {
     "name": "stdout",
     "output_type": "stream",
     "text": [
      "date: None\n",
      "title: 뉴스 다시 보기\n",
      "--------------------------------------------------------------------------------------------------------------------------------------------------------------------------------------------------------\n"
     ]
    },
    {
     "name": "stderr",
     "output_type": "stream",
     "text": [
      "lists...:  96%|█████████▌| 96/100 [03:47<00:10,  2.69s/it]"
     ]
    },
    {
     "name": "stdout",
     "output_type": "stream",
     "text": [
      "date: 2023-12-30 16:26:18+09:00\n",
      "title: [2023 유통 10대 뉴스] 플레이션 전성시대‧잼버리 곰팡이 달걀‧희망퇴직 칼바람\n",
      "--------------------------------------------------------------------------------------------------------------------------------------------------------------------------------------------------------\n"
     ]
    },
    {
     "name": "stderr",
     "output_type": "stream",
     "text": [
      "lists...:  97%|█████████▋| 97/100 [03:50<00:07,  2.60s/it]"
     ]
    },
    {
     "name": "stdout",
     "output_type": "stream",
     "text": [
      "date: 2023-12-27 06:43:17+09:00\n",
      "title: 중국 수출 막힌 일본 가리비 \"한국에 팔겠다\"\n",
      "--------------------------------------------------------------------------------------------------------------------------------------------------------------------------------------------------------\n"
     ]
    },
    {
     "name": "stderr",
     "output_type": "stream",
     "text": [
      "lists...:  98%|█████████▊| 98/100 [03:52<00:04,  2.40s/it]"
     ]
    },
    {
     "name": "stdout",
     "output_type": "stream",
     "text": [
      "date: 2023-12-26 13:14:00+09:00\n",
      "title: '김건희 특검법' 조건부 수용, 尹 격노? \"한동훈이라면... 가능성있는 얘기\"\n",
      "--------------------------------------------------------------------------------------------------------------------------------------------------------------------------------------------------------\n"
     ]
    },
    {
     "name": "stderr",
     "output_type": "stream",
     "text": [
      "lists...:  99%|█████████▉| 99/100 [03:54<00:02,  2.41s/it]"
     ]
    },
    {
     "name": "stdout",
     "output_type": "stream",
     "text": [
      "date: 2024-01-01 21:38:39+09:00\n",
      "title: 이재섭(경북 구미시) 씨\n",
      "--------------------------------------------------------------------------------------------------------------------------------------------------------------------------------------------------------\n"
     ]
    },
    {
     "name": "stderr",
     "output_type": "stream",
     "text": [
      "lists...: 100%|██████████| 100/100 [03:56<00:00,  2.37s/it]"
     ]
    },
    {
     "name": "stdout",
     "output_type": "stream",
     "text": [
      "                         date  \\\n",
      "0   2024-01-01 18:15:47+09:00   \n",
      "1   2023-12-31 06:30:00+09:00   \n",
      "2   2023-12-31 10:39:32+09:00   \n",
      "3   2023-12-31 06:29:00+09:00   \n",
      "4                        None   \n",
      "5   2024-01-01 16:40:00+09:00   \n",
      "6   2023-12-31 10:11:28+09:00   \n",
      "7                        None   \n",
      "8   2023-12-26 23:53:49+09:00   \n",
      "9   2023-12-26 10:22:40+09:00   \n",
      "10  2023-12-29 16:05:03+09:00   \n",
      "11  2024-01-01 13:46:27+09:00   \n",
      "12  2023-12-25 19:37:07+09:00   \n",
      "13        2023-12-26 00:00:00   \n",
      "14  2023-12-31 08:38:00+09:00   \n",
      "15  2023-12-31 17:14:22+09:00   \n",
      "16  2023-12-30 00:21:26+00:00   \n",
      "17  2024-01-01 00:27:00+09:00   \n",
      "18  2023-12-31 22:54:00+09:00   \n",
      "19  2023-12-27 10:49:29+09:00   \n",
      "20  2023-12-28 15:20:40+09:00   \n",
      "21  2023-12-27 15:30:39+09:00   \n",
      "22  2024-01-01 14:36:43+09:00   \n",
      "23  2023-12-26 12:27:08+09:00   \n",
      "24  2023-12-31 10:27:19+09:00   \n",
      "25  2023-12-27 20:50:00+09:00   \n",
      "26                       None   \n",
      "27  2023-12-24 10:09:30+09:00   \n",
      "28  2023-12-29 10:50:05+09:00   \n",
      "29  2023-12-26 04:00:00+09:00   \n",
      "30  2023-12-22 17:01:29+09:00   \n",
      "31  2023-12-29 10:39:00+09:00   \n",
      "32  2023-12-27 16:29:11+09:00   \n",
      "33                       None   \n",
      "34  2023-12-24 10:31:00+09:00   \n",
      "35  2023-12-18 18:37:51+09:00   \n",
      "36  2023-12-30 18:52:00+09:00   \n",
      "37  2023-12-31 16:08:05+09:00   \n",
      "38                       None   \n",
      "39                       None   \n",
      "40  2023-12-21 20:06:32+09:00   \n",
      "41                       None   \n",
      "42                       None   \n",
      "43                       None   \n",
      "44  2023-12-30 07:31:03+09:00   \n",
      "45  2023-12-31 06:17:01+09:00   \n",
      "46                       None   \n",
      "47  2023-12-27 13:18:00+09:00   \n",
      "48  2023-12-28 20:57:00+09:00   \n",
      "49  2023-12-20 16:23:29+09:00   \n",
      "50                       None   \n",
      "51                       None   \n",
      "52  2023-12-26 11:10:19+09:00   \n",
      "53  2023-12-19 16:48:20+09:00   \n",
      "54  2023-12-27 13:02:40+09:00   \n",
      "55                       None   \n",
      "56        2023-12-26 12:00:00   \n",
      "57                       None   \n",
      "58  2023-12-26 11:10:19+09:00   \n",
      "59                       None   \n",
      "60                       None   \n",
      "61  2023-12-24 10:56:00+09:00   \n",
      "62                       None   \n",
      "63                       None   \n",
      "64  2023-12-31 07:04:00+09:00   \n",
      "65  2023-12-20 10:37:29+09:00   \n",
      "66  2024-01-01 06:40:34+09:00   \n",
      "67  2023-12-18 11:39:11+09:00   \n",
      "68                       None   \n",
      "69  2023-12-27 16:33:00+09:00   \n",
      "70  2023-12-20 14:04:53+09:00   \n",
      "71  2023-12-29 07:00:00+09:00   \n",
      "72                       None   \n",
      "73  2023-12-27 00:05:00+09:00   \n",
      "74                       None   \n",
      "75        2023-12-30 00:00:00   \n",
      "76  2023-12-19 18:26:00+09:00   \n",
      "77                       None   \n",
      "78  2023-12-15 13:14:05+09:00   \n",
      "79                       None   \n",
      "80  2023-12-25 16:40:22+09:00   \n",
      "81  2023-12-20 10:57:29+09:00   \n",
      "82  2023-12-14 10:19:29+09:00   \n",
      "83  2023-12-28 20:54:22+09:00   \n",
      "84                       None   \n",
      "85  2023-12-22 11:43:22+09:00   \n",
      "86  2023-12-27 14:06:25+09:00   \n",
      "87  2023-12-27 22:26:00+09:00   \n",
      "88  2023-12-26 15:20:00+09:00   \n",
      "89  2023-12-15 14:53:29+09:00   \n",
      "90                       None   \n",
      "91                       None   \n",
      "92  2023-12-19 05:03:09+09:00   \n",
      "93  2023-12-30 08:31:49+09:00   \n",
      "94                       None   \n",
      "95                       None   \n",
      "96  2023-12-30 16:26:18+09:00   \n",
      "97  2023-12-27 06:43:17+09:00   \n",
      "98  2023-12-26 13:14:00+09:00   \n",
      "99  2024-01-01 21:38:39+09:00   \n",
      "\n",
      "                                                title  \\\n",
      "0                  후쿠시마 오염수 영상 삭제, SBS 시청자위-시사교양국장 논쟁   \n",
      "1         후쿠시마 오염수 방류·기후 위기로 어자원 고갈…어민들 '시름'[결산 2023]   \n",
      "2                   \"중일, 후쿠시마 오염수 전문가 협의 내년 조기 개최 조율\"   \n",
      "3             [아듀2023] 日오염수 방류·잼버리 망신... 사회·국제 10대 뉴스   \n",
      "4                      원전 오염수에 이어…日, 후지산 화산재도 바다에 버린다   \n",
      "5                      후쿠시마 오염수 방류 4개월째… 활기 되찾은 수산물시장   \n",
      "6                      아스파탐·日수산물 '포비아'…올해 달군 먹거리 이슈는?   \n",
      "7   도쿄전력 \"'오염수' 아닌 '처리수' 용어 사용해달라\"…정부 \"'처리수' 변경 목소...   \n",
      "8                               日, 오염수 삼중수소 분석 횟수 줄인다   \n",
      "9                 日도쿄전력, 오염수 미방류시 해수 분석횟수 매일 1회→주 1회로   \n",
      "10                         폐광 폐수처리 오니, 오염수 흡착제로 재활용한다   \n",
      "11        수도권매립지관리공사, 폐탄광 폐수처리 침전물 오염수 흡착제로 재활용 기술 승인   \n",
      "12                       日, 오염수로 中서 막힌 가리비 한국 수출 확대키로   \n",
      "13                    오염수 방류로 中서 막힌 가리비…日 \"한국에 수출 확대\"   \n",
      "14  [2023년 대전일보 선정 국외 10대 뉴스] 이스라엘-하마스 전쟁·일본 후쿠시마 ...   \n",
      "15           日, 원전 오염수 이어 ‘화산재’도 바다에 버리겠다 선언 [여기는 일본]   \n",
      "16                                             연합뉴스TV   \n",
      "17                            새해를 맞이한 한일 관계의 변수와 전망은?   \n",
      "18                         올해 한일 관계 급진전...새해 변수와 전망은?   \n",
      "19                  \"日·中, 원전 오염수 전문가 협의회 내년 조기 개최 조율\"   \n",
      "20                           원안위, 후쿠시마 오염수 대응 전담조직 신설   \n",
      "21                [프로필] 송명달 신임 해수부 차관…후쿠시마 오염수 대응 이끌어   \n",
      "22                위성곤 “개혁·공정·민생·정의 깃발로 최남단 제주부터 변하겠다”   \n",
      "23                 일본 가리비 한국 수출설에 정부 \"日계획 불과…수입규제 유지\"   \n",
      "24       올해 뜨거웠던 사회 이슈 Top10…마약 범죄·전세사기·후쿠시마 오염수 방류 등   \n",
      "25                        “日 오염수 방류, 완료까지 최소 15년 걸린다”   \n",
      "26                                             KBS 뉴스   \n",
      "27                   日 오염수 불안감 줄여라…충북도, 농수산물 방사능 상시감시   \n",
      "28                           日 미에현서 갈치떼 집단 폐사…오염수 때문?   \n",
      "29                                갑자기 자취를 감춰버린 오염수 괴담   \n",
      "30                    日, 후쿠시마 오염수 모니터링 주 1회→월 1회로 줄인다   \n",
      "31                    떠나는 조승환 “오염수만 아니었다면…남은 과제 잘 부탁”   \n",
      "32                            오염수 방류 회의하는 일본 원자력규제위원회   \n",
      "33                                             KBS 뉴스   \n",
      "34               북한 “세균전 전범자 후예들, 핵 오염수로 지구 안전 위협” 읽음   \n",
      "35                   \"日후쿠시마 오염수 4차 해양 방류 내년 2월 하순 개시\"   \n",
      "36                       총 295일간 86회의 윤석열정부 규탄집회를 마치며   \n",
      "37                       중국 신화통신이 꼽은 '2023 세계 10대 뉴스'   \n",
      "38                                             KBS 뉴스   \n",
      "39                    \"故이선균, 전청조, 누리호, 항저우AG…올해의 키워드\"   \n",
      "40                         日 도쿄전력 “5차 방류 오염수 1월부터 이송”   \n",
      "41                                             KBS 뉴스   \n",
      "42                   후쿠시마 오염수 방류 4개월…‘소문피해’ 배상청구 130건   \n",
      "43                  11년치 정어리떼 또 폐사…\"오염수 탓\" 외신에 일 '발칵'   \n",
      "44            [신년인터뷰] 천영기 통영시장 \"야간관광 활성화해 글로벌 도시로 우뚝\"   \n",
      "45            팩트체크 2023 ② ‘의대정원’, ‘김건희 특검’, ‘원전 오염수’…   \n",
      "46                                             KBS 뉴스   \n",
      "47           후쿠시마 인근 주민 48% “우리도 건강 걱정돼 내고장 식품 기피” 읽음   \n",
      "48                   강제동원 ‘제3자 변제’·오염수 방류 ‘방조’ 연장선 읽음   \n",
      "49                           대구 환경단체 \"일본 핵 오염수 방류 반대\"   \n",
      "50                                             KBS 뉴스   \n",
      "51                   [R]후쿠시마 오염수 방류..\\'수산물 소비위축\\' 현실화   \n",
      "52                         박구연 국무1차장, 후쿠시마 오염수 방류 브리핑   \n",
      "53                   시민이 뽑은 올해 환경뉴스 1위는…\"후쿠시마 오염수 방류\"   \n",
      "54                    중일 오염수 전문가 협의 개최하기로…가리비 수출 재개될까   \n",
      "55         ‘일본 오염수 방류 지속 대비’…인천 남동구, 내년 수산물 방사능 검사 강화   \n",
      "56                 기름 오염수를 ‘생수’처럼 정화… 신기술에 산유국 러브콜 쇄도   \n",
      "57                                             KBS 뉴스   \n",
      "58                    최용석 해수부 수산정책실장, 후쿠시마 오염수 방류 브리핑   \n",
      "59                                                      \n",
      "60                                             KBS 뉴스   \n",
      "61                    핵미사일로 전세계 위협 北 \"日, 핵오염수로 인류 위협\"   \n",
      "62                              채널A가 뽑은 2023 국제 7대 뉴스   \n",
      "63             연말기획)오염수 방류* AI 확산에 '걱정 또 걱정' ::::: 기사   \n",
      "64                                       [기록 2023] 국제   \n",
      "65             日외무상, 후쿠시마 오염수 설비 시찰…中 등 \"수입 중단 철폐 요구\"   \n",
      "66              [와글와글] 기모노 입은 중국 여성에 \"매국노\"‥'반일 정서' 고조   \n",
      "67                         정부 \"'오염수→처리수' 변경 목소리 소강상태\"   \n",
      "68                  오염수 방류* AI 확산에 '걱정 또 걱정' ::::: 기사   \n",
      "69                    충북, 올해 가장 뜨거웠던 시민운동 투표 결과 보니...   \n",
      "70                   소비자단체가 뽑은 올해 1위뉴스는 '후쿠시마 오염수 방류'   \n",
      "71                 중국에 ‘퇴짜’ 맞은 가리비 한국에 판다는 일본, 현실될 수도   \n",
      "72                   [세상읽기] 日 오염수, 태아와 ‘슈뢰딩거 고양이’ 살리기   \n",
      "73              민원사주 심의 의혹 속 MBC KBS 가짜뉴스 센터 신속 심의 올라   \n",
      "74                                           KTV 국민방송   \n",
      "75                   [뉴데일리 선정 경제 10대 뉴스] '악전고투(惡戰苦鬪)'   \n",
      "76            강도형 해수장관 후보자 \"물의에 거듭 사과\"…'오염수' 두고 여야 공방   \n",
      "77                       日 후쿠시마 오염수 4차 방류, 내년 2월 말 개시   \n",
      "78                 한일, '후쿠시마 오염수' 화상회의…방류 관련 기술 사안 협의   \n",
      "79                     (2023 사건사고)흉악범죄 공포에 일 오염수 방류까지   \n",
      "80                    일본 오염수 방류 불안…충북도, 농수산물 방사능 상시감시   \n",
      "81               신임 주중 일본대사, 오염수 갈등 관련 \"中과 끈질긴 대화 중요\"   \n",
      "82                    日 \"韓 '오염수' 명칭, 오해 확산…처리수로 표현해야\"   \n",
      "83                        “괴담에서 벗어나 상식과 신뢰의 2024년 되길”   \n",
      "84                                 2024년, 민생의 국회 탄생하길   \n",
      "85                日 도쿄전력 \"내년 4월 이후 방류 오염수, 1월부터 이송작업\"   \n",
      "86                     충북지역 농·수산물 일본 방사능 오염수 검사서 '적합'   \n",
      "87                    [경향의 눈] 2023, 대통령의 ‘황당한 말잔치’ 1년   \n",
      "88        [다시 보는 2023 경남] 반발 속에서 일본 원전 오염수 방류…어업인 직격탄   \n",
      "89              \"日후쿠시마 원전 처리 비용 17조원 증가…오염수 피해 배상 원인\"   \n",
      "90                          '위기가 기회', 올해 경남 수산업계에 '딱'   \n",
      "91                                                      \n",
      "92              강도형 해수부장관 후보 청문회…민주, 폭력·음주운전 전과 집중 추궁   \n",
      "93                   2023년 ‘정치’를 ‘정리’한다...월별 정치 뉴스(中)   \n",
      "94                    [토마토레터 제327호] 공지연 변호사 논란? 이재명은?   \n",
      "95                                           뉴스 다시 보기   \n",
      "96     [2023 유통 10대 뉴스] 플레이션 전성시대‧잼버리 곰팡이 달걀‧희망퇴직 칼바람   \n",
      "97                          중국 수출 막힌 일본 가리비 \"한국에 팔겠다\"   \n",
      "98       '김건희 특검법' 조건부 수용, 尹 격노? \"한동훈이라면... 가능성있는 얘기\"   \n",
      "99                                      이재섭(경북 구미시) 씨   \n",
      "\n",
      "                                                 text  \n",
      "0   SBS 시청자위원회는 후쿠시마 오염수 방류로 위협받는 동물권 관련 유튜브 영상을 삭...  \n",
      "1   경남 거제시 사등면 거제수협 성포위판장. © News1 강미영 기자\\n\\n올해 8월...  \n",
      "2   중국과 일본 정부가 후쿠시마 제1원자력발전소 오염수(일본 정부 명칭 '처리수') 해...  \n",
      "3   ━\\n\\n日후쿠시마 원전… 사고 이후 12년만에 '오염수 해양 방류' 개시\\n\\n━...  \n",
      "4   \"1707년 규모로 폭발시 화산재, 도쿄돔 390개 분량\"\\n\\n\\n\\n일본 후지산...  \n",
      "5   지난달 26일 오전 10시께 인천종합어시장을 찾은 주민들이 장을 보고 있다. 사진=...  \n",
      "6   [서울=뉴시스] 김명년 기자 = 세계보건기구(WHO) 산하 국제암연구소(IARC)의...  \n",
      "7   도쿄전력 \"바다에 방출하는 건 오염수 아닌 처리수\"\\n\\n우리 정부 \"'처리수' 변...  \n",
      "8   방류 후에도 농도 기준치 이하 유지\\n\\n“정부·도쿄전력 안전성 과신” 비판\\n\\n...  \n",
      "9   \"방류 기간에 중점 실시\"…환경성에 이어 해수 분석 횟수 줄여\\n\\n일본 후쿠시마 ...  \n",
      "10  [인천=뉴시스] 수도권매립지관리공사 전문인력이 현장에서 재활용환경성평가 업무를 수행...  \n",
      "11  수도권매립지관리공사가 폐탄광의 폐수 처리과정에서 빌생한 침전물(찌꺼기)을 오염수 관...  \n",
      "12  가리비와 굴 어획한 일본 어선 [EPA 연합뉴스 자료사진. 재판매 및 DB 금지]\\...  \n",
      "13  일본산 가리비 /TV조선 방송화면 캡처\\n\\n일본 정부가 후쿠시마 제1원자력발전소 ...  \n",
      "14  그 어느 때보다 다사다난(多事多難)했던 계묘년(癸卯年)이 어느덧 단 하루만을 남겨두...  \n",
      "15  ▲ 국제우주정거장(ISS)에서 촬영한 후지산의 모습(사진=퍼블릭 도메인)\\n\\n▲ ...  \n",
      "16  브라우저가 video 태그를 지원하지 않습니다.\\n\\n죄송하지만 다른 브라우저를 사...  \n",
      "17  AD\\n\\n[앵커]\\n\\n지난 한 해 일본은 한일 관계 개선 속에 여러 분야에서 우...  \n",
      "18  AD\\n\\n[앵커]\\n\\n올 한 해 일본은 한일 관계 개선 속에 여러 분야에서 우리...  \n",
      "19  [이와키=AP/뉴시스]일중 양국 정부는 도쿄전력 후쿠시마 제1원자력발전소의 오염수 ...  \n",
      "20  사진 확대 [사진=원자력안전위원회]\\n\\n원자력안전위원회에 내년부터 후쿠시마 오염수...  \n",
      "21  (서울=연합뉴스) 김윤구 기자 = 송명달 해양수산부 신임 차관은 30년 가까이 해양...  \n",
      "22  위성곤 국회의원 (사진=의원실)\\n\\n[로이슈 이상욱 기자]위성곤 더불어민주당 제주...  \n",
      "23  후쿠시마 포함 8개현 수산물 전면 금지…그외 지역 수산물 방사능 검사\\n\\n후쿠시마...  \n",
      "24  지난 1월 30일 실내 마스크 착용 의무 해제…화장품 매출 증가하기도\\n\\n항저우 ...  \n",
      "25  일본 후쿠시마 제1원자력발전소에서 발생한 오염수를 해양 방류하는데 적어도 15년 이...  \n",
      "26  동영상 고정 취소\\n\\n제주도는 최근 수산물 방사능 검사 결과 모두 적합 판정을 받...  \n",
      "27                5185㎝ 주원 \"중2때 분유 먹고 1년 만에 키 20㎝ 컸다\"  \n",
      "28  일본 미에현 시마시의 한 항구에서 갈치떼가 집단 폐사했다.\\n\\n\\n\\n28일(현지...  \n",
      "29  일본 후쿠시마 제1원전 오염수 3차 해양 방류가 시작된 지난 11월 2일 서울 동작...  \n",
      "30  [후쿠시마=AP/뉴시스] 일본 정부가 후쿠시마 제1원자력발전소의 오염수를 방출하지 ...  \n",
      "31  조승환 해수부 장관 29일 이임 이임사 통해 아쉬움과 당부 전해\\n\\n조승환 해양수...  \n",
      "32  (도쿄 교도=연합뉴스) 일본 원자력규제위원회 위원들이 27일 회의를 열고 도쿄전력(...  \n",
      "33  동영상 고정 취소\\n\\n[앵커]\\n\\n\\n\\n올해도 광주와 전남에는 굵직한 이슈가 ...  \n",
      "34  북한이 후쿠시마 원전 오염수 4차 해양 방류를 결정한 일본에 대해 24일 “세균전 ...  \n",
      "35  일본 도쿄전력이 후쿠시마 제1원자력발전소 오염수(일본 정부 명칭 '처리수') 4차 ...  \n",
      "36  큰사진보기 ▲ 3월 10일 제1차 규탄집회 이희선 더부천포럼 상임대표와 박종선 민족...  \n",
      "37  (베이징=신화통신) 신화통신이 올해 세계 10대 뉴스를 다음과 같이 선정했다.\\n\\...  \n",
      "38  동영상 고정 취소\\n\\n[앵커]\\n\\n\\n\\n지난여름 일본 후쿠시마 오염수 해양 방...  \n",
      "39  7일 중국 항저우 황룽 스포츠센터 스타디움에서 열린 2022 항저우 아시안게임 남자...  \n",
      "40  이미지 확대 지난 8월 27일 도쿄전력이 후쿠시마 제1원전 오염수 방류 후 처음으로...  \n",
      "41  동영상 고정 취소\\n\\n[앵커]\\n\\n\\n\\n지난여름 일본 후쿠시마 오염수 해양 방...  \n",
      "42                                                     \n",
      "43  <앵커>\\n\\n\\n\\n일본 해안가에 이달 들어 엄청난 양의 정어리 떼 사체가 여러 ...  \n",
      "44  \"남부권 광역관광 개발계획까지 더해 관광도시 자리매김 계획\" \"철저한 수산물 방사능...  \n",
      "45  2023년이 저물어갑니다. 한국의 팩트체크는 2017년부터 꽃을 피우기 시작했지만,...  \n",
      "46  동영상 고정 취소\\n\\n[앵커]\\n\\n\\n\\n올해 우리 수산업계를 가장 크게 흔들었...  \n",
      "47  후쿠시마 제1원자력발전소 오염수의 해양 방류와 관련해 인근 지역 2곳을 대상으로 진...  \n",
      "48  윤 정부, 일본에 일방적 양보…홍범도 흉상 철거 ‘친일’ 논란도\\n\\n국방부가 군 ...  \n",
      "49  [대구=뉴시스] 20일 대구 중구 동성로 옛 중앙파출소 분수대 앞에서 일본 방사성 ...  \n",
      "50  동영상 고정 취소\\n\\n[앵커]\\n\\n\\n\\n올해 우리 수산업계를 가장 크게 흔들었...  \n",
      "51  ◀ 앵 커 ▶\\n\\n일본이 후쿠시마 오염수 방류를 강행하면서\\n\\n올 해는 특히 경...  \n",
      "52                5185㎝ 주원 \"중2때 분유 먹고 1년 만에 키 20㎝ 컸다\"  \n",
      "53  환경보건시민센터, 성인 1천명 대상 조사\\n\\n'오염수 방류 중단하라' [연합뉴스 ...  \n",
      "54  마이니치신문 “내년 이른 시기에 개최하는 방향으로 조율 중”\\n\\n이미지 확대 지난...  \n",
      "55  인천 남동구가 내년부터 소래포구 등 수산물 방사능 안전관리를 강화한다.\\n\\n28일...  \n",
      "56  OZ-SEPA 멤브레인을 적용한 OIL SKIMMER. ㈜오즈세파 제공\\n\\n원유를...  \n",
      "57  읽어주기 기능은 크롬기반의 브라우저에서만 사용하실 수 있습니다.\\n\\n동영상 고정 ...  \n",
      "58                5185㎝ 주원 \"중2때 분유 먹고 1년 만에 키 20㎝ 컸다\"  \n",
      "59  다사다난 했던 한해가 지나고 갑진년 (甲辰年) 2024년 새해가 밝았다.코로나19 ...  \n",
      "60  읽어주기 기능은 크롬기반의 브라우저에서만 사용하실 수 있습니다.\\n\\n동영상 고정 ...  \n",
      "61  \"日해안에 죽은 정어리떼 밀려들어 아니 땐 굴뚝에서 연기 나겠나\"\\n\\n철조망 너머...  \n",
      "62  법적고지\\n\\n채널A에서 제공하는 콘텐츠에 대하여\\n\\n\\n\\n채널A의 각종 서비스...  \n",
      "63  ◀ 앵 커 ▶\\n\\n2023년도 이제 며칠 남지 않았습니다.\\n\\n\\n\\n\\n\\n목...  \n",
      "64  AD\\n\\n출구를 찾지 못한 우크라이나 전쟁이 계속된 가운데 세계 평화의 기원 속에...  \n",
      "65  [도쿄=AP/뉴시스]가미카와 요코(上川陽子) 일본 외무상은 후쿠시마(福島) 제1 원...  \n",
      "66  Previous Next\\n\\n전체재생\\n\\n일본이 후쿠시마 원전 오염수를 방류한 ...  \n",
      "67  [서울=뉴시스] 김명원 기자 = 박구연 국무조정실 국무1차장이 지난 11일 오전 서...  \n",
      "68  (앵커)\\n\\n올해는 코로나19가 3년여 만에\\n\\n끝났지만 뜻깊은 해였습니다.\\n...  \n",
      "69  큰사진보기 ▲ 2023년 충북 10대 시민운동 ⓒ 충북인뉴스 관련사진보기\\n\\n덧붙...  \n",
      "70  12개 소비자단체 '10대 뉴스' 선정…2위 염색샴푸 원료 위해성 검증 결과\\n\\n...  \n",
      "71  日, 중국 수출길 막히자 대체국 찾아 韓, 일본산 생가리비 최대 수입국 전체 일본산...  \n",
      "72  사람에게 유익하거나 기준치 이하라도 안전한 방사성 물질은 없다. 사람과 자연환경에 ...  \n",
      "73  후쿠시마 오염수 ‘2차 방류’를 보도한 MBC ‘뉴스데스크’와 한동훈 전 법무부 장...  \n",
      "74  최대환 앵커>KTV가 선정한 올해 10대 뉴스, 마지막 열 번째 뉴스입니다.올해는 ...  \n",
      "75  2023년 한국경제를 관통하는 화두는 고금리, 고물가, 저성장이었다. 여기에 글로벌...  \n",
      "76  강도형 해양수산부 장관 후보자가 19일 오전 서울 여의도 국회에서 열린 인사청문회에...  \n",
      "77  일본 도쿄전력이 후쿠시마 제1원자력발전소 오염수(일본 정부 명칭 ‘처리수’) 4차 ...  \n",
      "78  후쿠시마 제1원자력발전소 [지지 EPA 연합뉴스 자료사진. 재판매 및 DB 금지]\\...  \n",
      "79  [뉴스토마토 안창현 기자] 2023년은 이상동기범죄, 이른바 ‘묻지마 범죄’가 잇따...  \n",
      "80  기고 [기고]불법 사무장병원 단속을 위한 건보 특사경법의 신속한 국회통과를 기대한다...  \n",
      "81  [서울=뉴시스]박주성 기자 = 가나스기 겐지(金杉憲治) 신임 주중 일본대사는 일본 ...  \n",
      "82  [서울=뉴시스] 일본 도쿄전력(TEPCO)의 마유즈미 토모히코(左) 대변인과 이시바...  \n",
      "83  ▲김영한 박사(기독교학술원 원장, 샬롬나비 상임대표, 숭실대 기독교학대학원 설립원장...  \n",
      "84  [서울=뉴스핌] 최현민 기자 = 편의성은 높지만 쾌적성이 떨어지는 약점으로 인해 인...  \n",
      "85  日 도쿄전력 \"내년 4월 이후 방류 오염수, 1월부터 이송작업\"\\n\\n일본 도쿄전력...  \n",
      "86  오송 궁평2지하차도 오는 6월 다시 열리나\\n\\n［충북일보］ 지난해 7월 30명의 ...  \n",
      "87  2023년이 저물어 간다. 돌아보면 깜짝 놀랄 만한 발언들이 난무한 해였다. 특히 ...  \n",
      "88  [앵커]\\n\\n올 한해 어업인들을 분노로 들끓게 한 소식이 있죠.\\n\\n바로 일본 ...  \n",
      "89  [후쿠시마=AP/뉴시스]일본 후쿠시마(福島) 제1 원자력발전소 사고로 인한 배상과 ...  \n",
      "90  경남도청 전경. 경남도 제공\\n\\n일본이 지난 8월 24일 후쿠시마 원전의 오염수를...  \n",
      "91  2023년 10대 뉴스 [ 스페셜 ] 신효선 기자 elly@pckworld.com ...  \n",
      "92  [서울=뉴시스] 김금보 기자 = 강도형 해양수산부 장관 후보자가 11일 오전 서울 ...  \n",
      "93  2023년 5월 봄의 기운이 무르익고 있었지만, ‘여의도’에는 여전히 찬바람이 쌩쌩...  \n",
      "94  토마토Pick!\\n\\n최근 국민의힘이 30대 다문화 여성인 공지연 변호사를 인재로 ...  \n",
      "95  (앵커)지난 여름 일본 후쿠시마 원전 오염수 해양 방류가 제주 뿐 아니라 전 세계를...  \n",
      "96  신세계백화점 신년 전시회에서 공개된 김지영 작가의 '龍氣(용기)여 솟아라!'. (사...  \n",
      "97  전체재생\\n\\n◀ 앵커 ▶후쿠시마 오염수 방류 이후 중국이 일본 수산물 수입을 금지...  \n",
      "98  AD\\n\\nYTN라디오(FM 94.5) [YTN 뉴스FM 슬기로운 라디오생활]\\n\\...  \n",
      "99  일본 정부는 후쿠시마 원자력발 전소 오염수 방류를 강행했습니다. 134만t이 30년...  \n"
     ]
    },
    {
     "name": "stderr",
     "output_type": "stream",
     "text": [
      "\n"
     ]
    }
   ],
   "source": [
    "from newspaper import Article\n",
    "\n",
    "dates = []\n",
    "titles = []\n",
    "texts = []\n",
    "\n",
    "for link in tqdm(link_list, desc=\"lists...\"):\n",
    "    current_url = link\n",
    "    article = Article(current_url, language=\"ko\")\n",
    "    article.download()\n",
    "    article.parse()\n",
    "\n",
    "    date = article.publish_date;    print(f'date: {date}')\n",
    "    title = article.title;  print(f'title: {title}')\n",
    "    text = article.text;    print(f'{\"-\"*200}')\n",
    "    \n",
    "    dates.append(date)\n",
    "    titles.append(title)\n",
    "    texts.append(text)\n",
    "\n",
    "    time.sleep(rd.uniform(1.5, 2.5))\n",
    "\n",
    "articles = pd.DataFrame({\n",
    "    \"date\": dates,\n",
    "    \"title\": titles,\n",
    "    \"text\": texts\n",
    "})\n",
    "\n",
    "print(articles)"
   ]
  },
  {
   "cell_type": "code",
   "execution_count": 71,
   "metadata": {},
   "outputs": [],
   "source": [
    "articles.to_csv(\"./data/articles.csv\", index=False)"
   ]
  },
  {
   "cell_type": "code",
   "execution_count": 72,
   "metadata": {},
   "outputs": [
    {
     "data": {
      "text/html": [
       "<div>\n",
       "<style scoped>\n",
       "    .dataframe tbody tr th:only-of-type {\n",
       "        vertical-align: middle;\n",
       "    }\n",
       "\n",
       "    .dataframe tbody tr th {\n",
       "        vertical-align: top;\n",
       "    }\n",
       "\n",
       "    .dataframe thead th {\n",
       "        text-align: right;\n",
       "    }\n",
       "</style>\n",
       "<table border=\"1\" class=\"dataframe\">\n",
       "  <thead>\n",
       "    <tr style=\"text-align: right;\">\n",
       "      <th></th>\n",
       "      <th>date</th>\n",
       "      <th>title</th>\n",
       "      <th>text</th>\n",
       "    </tr>\n",
       "  </thead>\n",
       "  <tbody>\n",
       "    <tr>\n",
       "      <th>0</th>\n",
       "      <td>2024-01-01 18:15:47+09:00</td>\n",
       "      <td>후쿠시마 오염수 영상 삭제, SBS 시청자위-시사교양국장 논쟁</td>\n",
       "      <td>SBS 시청자위원회는 후쿠시마 오염수 방류로 위협받는 동물권 관련 유튜브 영상을 삭...</td>\n",
       "    </tr>\n",
       "    <tr>\n",
       "      <th>1</th>\n",
       "      <td>2023-12-31 06:30:00+09:00</td>\n",
       "      <td>후쿠시마 오염수 방류·기후 위기로 어자원 고갈…어민들 '시름'[결산 2023]</td>\n",
       "      <td>경남 거제시 사등면 거제수협 성포위판장. © News1 강미영 기자\\n\\n올해 8월...</td>\n",
       "    </tr>\n",
       "    <tr>\n",
       "      <th>2</th>\n",
       "      <td>2023-12-31 10:39:32+09:00</td>\n",
       "      <td>\"중일, 후쿠시마 오염수 전문가 협의 내년 조기 개최 조율\"</td>\n",
       "      <td>중국과 일본 정부가 후쿠시마 제1원자력발전소 오염수(일본 정부 명칭 '처리수') 해...</td>\n",
       "    </tr>\n",
       "    <tr>\n",
       "      <th>3</th>\n",
       "      <td>2023-12-31 06:29:00+09:00</td>\n",
       "      <td>[아듀2023] 日오염수 방류·잼버리 망신... 사회·국제 10대 뉴스</td>\n",
       "      <td>━\\n\\n日후쿠시마 원전… 사고 이후 12년만에 '오염수 해양 방류' 개시\\n\\n━...</td>\n",
       "    </tr>\n",
       "    <tr>\n",
       "      <th>4</th>\n",
       "      <td>NaN</td>\n",
       "      <td>원전 오염수에 이어…日, 후지산 화산재도 바다에 버린다</td>\n",
       "      <td>\"1707년 규모로 폭발시 화산재, 도쿄돔 390개 분량\"\\n\\n\\n\\n일본 후지산...</td>\n",
       "    </tr>\n",
       "    <tr>\n",
       "      <th>5</th>\n",
       "      <td>2024-01-01 16:40:00+09:00</td>\n",
       "      <td>후쿠시마 오염수 방류 4개월째… 활기 되찾은 수산물시장</td>\n",
       "      <td>지난달 26일 오전 10시께 인천종합어시장을 찾은 주민들이 장을 보고 있다. 사진=...</td>\n",
       "    </tr>\n",
       "    <tr>\n",
       "      <th>6</th>\n",
       "      <td>2023-12-31 10:11:28+09:00</td>\n",
       "      <td>아스파탐·日수산물 '포비아'…올해 달군 먹거리 이슈는?</td>\n",
       "      <td>[서울=뉴시스] 김명년 기자 = 세계보건기구(WHO) 산하 국제암연구소(IARC)의...</td>\n",
       "    </tr>\n",
       "    <tr>\n",
       "      <th>7</th>\n",
       "      <td>NaN</td>\n",
       "      <td>도쿄전력 \"'오염수' 아닌 '처리수' 용어 사용해달라\"…정부 \"'처리수' 변경 목소...</td>\n",
       "      <td>도쿄전력 \"바다에 방출하는 건 오염수 아닌 처리수\"\\n\\n우리 정부 \"'처리수' 변...</td>\n",
       "    </tr>\n",
       "    <tr>\n",
       "      <th>8</th>\n",
       "      <td>2023-12-26 23:53:49+09:00</td>\n",
       "      <td>日, 오염수 삼중수소 분석 횟수 줄인다</td>\n",
       "      <td>방류 후에도 농도 기준치 이하 유지\\n\\n“정부·도쿄전력 안전성 과신” 비판\\n\\n...</td>\n",
       "    </tr>\n",
       "    <tr>\n",
       "      <th>9</th>\n",
       "      <td>2023-12-26 10:22:40+09:00</td>\n",
       "      <td>日도쿄전력, 오염수 미방류시 해수 분석횟수 매일 1회→주 1회로</td>\n",
       "      <td>\"방류 기간에 중점 실시\"…환경성에 이어 해수 분석 횟수 줄여\\n\\n일본 후쿠시마 ...</td>\n",
       "    </tr>\n",
       "    <tr>\n",
       "      <th>10</th>\n",
       "      <td>2023-12-29 16:05:03+09:00</td>\n",
       "      <td>폐광 폐수처리 오니, 오염수 흡착제로 재활용한다</td>\n",
       "      <td>[인천=뉴시스] 수도권매립지관리공사 전문인력이 현장에서 재활용환경성평가 업무를 수행...</td>\n",
       "    </tr>\n",
       "    <tr>\n",
       "      <th>11</th>\n",
       "      <td>2024-01-01 13:46:27+09:00</td>\n",
       "      <td>수도권매립지관리공사, 폐탄광 폐수처리 침전물 오염수 흡착제로 재활용 기술 승인</td>\n",
       "      <td>수도권매립지관리공사가 폐탄광의 폐수 처리과정에서 빌생한 침전물(찌꺼기)을 오염수 관...</td>\n",
       "    </tr>\n",
       "    <tr>\n",
       "      <th>12</th>\n",
       "      <td>2023-12-25 19:37:07+09:00</td>\n",
       "      <td>日, 오염수로 中서 막힌 가리비 한국 수출 확대키로</td>\n",
       "      <td>가리비와 굴 어획한 일본 어선 [EPA 연합뉴스 자료사진. 재판매 및 DB 금지]\\...</td>\n",
       "    </tr>\n",
       "    <tr>\n",
       "      <th>13</th>\n",
       "      <td>2023-12-26 00:00:00</td>\n",
       "      <td>오염수 방류로 中서 막힌 가리비…日 \"한국에 수출 확대\"</td>\n",
       "      <td>일본산 가리비 /TV조선 방송화면 캡처\\n\\n일본 정부가 후쿠시마 제1원자력발전소 ...</td>\n",
       "    </tr>\n",
       "    <tr>\n",
       "      <th>14</th>\n",
       "      <td>2023-12-31 08:38:00+09:00</td>\n",
       "      <td>[2023년 대전일보 선정 국외 10대 뉴스] 이스라엘-하마스 전쟁·일본 후쿠시마 ...</td>\n",
       "      <td>그 어느 때보다 다사다난(多事多難)했던 계묘년(癸卯年)이 어느덧 단 하루만을 남겨두...</td>\n",
       "    </tr>\n",
       "    <tr>\n",
       "      <th>15</th>\n",
       "      <td>2023-12-31 17:14:22+09:00</td>\n",
       "      <td>日, 원전 오염수 이어 ‘화산재’도 바다에 버리겠다 선언 [여기는 일본]</td>\n",
       "      <td>▲ 국제우주정거장(ISS)에서 촬영한 후지산의 모습(사진=퍼블릭 도메인)\\n\\n▲ ...</td>\n",
       "    </tr>\n",
       "    <tr>\n",
       "      <th>16</th>\n",
       "      <td>2023-12-30 00:21:26+00:00</td>\n",
       "      <td>연합뉴스TV</td>\n",
       "      <td>브라우저가 video 태그를 지원하지 않습니다.\\n\\n죄송하지만 다른 브라우저를 사...</td>\n",
       "    </tr>\n",
       "    <tr>\n",
       "      <th>17</th>\n",
       "      <td>2024-01-01 00:27:00+09:00</td>\n",
       "      <td>새해를 맞이한 한일 관계의 변수와 전망은?</td>\n",
       "      <td>AD\\n\\n[앵커]\\n\\n지난 한 해 일본은 한일 관계 개선 속에 여러 분야에서 우...</td>\n",
       "    </tr>\n",
       "    <tr>\n",
       "      <th>18</th>\n",
       "      <td>2023-12-31 22:54:00+09:00</td>\n",
       "      <td>올해 한일 관계 급진전...새해 변수와 전망은?</td>\n",
       "      <td>AD\\n\\n[앵커]\\n\\n올 한 해 일본은 한일 관계 개선 속에 여러 분야에서 우리...</td>\n",
       "    </tr>\n",
       "    <tr>\n",
       "      <th>19</th>\n",
       "      <td>2023-12-27 10:49:29+09:00</td>\n",
       "      <td>\"日·中, 원전 오염수 전문가 협의회 내년 조기 개최 조율\"</td>\n",
       "      <td>[이와키=AP/뉴시스]일중 양국 정부는 도쿄전력 후쿠시마 제1원자력발전소의 오염수 ...</td>\n",
       "    </tr>\n",
       "    <tr>\n",
       "      <th>20</th>\n",
       "      <td>2023-12-28 15:20:40+09:00</td>\n",
       "      <td>원안위, 후쿠시마 오염수 대응 전담조직 신설</td>\n",
       "      <td>사진 확대 [사진=원자력안전위원회]\\n\\n원자력안전위원회에 내년부터 후쿠시마 오염수...</td>\n",
       "    </tr>\n",
       "    <tr>\n",
       "      <th>21</th>\n",
       "      <td>2023-12-27 15:30:39+09:00</td>\n",
       "      <td>[프로필] 송명달 신임 해수부 차관…후쿠시마 오염수 대응 이끌어</td>\n",
       "      <td>(서울=연합뉴스) 김윤구 기자 = 송명달 해양수산부 신임 차관은 30년 가까이 해양...</td>\n",
       "    </tr>\n",
       "    <tr>\n",
       "      <th>22</th>\n",
       "      <td>2024-01-01 14:36:43+09:00</td>\n",
       "      <td>위성곤 “개혁·공정·민생·정의 깃발로 최남단 제주부터 변하겠다”</td>\n",
       "      <td>위성곤 국회의원 (사진=의원실)\\n\\n[로이슈 이상욱 기자]위성곤 더불어민주당 제주...</td>\n",
       "    </tr>\n",
       "    <tr>\n",
       "      <th>23</th>\n",
       "      <td>2023-12-26 12:27:08+09:00</td>\n",
       "      <td>일본 가리비 한국 수출설에 정부 \"日계획 불과…수입규제 유지\"</td>\n",
       "      <td>후쿠시마 포함 8개현 수산물 전면 금지…그외 지역 수산물 방사능 검사\\n\\n후쿠시마...</td>\n",
       "    </tr>\n",
       "    <tr>\n",
       "      <th>24</th>\n",
       "      <td>2023-12-31 10:27:19+09:00</td>\n",
       "      <td>올해 뜨거웠던 사회 이슈 Top10…마약 범죄·전세사기·후쿠시마 오염수 방류 등</td>\n",
       "      <td>지난 1월 30일 실내 마스크 착용 의무 해제…화장품 매출 증가하기도\\n\\n항저우 ...</td>\n",
       "    </tr>\n",
       "    <tr>\n",
       "      <th>25</th>\n",
       "      <td>2023-12-27 20:50:00+09:00</td>\n",
       "      <td>“日 오염수 방류, 완료까지 최소 15년 걸린다”</td>\n",
       "      <td>일본 후쿠시마 제1원자력발전소에서 발생한 오염수를 해양 방류하는데 적어도 15년 이...</td>\n",
       "    </tr>\n",
       "    <tr>\n",
       "      <th>26</th>\n",
       "      <td>NaN</td>\n",
       "      <td>KBS 뉴스</td>\n",
       "      <td>동영상 고정 취소\\n\\n제주도는 최근 수산물 방사능 검사 결과 모두 적합 판정을 받...</td>\n",
       "    </tr>\n",
       "    <tr>\n",
       "      <th>27</th>\n",
       "      <td>2023-12-24 10:09:30+09:00</td>\n",
       "      <td>日 오염수 불안감 줄여라…충북도, 농수산물 방사능 상시감시</td>\n",
       "      <td>5185㎝ 주원 \"중2때 분유 먹고 1년 만에 키 20㎝ 컸다\"</td>\n",
       "    </tr>\n",
       "    <tr>\n",
       "      <th>28</th>\n",
       "      <td>2023-12-29 10:50:05+09:00</td>\n",
       "      <td>日 미에현서 갈치떼 집단 폐사…오염수 때문?</td>\n",
       "      <td>일본 미에현 시마시의 한 항구에서 갈치떼가 집단 폐사했다.\\n\\n\\n\\n28일(현지...</td>\n",
       "    </tr>\n",
       "    <tr>\n",
       "      <th>29</th>\n",
       "      <td>2023-12-26 04:00:00+09:00</td>\n",
       "      <td>갑자기 자취를 감춰버린 오염수 괴담</td>\n",
       "      <td>일본 후쿠시마 제1원전 오염수 3차 해양 방류가 시작된 지난 11월 2일 서울 동작...</td>\n",
       "    </tr>\n",
       "    <tr>\n",
       "      <th>30</th>\n",
       "      <td>2023-12-22 17:01:29+09:00</td>\n",
       "      <td>日, 후쿠시마 오염수 모니터링 주 1회→월 1회로 줄인다</td>\n",
       "      <td>[후쿠시마=AP/뉴시스] 일본 정부가 후쿠시마 제1원자력발전소의 오염수를 방출하지 ...</td>\n",
       "    </tr>\n",
       "    <tr>\n",
       "      <th>31</th>\n",
       "      <td>2023-12-29 10:39:00+09:00</td>\n",
       "      <td>떠나는 조승환 “오염수만 아니었다면…남은 과제 잘 부탁”</td>\n",
       "      <td>조승환 해수부 장관 29일 이임 이임사 통해 아쉬움과 당부 전해\\n\\n조승환 해양수...</td>\n",
       "    </tr>\n",
       "    <tr>\n",
       "      <th>32</th>\n",
       "      <td>2023-12-27 16:29:11+09:00</td>\n",
       "      <td>오염수 방류 회의하는 일본 원자력규제위원회</td>\n",
       "      <td>(도쿄 교도=연합뉴스) 일본 원자력규제위원회 위원들이 27일 회의를 열고 도쿄전력(...</td>\n",
       "    </tr>\n",
       "    <tr>\n",
       "      <th>33</th>\n",
       "      <td>NaN</td>\n",
       "      <td>KBS 뉴스</td>\n",
       "      <td>동영상 고정 취소\\n\\n[앵커]\\n\\n\\n\\n올해도 광주와 전남에는 굵직한 이슈가 ...</td>\n",
       "    </tr>\n",
       "    <tr>\n",
       "      <th>34</th>\n",
       "      <td>2023-12-24 10:31:00+09:00</td>\n",
       "      <td>북한 “세균전 전범자 후예들, 핵 오염수로 지구 안전 위협” 읽음</td>\n",
       "      <td>북한이 후쿠시마 원전 오염수 4차 해양 방류를 결정한 일본에 대해 24일 “세균전 ...</td>\n",
       "    </tr>\n",
       "    <tr>\n",
       "      <th>35</th>\n",
       "      <td>2023-12-18 18:37:51+09:00</td>\n",
       "      <td>\"日후쿠시마 오염수 4차 해양 방류 내년 2월 하순 개시\"</td>\n",
       "      <td>일본 도쿄전력이 후쿠시마 제1원자력발전소 오염수(일본 정부 명칭 '처리수') 4차 ...</td>\n",
       "    </tr>\n",
       "    <tr>\n",
       "      <th>36</th>\n",
       "      <td>2023-12-30 18:52:00+09:00</td>\n",
       "      <td>총 295일간 86회의 윤석열정부 규탄집회를 마치며</td>\n",
       "      <td>큰사진보기 ▲ 3월 10일 제1차 규탄집회 이희선 더부천포럼 상임대표와 박종선 민족...</td>\n",
       "    </tr>\n",
       "    <tr>\n",
       "      <th>37</th>\n",
       "      <td>2023-12-31 16:08:05+09:00</td>\n",
       "      <td>중국 신화통신이 꼽은 '2023 세계 10대 뉴스'</td>\n",
       "      <td>(베이징=신화통신) 신화통신이 올해 세계 10대 뉴스를 다음과 같이 선정했다.\\n\\...</td>\n",
       "    </tr>\n",
       "    <tr>\n",
       "      <th>38</th>\n",
       "      <td>NaN</td>\n",
       "      <td>KBS 뉴스</td>\n",
       "      <td>동영상 고정 취소\\n\\n[앵커]\\n\\n\\n\\n지난여름 일본 후쿠시마 오염수 해양 방...</td>\n",
       "    </tr>\n",
       "    <tr>\n",
       "      <th>39</th>\n",
       "      <td>NaN</td>\n",
       "      <td>\"故이선균, 전청조, 누리호, 항저우AG…올해의 키워드\"</td>\n",
       "      <td>7일 중국 항저우 황룽 스포츠센터 스타디움에서 열린 2022 항저우 아시안게임 남자...</td>\n",
       "    </tr>\n",
       "    <tr>\n",
       "      <th>40</th>\n",
       "      <td>2023-12-21 20:06:32+09:00</td>\n",
       "      <td>日 도쿄전력 “5차 방류 오염수 1월부터 이송”</td>\n",
       "      <td>이미지 확대 지난 8월 27일 도쿄전력이 후쿠시마 제1원전 오염수 방류 후 처음으로...</td>\n",
       "    </tr>\n",
       "    <tr>\n",
       "      <th>41</th>\n",
       "      <td>NaN</td>\n",
       "      <td>KBS 뉴스</td>\n",
       "      <td>동영상 고정 취소\\n\\n[앵커]\\n\\n\\n\\n지난여름 일본 후쿠시마 오염수 해양 방...</td>\n",
       "    </tr>\n",
       "    <tr>\n",
       "      <th>42</th>\n",
       "      <td>NaN</td>\n",
       "      <td>후쿠시마 오염수 방류 4개월…‘소문피해’ 배상청구 130건</td>\n",
       "      <td>NaN</td>\n",
       "    </tr>\n",
       "    <tr>\n",
       "      <th>43</th>\n",
       "      <td>NaN</td>\n",
       "      <td>11년치 정어리떼 또 폐사…\"오염수 탓\" 외신에 일 '발칵'</td>\n",
       "      <td>&lt;앵커&gt;\\n\\n\\n\\n일본 해안가에 이달 들어 엄청난 양의 정어리 떼 사체가 여러 ...</td>\n",
       "    </tr>\n",
       "    <tr>\n",
       "      <th>44</th>\n",
       "      <td>2023-12-30 07:31:03+09:00</td>\n",
       "      <td>[신년인터뷰] 천영기 통영시장 \"야간관광 활성화해 글로벌 도시로 우뚝\"</td>\n",
       "      <td>\"남부권 광역관광 개발계획까지 더해 관광도시 자리매김 계획\" \"철저한 수산물 방사능...</td>\n",
       "    </tr>\n",
       "    <tr>\n",
       "      <th>45</th>\n",
       "      <td>2023-12-31 06:17:01+09:00</td>\n",
       "      <td>팩트체크 2023 ② ‘의대정원’, ‘김건희 특검’, ‘원전 오염수’…</td>\n",
       "      <td>2023년이 저물어갑니다. 한국의 팩트체크는 2017년부터 꽃을 피우기 시작했지만,...</td>\n",
       "    </tr>\n",
       "    <tr>\n",
       "      <th>46</th>\n",
       "      <td>NaN</td>\n",
       "      <td>KBS 뉴스</td>\n",
       "      <td>동영상 고정 취소\\n\\n[앵커]\\n\\n\\n\\n올해 우리 수산업계를 가장 크게 흔들었...</td>\n",
       "    </tr>\n",
       "    <tr>\n",
       "      <th>47</th>\n",
       "      <td>2023-12-27 13:18:00+09:00</td>\n",
       "      <td>후쿠시마 인근 주민 48% “우리도 건강 걱정돼 내고장 식품 기피” 읽음</td>\n",
       "      <td>후쿠시마 제1원자력발전소 오염수의 해양 방류와 관련해 인근 지역 2곳을 대상으로 진...</td>\n",
       "    </tr>\n",
       "    <tr>\n",
       "      <th>48</th>\n",
       "      <td>2023-12-28 20:57:00+09:00</td>\n",
       "      <td>강제동원 ‘제3자 변제’·오염수 방류 ‘방조’ 연장선 읽음</td>\n",
       "      <td>윤 정부, 일본에 일방적 양보…홍범도 흉상 철거 ‘친일’ 논란도\\n\\n국방부가 군 ...</td>\n",
       "    </tr>\n",
       "    <tr>\n",
       "      <th>49</th>\n",
       "      <td>2023-12-20 16:23:29+09:00</td>\n",
       "      <td>대구 환경단체 \"일본 핵 오염수 방류 반대\"</td>\n",
       "      <td>[대구=뉴시스] 20일 대구 중구 동성로 옛 중앙파출소 분수대 앞에서 일본 방사성 ...</td>\n",
       "    </tr>\n",
       "    <tr>\n",
       "      <th>50</th>\n",
       "      <td>NaN</td>\n",
       "      <td>KBS 뉴스</td>\n",
       "      <td>동영상 고정 취소\\n\\n[앵커]\\n\\n\\n\\n올해 우리 수산업계를 가장 크게 흔들었...</td>\n",
       "    </tr>\n",
       "    <tr>\n",
       "      <th>51</th>\n",
       "      <td>NaN</td>\n",
       "      <td>[R]후쿠시마 오염수 방류..\\'수산물 소비위축\\' 현실화</td>\n",
       "      <td>◀ 앵 커 ▶\\n\\n일본이 후쿠시마 오염수 방류를 강행하면서\\n\\n올 해는 특히 경...</td>\n",
       "    </tr>\n",
       "    <tr>\n",
       "      <th>52</th>\n",
       "      <td>2023-12-26 11:10:19+09:00</td>\n",
       "      <td>박구연 국무1차장, 후쿠시마 오염수 방류 브리핑</td>\n",
       "      <td>5185㎝ 주원 \"중2때 분유 먹고 1년 만에 키 20㎝ 컸다\"</td>\n",
       "    </tr>\n",
       "    <tr>\n",
       "      <th>53</th>\n",
       "      <td>2023-12-19 16:48:20+09:00</td>\n",
       "      <td>시민이 뽑은 올해 환경뉴스 1위는…\"후쿠시마 오염수 방류\"</td>\n",
       "      <td>환경보건시민센터, 성인 1천명 대상 조사\\n\\n'오염수 방류 중단하라' [연합뉴스 ...</td>\n",
       "    </tr>\n",
       "    <tr>\n",
       "      <th>54</th>\n",
       "      <td>2023-12-27 13:02:40+09:00</td>\n",
       "      <td>중일 오염수 전문가 협의 개최하기로…가리비 수출 재개될까</td>\n",
       "      <td>마이니치신문 “내년 이른 시기에 개최하는 방향으로 조율 중”\\n\\n이미지 확대 지난...</td>\n",
       "    </tr>\n",
       "    <tr>\n",
       "      <th>55</th>\n",
       "      <td>NaN</td>\n",
       "      <td>‘일본 오염수 방류 지속 대비’…인천 남동구, 내년 수산물 방사능 검사 강화</td>\n",
       "      <td>인천 남동구가 내년부터 소래포구 등 수산물 방사능 안전관리를 강화한다.\\n\\n28일...</td>\n",
       "    </tr>\n",
       "    <tr>\n",
       "      <th>56</th>\n",
       "      <td>2023-12-26 12:00:00</td>\n",
       "      <td>기름 오염수를 ‘생수’처럼 정화… 신기술에 산유국 러브콜 쇄도</td>\n",
       "      <td>OZ-SEPA 멤브레인을 적용한 OIL SKIMMER. ㈜오즈세파 제공\\n\\n원유를...</td>\n",
       "    </tr>\n",
       "    <tr>\n",
       "      <th>57</th>\n",
       "      <td>NaN</td>\n",
       "      <td>KBS 뉴스</td>\n",
       "      <td>읽어주기 기능은 크롬기반의 브라우저에서만 사용하실 수 있습니다.\\n\\n동영상 고정 ...</td>\n",
       "    </tr>\n",
       "    <tr>\n",
       "      <th>58</th>\n",
       "      <td>2023-12-26 11:10:19+09:00</td>\n",
       "      <td>최용석 해수부 수산정책실장, 후쿠시마 오염수 방류 브리핑</td>\n",
       "      <td>5185㎝ 주원 \"중2때 분유 먹고 1년 만에 키 20㎝ 컸다\"</td>\n",
       "    </tr>\n",
       "    <tr>\n",
       "      <th>59</th>\n",
       "      <td>NaN</td>\n",
       "      <td>NaN</td>\n",
       "      <td>다사다난 했던 한해가 지나고 갑진년 (甲辰年) 2024년 새해가 밝았다.코로나19 ...</td>\n",
       "    </tr>\n",
       "    <tr>\n",
       "      <th>60</th>\n",
       "      <td>NaN</td>\n",
       "      <td>KBS 뉴스</td>\n",
       "      <td>읽어주기 기능은 크롬기반의 브라우저에서만 사용하실 수 있습니다.\\n\\n동영상 고정 ...</td>\n",
       "    </tr>\n",
       "    <tr>\n",
       "      <th>61</th>\n",
       "      <td>2023-12-24 10:56:00+09:00</td>\n",
       "      <td>핵미사일로 전세계 위협 北 \"日, 핵오염수로 인류 위협\"</td>\n",
       "      <td>\"日해안에 죽은 정어리떼 밀려들어 아니 땐 굴뚝에서 연기 나겠나\"\\n\\n철조망 너머...</td>\n",
       "    </tr>\n",
       "    <tr>\n",
       "      <th>62</th>\n",
       "      <td>NaN</td>\n",
       "      <td>채널A가 뽑은 2023 국제 7대 뉴스</td>\n",
       "      <td>법적고지\\n\\n채널A에서 제공하는 콘텐츠에 대하여\\n\\n\\n\\n채널A의 각종 서비스...</td>\n",
       "    </tr>\n",
       "    <tr>\n",
       "      <th>63</th>\n",
       "      <td>NaN</td>\n",
       "      <td>연말기획)오염수 방류* AI 확산에 '걱정 또 걱정' ::::: 기사</td>\n",
       "      <td>◀ 앵 커 ▶\\n\\n2023년도 이제 며칠 남지 않았습니다.\\n\\n\\n\\n\\n\\n목...</td>\n",
       "    </tr>\n",
       "    <tr>\n",
       "      <th>64</th>\n",
       "      <td>2023-12-31 07:04:00+09:00</td>\n",
       "      <td>[기록 2023] 국제</td>\n",
       "      <td>AD\\n\\n출구를 찾지 못한 우크라이나 전쟁이 계속된 가운데 세계 평화의 기원 속에...</td>\n",
       "    </tr>\n",
       "    <tr>\n",
       "      <th>65</th>\n",
       "      <td>2023-12-20 10:37:29+09:00</td>\n",
       "      <td>日외무상, 후쿠시마 오염수 설비 시찰…中 등 \"수입 중단 철폐 요구\"</td>\n",
       "      <td>[도쿄=AP/뉴시스]가미카와 요코(上川陽子) 일본 외무상은 후쿠시마(福島) 제1 원...</td>\n",
       "    </tr>\n",
       "    <tr>\n",
       "      <th>66</th>\n",
       "      <td>2024-01-01 06:40:34+09:00</td>\n",
       "      <td>[와글와글] 기모노 입은 중국 여성에 \"매국노\"‥'반일 정서' 고조</td>\n",
       "      <td>Previous Next\\n\\n전체재생\\n\\n일본이 후쿠시마 원전 오염수를 방류한 ...</td>\n",
       "    </tr>\n",
       "    <tr>\n",
       "      <th>67</th>\n",
       "      <td>2023-12-18 11:39:11+09:00</td>\n",
       "      <td>정부 \"'오염수→처리수' 변경 목소리 소강상태\"</td>\n",
       "      <td>[서울=뉴시스] 김명원 기자 = 박구연 국무조정실 국무1차장이 지난 11일 오전 서...</td>\n",
       "    </tr>\n",
       "    <tr>\n",
       "      <th>68</th>\n",
       "      <td>NaN</td>\n",
       "      <td>오염수 방류* AI 확산에 '걱정 또 걱정' ::::: 기사</td>\n",
       "      <td>(앵커)\\n\\n올해는 코로나19가 3년여 만에\\n\\n끝났지만 뜻깊은 해였습니다.\\n...</td>\n",
       "    </tr>\n",
       "    <tr>\n",
       "      <th>69</th>\n",
       "      <td>2023-12-27 16:33:00+09:00</td>\n",
       "      <td>충북, 올해 가장 뜨거웠던 시민운동 투표 결과 보니...</td>\n",
       "      <td>큰사진보기 ▲ 2023년 충북 10대 시민운동 ⓒ 충북인뉴스 관련사진보기\\n\\n덧붙...</td>\n",
       "    </tr>\n",
       "    <tr>\n",
       "      <th>70</th>\n",
       "      <td>2023-12-20 14:04:53+09:00</td>\n",
       "      <td>소비자단체가 뽑은 올해 1위뉴스는 '후쿠시마 오염수 방류'</td>\n",
       "      <td>12개 소비자단체 '10대 뉴스' 선정…2위 염색샴푸 원료 위해성 검증 결과\\n\\n...</td>\n",
       "    </tr>\n",
       "    <tr>\n",
       "      <th>71</th>\n",
       "      <td>2023-12-29 07:00:00+09:00</td>\n",
       "      <td>중국에 ‘퇴짜’ 맞은 가리비 한국에 판다는 일본, 현실될 수도</td>\n",
       "      <td>日, 중국 수출길 막히자 대체국 찾아 韓, 일본산 생가리비 최대 수입국 전체 일본산...</td>\n",
       "    </tr>\n",
       "    <tr>\n",
       "      <th>72</th>\n",
       "      <td>NaN</td>\n",
       "      <td>[세상읽기] 日 오염수, 태아와 ‘슈뢰딩거 고양이’ 살리기</td>\n",
       "      <td>사람에게 유익하거나 기준치 이하라도 안전한 방사성 물질은 없다. 사람과 자연환경에 ...</td>\n",
       "    </tr>\n",
       "    <tr>\n",
       "      <th>73</th>\n",
       "      <td>2023-12-27 00:05:00+09:00</td>\n",
       "      <td>민원사주 심의 의혹 속 MBC KBS 가짜뉴스 센터 신속 심의 올라</td>\n",
       "      <td>후쿠시마 오염수 ‘2차 방류’를 보도한 MBC ‘뉴스데스크’와 한동훈 전 법무부 장...</td>\n",
       "    </tr>\n",
       "    <tr>\n",
       "      <th>74</th>\n",
       "      <td>NaN</td>\n",
       "      <td>KTV 국민방송</td>\n",
       "      <td>최대환 앵커&gt;KTV가 선정한 올해 10대 뉴스, 마지막 열 번째 뉴스입니다.올해는 ...</td>\n",
       "    </tr>\n",
       "    <tr>\n",
       "      <th>75</th>\n",
       "      <td>2023-12-30 00:00:00</td>\n",
       "      <td>[뉴데일리 선정 경제 10대 뉴스] '악전고투(惡戰苦鬪)'</td>\n",
       "      <td>2023년 한국경제를 관통하는 화두는 고금리, 고물가, 저성장이었다. 여기에 글로벌...</td>\n",
       "    </tr>\n",
       "    <tr>\n",
       "      <th>76</th>\n",
       "      <td>2023-12-19 18:26:00+09:00</td>\n",
       "      <td>강도형 해수장관 후보자 \"물의에 거듭 사과\"…'오염수' 두고 여야 공방</td>\n",
       "      <td>강도형 해양수산부 장관 후보자가 19일 오전 서울 여의도 국회에서 열린 인사청문회에...</td>\n",
       "    </tr>\n",
       "    <tr>\n",
       "      <th>77</th>\n",
       "      <td>NaN</td>\n",
       "      <td>日 후쿠시마 오염수 4차 방류, 내년 2월 말 개시</td>\n",
       "      <td>일본 도쿄전력이 후쿠시마 제1원자력발전소 오염수(일본 정부 명칭 ‘처리수’) 4차 ...</td>\n",
       "    </tr>\n",
       "    <tr>\n",
       "      <th>78</th>\n",
       "      <td>2023-12-15 13:14:05+09:00</td>\n",
       "      <td>한일, '후쿠시마 오염수' 화상회의…방류 관련 기술 사안 협의</td>\n",
       "      <td>후쿠시마 제1원자력발전소 [지지 EPA 연합뉴스 자료사진. 재판매 및 DB 금지]\\...</td>\n",
       "    </tr>\n",
       "    <tr>\n",
       "      <th>79</th>\n",
       "      <td>NaN</td>\n",
       "      <td>(2023 사건사고)흉악범죄 공포에 일 오염수 방류까지</td>\n",
       "      <td>[뉴스토마토 안창현 기자] 2023년은 이상동기범죄, 이른바 ‘묻지마 범죄’가 잇따...</td>\n",
       "    </tr>\n",
       "    <tr>\n",
       "      <th>80</th>\n",
       "      <td>2023-12-25 16:40:22+09:00</td>\n",
       "      <td>일본 오염수 방류 불안…충북도, 농수산물 방사능 상시감시</td>\n",
       "      <td>기고 [기고]불법 사무장병원 단속을 위한 건보 특사경법의 신속한 국회통과를 기대한다...</td>\n",
       "    </tr>\n",
       "    <tr>\n",
       "      <th>81</th>\n",
       "      <td>2023-12-20 10:57:29+09:00</td>\n",
       "      <td>신임 주중 일본대사, 오염수 갈등 관련 \"中과 끈질긴 대화 중요\"</td>\n",
       "      <td>[서울=뉴시스]박주성 기자 = 가나스기 겐지(金杉憲治) 신임 주중 일본대사는 일본 ...</td>\n",
       "    </tr>\n",
       "    <tr>\n",
       "      <th>82</th>\n",
       "      <td>2023-12-14 10:19:29+09:00</td>\n",
       "      <td>日 \"韓 '오염수' 명칭, 오해 확산…처리수로 표현해야\"</td>\n",
       "      <td>[서울=뉴시스] 일본 도쿄전력(TEPCO)의 마유즈미 토모히코(左) 대변인과 이시바...</td>\n",
       "    </tr>\n",
       "    <tr>\n",
       "      <th>83</th>\n",
       "      <td>2023-12-28 20:54:22+09:00</td>\n",
       "      <td>“괴담에서 벗어나 상식과 신뢰의 2024년 되길”</td>\n",
       "      <td>▲김영한 박사(기독교학술원 원장, 샬롬나비 상임대표, 숭실대 기독교학대학원 설립원장...</td>\n",
       "    </tr>\n",
       "    <tr>\n",
       "      <th>84</th>\n",
       "      <td>NaN</td>\n",
       "      <td>2024년, 민생의 국회 탄생하길</td>\n",
       "      <td>[서울=뉴스핌] 최현민 기자 = 편의성은 높지만 쾌적성이 떨어지는 약점으로 인해 인...</td>\n",
       "    </tr>\n",
       "    <tr>\n",
       "      <th>85</th>\n",
       "      <td>2023-12-22 11:43:22+09:00</td>\n",
       "      <td>日 도쿄전력 \"내년 4월 이후 방류 오염수, 1월부터 이송작업\"</td>\n",
       "      <td>日 도쿄전력 \"내년 4월 이후 방류 오염수, 1월부터 이송작업\"\\n\\n일본 도쿄전력...</td>\n",
       "    </tr>\n",
       "    <tr>\n",
       "      <th>86</th>\n",
       "      <td>2023-12-27 14:06:25+09:00</td>\n",
       "      <td>충북지역 농·수산물 일본 방사능 오염수 검사서 '적합'</td>\n",
       "      <td>오송 궁평2지하차도 오는 6월 다시 열리나\\n\\n［충북일보］ 지난해 7월 30명의 ...</td>\n",
       "    </tr>\n",
       "    <tr>\n",
       "      <th>87</th>\n",
       "      <td>2023-12-27 22:26:00+09:00</td>\n",
       "      <td>[경향의 눈] 2023, 대통령의 ‘황당한 말잔치’ 1년</td>\n",
       "      <td>2023년이 저물어 간다. 돌아보면 깜짝 놀랄 만한 발언들이 난무한 해였다. 특히 ...</td>\n",
       "    </tr>\n",
       "    <tr>\n",
       "      <th>88</th>\n",
       "      <td>2023-12-26 15:20:00+09:00</td>\n",
       "      <td>[다시 보는 2023 경남] 반발 속에서 일본 원전 오염수 방류…어업인 직격탄</td>\n",
       "      <td>[앵커]\\n\\n올 한해 어업인들을 분노로 들끓게 한 소식이 있죠.\\n\\n바로 일본 ...</td>\n",
       "    </tr>\n",
       "    <tr>\n",
       "      <th>89</th>\n",
       "      <td>2023-12-15 14:53:29+09:00</td>\n",
       "      <td>\"日후쿠시마 원전 처리 비용 17조원 증가…오염수 피해 배상 원인\"</td>\n",
       "      <td>[후쿠시마=AP/뉴시스]일본 후쿠시마(福島) 제1 원자력발전소 사고로 인한 배상과 ...</td>\n",
       "    </tr>\n",
       "    <tr>\n",
       "      <th>90</th>\n",
       "      <td>NaN</td>\n",
       "      <td>'위기가 기회', 올해 경남 수산업계에 '딱'</td>\n",
       "      <td>경남도청 전경. 경남도 제공\\n\\n일본이 지난 8월 24일 후쿠시마 원전의 오염수를...</td>\n",
       "    </tr>\n",
       "    <tr>\n",
       "      <th>91</th>\n",
       "      <td>NaN</td>\n",
       "      <td>NaN</td>\n",
       "      <td>2023년 10대 뉴스 [ 스페셜 ] 신효선 기자 elly@pckworld.com ...</td>\n",
       "    </tr>\n",
       "    <tr>\n",
       "      <th>92</th>\n",
       "      <td>2023-12-19 05:03:09+09:00</td>\n",
       "      <td>강도형 해수부장관 후보 청문회…민주, 폭력·음주운전 전과 집중 추궁</td>\n",
       "      <td>[서울=뉴시스] 김금보 기자 = 강도형 해양수산부 장관 후보자가 11일 오전 서울 ...</td>\n",
       "    </tr>\n",
       "    <tr>\n",
       "      <th>93</th>\n",
       "      <td>2023-12-30 08:31:49+09:00</td>\n",
       "      <td>2023년 ‘정치’를 ‘정리’한다...월별 정치 뉴스(中)</td>\n",
       "      <td>2023년 5월 봄의 기운이 무르익고 있었지만, ‘여의도’에는 여전히 찬바람이 쌩쌩...</td>\n",
       "    </tr>\n",
       "    <tr>\n",
       "      <th>94</th>\n",
       "      <td>NaN</td>\n",
       "      <td>[토마토레터 제327호] 공지연 변호사 논란? 이재명은?</td>\n",
       "      <td>토마토Pick!\\n\\n최근 국민의힘이 30대 다문화 여성인 공지연 변호사를 인재로 ...</td>\n",
       "    </tr>\n",
       "    <tr>\n",
       "      <th>95</th>\n",
       "      <td>NaN</td>\n",
       "      <td>뉴스 다시 보기</td>\n",
       "      <td>(앵커)지난 여름 일본 후쿠시마 원전 오염수 해양 방류가 제주 뿐 아니라 전 세계를...</td>\n",
       "    </tr>\n",
       "    <tr>\n",
       "      <th>96</th>\n",
       "      <td>2023-12-30 16:26:18+09:00</td>\n",
       "      <td>[2023 유통 10대 뉴스] 플레이션 전성시대‧잼버리 곰팡이 달걀‧희망퇴직 칼바람</td>\n",
       "      <td>신세계백화점 신년 전시회에서 공개된 김지영 작가의 '龍氣(용기)여 솟아라!'. (사...</td>\n",
       "    </tr>\n",
       "    <tr>\n",
       "      <th>97</th>\n",
       "      <td>2023-12-27 06:43:17+09:00</td>\n",
       "      <td>중국 수출 막힌 일본 가리비 \"한국에 팔겠다\"</td>\n",
       "      <td>전체재생\\n\\n◀ 앵커 ▶후쿠시마 오염수 방류 이후 중국이 일본 수산물 수입을 금지...</td>\n",
       "    </tr>\n",
       "    <tr>\n",
       "      <th>98</th>\n",
       "      <td>2023-12-26 13:14:00+09:00</td>\n",
       "      <td>'김건희 특검법' 조건부 수용, 尹 격노? \"한동훈이라면... 가능성있는 얘기\"</td>\n",
       "      <td>AD\\n\\nYTN라디오(FM 94.5) [YTN 뉴스FM 슬기로운 라디오생활]\\n\\...</td>\n",
       "    </tr>\n",
       "    <tr>\n",
       "      <th>99</th>\n",
       "      <td>2024-01-01 21:38:39+09:00</td>\n",
       "      <td>이재섭(경북 구미시) 씨</td>\n",
       "      <td>일본 정부는 후쿠시마 원자력발 전소 오염수 방류를 강행했습니다. 134만t이 30년...</td>\n",
       "    </tr>\n",
       "  </tbody>\n",
       "</table>\n",
       "</div>"
      ],
      "text/plain": [
       "                         date  \\\n",
       "0   2024-01-01 18:15:47+09:00   \n",
       "1   2023-12-31 06:30:00+09:00   \n",
       "2   2023-12-31 10:39:32+09:00   \n",
       "3   2023-12-31 06:29:00+09:00   \n",
       "4                         NaN   \n",
       "5   2024-01-01 16:40:00+09:00   \n",
       "6   2023-12-31 10:11:28+09:00   \n",
       "7                         NaN   \n",
       "8   2023-12-26 23:53:49+09:00   \n",
       "9   2023-12-26 10:22:40+09:00   \n",
       "10  2023-12-29 16:05:03+09:00   \n",
       "11  2024-01-01 13:46:27+09:00   \n",
       "12  2023-12-25 19:37:07+09:00   \n",
       "13        2023-12-26 00:00:00   \n",
       "14  2023-12-31 08:38:00+09:00   \n",
       "15  2023-12-31 17:14:22+09:00   \n",
       "16  2023-12-30 00:21:26+00:00   \n",
       "17  2024-01-01 00:27:00+09:00   \n",
       "18  2023-12-31 22:54:00+09:00   \n",
       "19  2023-12-27 10:49:29+09:00   \n",
       "20  2023-12-28 15:20:40+09:00   \n",
       "21  2023-12-27 15:30:39+09:00   \n",
       "22  2024-01-01 14:36:43+09:00   \n",
       "23  2023-12-26 12:27:08+09:00   \n",
       "24  2023-12-31 10:27:19+09:00   \n",
       "25  2023-12-27 20:50:00+09:00   \n",
       "26                        NaN   \n",
       "27  2023-12-24 10:09:30+09:00   \n",
       "28  2023-12-29 10:50:05+09:00   \n",
       "29  2023-12-26 04:00:00+09:00   \n",
       "30  2023-12-22 17:01:29+09:00   \n",
       "31  2023-12-29 10:39:00+09:00   \n",
       "32  2023-12-27 16:29:11+09:00   \n",
       "33                        NaN   \n",
       "34  2023-12-24 10:31:00+09:00   \n",
       "35  2023-12-18 18:37:51+09:00   \n",
       "36  2023-12-30 18:52:00+09:00   \n",
       "37  2023-12-31 16:08:05+09:00   \n",
       "38                        NaN   \n",
       "39                        NaN   \n",
       "40  2023-12-21 20:06:32+09:00   \n",
       "41                        NaN   \n",
       "42                        NaN   \n",
       "43                        NaN   \n",
       "44  2023-12-30 07:31:03+09:00   \n",
       "45  2023-12-31 06:17:01+09:00   \n",
       "46                        NaN   \n",
       "47  2023-12-27 13:18:00+09:00   \n",
       "48  2023-12-28 20:57:00+09:00   \n",
       "49  2023-12-20 16:23:29+09:00   \n",
       "50                        NaN   \n",
       "51                        NaN   \n",
       "52  2023-12-26 11:10:19+09:00   \n",
       "53  2023-12-19 16:48:20+09:00   \n",
       "54  2023-12-27 13:02:40+09:00   \n",
       "55                        NaN   \n",
       "56        2023-12-26 12:00:00   \n",
       "57                        NaN   \n",
       "58  2023-12-26 11:10:19+09:00   \n",
       "59                        NaN   \n",
       "60                        NaN   \n",
       "61  2023-12-24 10:56:00+09:00   \n",
       "62                        NaN   \n",
       "63                        NaN   \n",
       "64  2023-12-31 07:04:00+09:00   \n",
       "65  2023-12-20 10:37:29+09:00   \n",
       "66  2024-01-01 06:40:34+09:00   \n",
       "67  2023-12-18 11:39:11+09:00   \n",
       "68                        NaN   \n",
       "69  2023-12-27 16:33:00+09:00   \n",
       "70  2023-12-20 14:04:53+09:00   \n",
       "71  2023-12-29 07:00:00+09:00   \n",
       "72                        NaN   \n",
       "73  2023-12-27 00:05:00+09:00   \n",
       "74                        NaN   \n",
       "75        2023-12-30 00:00:00   \n",
       "76  2023-12-19 18:26:00+09:00   \n",
       "77                        NaN   \n",
       "78  2023-12-15 13:14:05+09:00   \n",
       "79                        NaN   \n",
       "80  2023-12-25 16:40:22+09:00   \n",
       "81  2023-12-20 10:57:29+09:00   \n",
       "82  2023-12-14 10:19:29+09:00   \n",
       "83  2023-12-28 20:54:22+09:00   \n",
       "84                        NaN   \n",
       "85  2023-12-22 11:43:22+09:00   \n",
       "86  2023-12-27 14:06:25+09:00   \n",
       "87  2023-12-27 22:26:00+09:00   \n",
       "88  2023-12-26 15:20:00+09:00   \n",
       "89  2023-12-15 14:53:29+09:00   \n",
       "90                        NaN   \n",
       "91                        NaN   \n",
       "92  2023-12-19 05:03:09+09:00   \n",
       "93  2023-12-30 08:31:49+09:00   \n",
       "94                        NaN   \n",
       "95                        NaN   \n",
       "96  2023-12-30 16:26:18+09:00   \n",
       "97  2023-12-27 06:43:17+09:00   \n",
       "98  2023-12-26 13:14:00+09:00   \n",
       "99  2024-01-01 21:38:39+09:00   \n",
       "\n",
       "                                                title  \\\n",
       "0                  후쿠시마 오염수 영상 삭제, SBS 시청자위-시사교양국장 논쟁   \n",
       "1         후쿠시마 오염수 방류·기후 위기로 어자원 고갈…어민들 '시름'[결산 2023]   \n",
       "2                   \"중일, 후쿠시마 오염수 전문가 협의 내년 조기 개최 조율\"   \n",
       "3             [아듀2023] 日오염수 방류·잼버리 망신... 사회·국제 10대 뉴스   \n",
       "4                      원전 오염수에 이어…日, 후지산 화산재도 바다에 버린다   \n",
       "5                      후쿠시마 오염수 방류 4개월째… 활기 되찾은 수산물시장   \n",
       "6                      아스파탐·日수산물 '포비아'…올해 달군 먹거리 이슈는?   \n",
       "7   도쿄전력 \"'오염수' 아닌 '처리수' 용어 사용해달라\"…정부 \"'처리수' 변경 목소...   \n",
       "8                               日, 오염수 삼중수소 분석 횟수 줄인다   \n",
       "9                 日도쿄전력, 오염수 미방류시 해수 분석횟수 매일 1회→주 1회로   \n",
       "10                         폐광 폐수처리 오니, 오염수 흡착제로 재활용한다   \n",
       "11        수도권매립지관리공사, 폐탄광 폐수처리 침전물 오염수 흡착제로 재활용 기술 승인   \n",
       "12                       日, 오염수로 中서 막힌 가리비 한국 수출 확대키로   \n",
       "13                    오염수 방류로 中서 막힌 가리비…日 \"한국에 수출 확대\"   \n",
       "14  [2023년 대전일보 선정 국외 10대 뉴스] 이스라엘-하마스 전쟁·일본 후쿠시마 ...   \n",
       "15           日, 원전 오염수 이어 ‘화산재’도 바다에 버리겠다 선언 [여기는 일본]   \n",
       "16                                             연합뉴스TV   \n",
       "17                            새해를 맞이한 한일 관계의 변수와 전망은?   \n",
       "18                         올해 한일 관계 급진전...새해 변수와 전망은?   \n",
       "19                  \"日·中, 원전 오염수 전문가 협의회 내년 조기 개최 조율\"   \n",
       "20                           원안위, 후쿠시마 오염수 대응 전담조직 신설   \n",
       "21                [프로필] 송명달 신임 해수부 차관…후쿠시마 오염수 대응 이끌어   \n",
       "22                위성곤 “개혁·공정·민생·정의 깃발로 최남단 제주부터 변하겠다”   \n",
       "23                 일본 가리비 한국 수출설에 정부 \"日계획 불과…수입규제 유지\"   \n",
       "24       올해 뜨거웠던 사회 이슈 Top10…마약 범죄·전세사기·후쿠시마 오염수 방류 등   \n",
       "25                        “日 오염수 방류, 완료까지 최소 15년 걸린다”   \n",
       "26                                             KBS 뉴스   \n",
       "27                   日 오염수 불안감 줄여라…충북도, 농수산물 방사능 상시감시   \n",
       "28                           日 미에현서 갈치떼 집단 폐사…오염수 때문?   \n",
       "29                                갑자기 자취를 감춰버린 오염수 괴담   \n",
       "30                    日, 후쿠시마 오염수 모니터링 주 1회→월 1회로 줄인다   \n",
       "31                    떠나는 조승환 “오염수만 아니었다면…남은 과제 잘 부탁”   \n",
       "32                            오염수 방류 회의하는 일본 원자력규제위원회   \n",
       "33                                             KBS 뉴스   \n",
       "34               북한 “세균전 전범자 후예들, 핵 오염수로 지구 안전 위협” 읽음   \n",
       "35                   \"日후쿠시마 오염수 4차 해양 방류 내년 2월 하순 개시\"   \n",
       "36                       총 295일간 86회의 윤석열정부 규탄집회를 마치며   \n",
       "37                       중국 신화통신이 꼽은 '2023 세계 10대 뉴스'   \n",
       "38                                             KBS 뉴스   \n",
       "39                    \"故이선균, 전청조, 누리호, 항저우AG…올해의 키워드\"   \n",
       "40                         日 도쿄전력 “5차 방류 오염수 1월부터 이송”   \n",
       "41                                             KBS 뉴스   \n",
       "42                   후쿠시마 오염수 방류 4개월…‘소문피해’ 배상청구 130건   \n",
       "43                  11년치 정어리떼 또 폐사…\"오염수 탓\" 외신에 일 '발칵'   \n",
       "44            [신년인터뷰] 천영기 통영시장 \"야간관광 활성화해 글로벌 도시로 우뚝\"   \n",
       "45            팩트체크 2023 ② ‘의대정원’, ‘김건희 특검’, ‘원전 오염수’…   \n",
       "46                                             KBS 뉴스   \n",
       "47           후쿠시마 인근 주민 48% “우리도 건강 걱정돼 내고장 식품 기피” 읽음   \n",
       "48                   강제동원 ‘제3자 변제’·오염수 방류 ‘방조’ 연장선 읽음   \n",
       "49                           대구 환경단체 \"일본 핵 오염수 방류 반대\"   \n",
       "50                                             KBS 뉴스   \n",
       "51                   [R]후쿠시마 오염수 방류..\\'수산물 소비위축\\' 현실화   \n",
       "52                         박구연 국무1차장, 후쿠시마 오염수 방류 브리핑   \n",
       "53                   시민이 뽑은 올해 환경뉴스 1위는…\"후쿠시마 오염수 방류\"   \n",
       "54                    중일 오염수 전문가 협의 개최하기로…가리비 수출 재개될까   \n",
       "55         ‘일본 오염수 방류 지속 대비’…인천 남동구, 내년 수산물 방사능 검사 강화   \n",
       "56                 기름 오염수를 ‘생수’처럼 정화… 신기술에 산유국 러브콜 쇄도   \n",
       "57                                             KBS 뉴스   \n",
       "58                    최용석 해수부 수산정책실장, 후쿠시마 오염수 방류 브리핑   \n",
       "59                                                NaN   \n",
       "60                                             KBS 뉴스   \n",
       "61                    핵미사일로 전세계 위협 北 \"日, 핵오염수로 인류 위협\"   \n",
       "62                              채널A가 뽑은 2023 국제 7대 뉴스   \n",
       "63             연말기획)오염수 방류* AI 확산에 '걱정 또 걱정' ::::: 기사   \n",
       "64                                       [기록 2023] 국제   \n",
       "65             日외무상, 후쿠시마 오염수 설비 시찰…中 등 \"수입 중단 철폐 요구\"   \n",
       "66              [와글와글] 기모노 입은 중국 여성에 \"매국노\"‥'반일 정서' 고조   \n",
       "67                         정부 \"'오염수→처리수' 변경 목소리 소강상태\"   \n",
       "68                  오염수 방류* AI 확산에 '걱정 또 걱정' ::::: 기사   \n",
       "69                    충북, 올해 가장 뜨거웠던 시민운동 투표 결과 보니...   \n",
       "70                   소비자단체가 뽑은 올해 1위뉴스는 '후쿠시마 오염수 방류'   \n",
       "71                 중국에 ‘퇴짜’ 맞은 가리비 한국에 판다는 일본, 현실될 수도   \n",
       "72                   [세상읽기] 日 오염수, 태아와 ‘슈뢰딩거 고양이’ 살리기   \n",
       "73              민원사주 심의 의혹 속 MBC KBS 가짜뉴스 센터 신속 심의 올라   \n",
       "74                                           KTV 국민방송   \n",
       "75                   [뉴데일리 선정 경제 10대 뉴스] '악전고투(惡戰苦鬪)'   \n",
       "76            강도형 해수장관 후보자 \"물의에 거듭 사과\"…'오염수' 두고 여야 공방   \n",
       "77                       日 후쿠시마 오염수 4차 방류, 내년 2월 말 개시   \n",
       "78                 한일, '후쿠시마 오염수' 화상회의…방류 관련 기술 사안 협의   \n",
       "79                     (2023 사건사고)흉악범죄 공포에 일 오염수 방류까지   \n",
       "80                    일본 오염수 방류 불안…충북도, 농수산물 방사능 상시감시   \n",
       "81               신임 주중 일본대사, 오염수 갈등 관련 \"中과 끈질긴 대화 중요\"   \n",
       "82                    日 \"韓 '오염수' 명칭, 오해 확산…처리수로 표현해야\"   \n",
       "83                        “괴담에서 벗어나 상식과 신뢰의 2024년 되길”   \n",
       "84                                 2024년, 민생의 국회 탄생하길   \n",
       "85                日 도쿄전력 \"내년 4월 이후 방류 오염수, 1월부터 이송작업\"   \n",
       "86                     충북지역 농·수산물 일본 방사능 오염수 검사서 '적합'   \n",
       "87                    [경향의 눈] 2023, 대통령의 ‘황당한 말잔치’ 1년   \n",
       "88        [다시 보는 2023 경남] 반발 속에서 일본 원전 오염수 방류…어업인 직격탄   \n",
       "89              \"日후쿠시마 원전 처리 비용 17조원 증가…오염수 피해 배상 원인\"   \n",
       "90                          '위기가 기회', 올해 경남 수산업계에 '딱'   \n",
       "91                                                NaN   \n",
       "92              강도형 해수부장관 후보 청문회…민주, 폭력·음주운전 전과 집중 추궁   \n",
       "93                   2023년 ‘정치’를 ‘정리’한다...월별 정치 뉴스(中)   \n",
       "94                    [토마토레터 제327호] 공지연 변호사 논란? 이재명은?   \n",
       "95                                           뉴스 다시 보기   \n",
       "96     [2023 유통 10대 뉴스] 플레이션 전성시대‧잼버리 곰팡이 달걀‧희망퇴직 칼바람   \n",
       "97                          중국 수출 막힌 일본 가리비 \"한국에 팔겠다\"   \n",
       "98       '김건희 특검법' 조건부 수용, 尹 격노? \"한동훈이라면... 가능성있는 얘기\"   \n",
       "99                                      이재섭(경북 구미시) 씨   \n",
       "\n",
       "                                                 text  \n",
       "0   SBS 시청자위원회는 후쿠시마 오염수 방류로 위협받는 동물권 관련 유튜브 영상을 삭...  \n",
       "1   경남 거제시 사등면 거제수협 성포위판장. © News1 강미영 기자\\n\\n올해 8월...  \n",
       "2   중국과 일본 정부가 후쿠시마 제1원자력발전소 오염수(일본 정부 명칭 '처리수') 해...  \n",
       "3   ━\\n\\n日후쿠시마 원전… 사고 이후 12년만에 '오염수 해양 방류' 개시\\n\\n━...  \n",
       "4   \"1707년 규모로 폭발시 화산재, 도쿄돔 390개 분량\"\\n\\n\\n\\n일본 후지산...  \n",
       "5   지난달 26일 오전 10시께 인천종합어시장을 찾은 주민들이 장을 보고 있다. 사진=...  \n",
       "6   [서울=뉴시스] 김명년 기자 = 세계보건기구(WHO) 산하 국제암연구소(IARC)의...  \n",
       "7   도쿄전력 \"바다에 방출하는 건 오염수 아닌 처리수\"\\n\\n우리 정부 \"'처리수' 변...  \n",
       "8   방류 후에도 농도 기준치 이하 유지\\n\\n“정부·도쿄전력 안전성 과신” 비판\\n\\n...  \n",
       "9   \"방류 기간에 중점 실시\"…환경성에 이어 해수 분석 횟수 줄여\\n\\n일본 후쿠시마 ...  \n",
       "10  [인천=뉴시스] 수도권매립지관리공사 전문인력이 현장에서 재활용환경성평가 업무를 수행...  \n",
       "11  수도권매립지관리공사가 폐탄광의 폐수 처리과정에서 빌생한 침전물(찌꺼기)을 오염수 관...  \n",
       "12  가리비와 굴 어획한 일본 어선 [EPA 연합뉴스 자료사진. 재판매 및 DB 금지]\\...  \n",
       "13  일본산 가리비 /TV조선 방송화면 캡처\\n\\n일본 정부가 후쿠시마 제1원자력발전소 ...  \n",
       "14  그 어느 때보다 다사다난(多事多難)했던 계묘년(癸卯年)이 어느덧 단 하루만을 남겨두...  \n",
       "15  ▲ 국제우주정거장(ISS)에서 촬영한 후지산의 모습(사진=퍼블릭 도메인)\\n\\n▲ ...  \n",
       "16  브라우저가 video 태그를 지원하지 않습니다.\\n\\n죄송하지만 다른 브라우저를 사...  \n",
       "17  AD\\n\\n[앵커]\\n\\n지난 한 해 일본은 한일 관계 개선 속에 여러 분야에서 우...  \n",
       "18  AD\\n\\n[앵커]\\n\\n올 한 해 일본은 한일 관계 개선 속에 여러 분야에서 우리...  \n",
       "19  [이와키=AP/뉴시스]일중 양국 정부는 도쿄전력 후쿠시마 제1원자력발전소의 오염수 ...  \n",
       "20  사진 확대 [사진=원자력안전위원회]\\n\\n원자력안전위원회에 내년부터 후쿠시마 오염수...  \n",
       "21  (서울=연합뉴스) 김윤구 기자 = 송명달 해양수산부 신임 차관은 30년 가까이 해양...  \n",
       "22  위성곤 국회의원 (사진=의원실)\\n\\n[로이슈 이상욱 기자]위성곤 더불어민주당 제주...  \n",
       "23  후쿠시마 포함 8개현 수산물 전면 금지…그외 지역 수산물 방사능 검사\\n\\n후쿠시마...  \n",
       "24  지난 1월 30일 실내 마스크 착용 의무 해제…화장품 매출 증가하기도\\n\\n항저우 ...  \n",
       "25  일본 후쿠시마 제1원자력발전소에서 발생한 오염수를 해양 방류하는데 적어도 15년 이...  \n",
       "26  동영상 고정 취소\\n\\n제주도는 최근 수산물 방사능 검사 결과 모두 적합 판정을 받...  \n",
       "27                5185㎝ 주원 \"중2때 분유 먹고 1년 만에 키 20㎝ 컸다\"  \n",
       "28  일본 미에현 시마시의 한 항구에서 갈치떼가 집단 폐사했다.\\n\\n\\n\\n28일(현지...  \n",
       "29  일본 후쿠시마 제1원전 오염수 3차 해양 방류가 시작된 지난 11월 2일 서울 동작...  \n",
       "30  [후쿠시마=AP/뉴시스] 일본 정부가 후쿠시마 제1원자력발전소의 오염수를 방출하지 ...  \n",
       "31  조승환 해수부 장관 29일 이임 이임사 통해 아쉬움과 당부 전해\\n\\n조승환 해양수...  \n",
       "32  (도쿄 교도=연합뉴스) 일본 원자력규제위원회 위원들이 27일 회의를 열고 도쿄전력(...  \n",
       "33  동영상 고정 취소\\n\\n[앵커]\\n\\n\\n\\n올해도 광주와 전남에는 굵직한 이슈가 ...  \n",
       "34  북한이 후쿠시마 원전 오염수 4차 해양 방류를 결정한 일본에 대해 24일 “세균전 ...  \n",
       "35  일본 도쿄전력이 후쿠시마 제1원자력발전소 오염수(일본 정부 명칭 '처리수') 4차 ...  \n",
       "36  큰사진보기 ▲ 3월 10일 제1차 규탄집회 이희선 더부천포럼 상임대표와 박종선 민족...  \n",
       "37  (베이징=신화통신) 신화통신이 올해 세계 10대 뉴스를 다음과 같이 선정했다.\\n\\...  \n",
       "38  동영상 고정 취소\\n\\n[앵커]\\n\\n\\n\\n지난여름 일본 후쿠시마 오염수 해양 방...  \n",
       "39  7일 중국 항저우 황룽 스포츠센터 스타디움에서 열린 2022 항저우 아시안게임 남자...  \n",
       "40  이미지 확대 지난 8월 27일 도쿄전력이 후쿠시마 제1원전 오염수 방류 후 처음으로...  \n",
       "41  동영상 고정 취소\\n\\n[앵커]\\n\\n\\n\\n지난여름 일본 후쿠시마 오염수 해양 방...  \n",
       "42                                                NaN  \n",
       "43  <앵커>\\n\\n\\n\\n일본 해안가에 이달 들어 엄청난 양의 정어리 떼 사체가 여러 ...  \n",
       "44  \"남부권 광역관광 개발계획까지 더해 관광도시 자리매김 계획\" \"철저한 수산물 방사능...  \n",
       "45  2023년이 저물어갑니다. 한국의 팩트체크는 2017년부터 꽃을 피우기 시작했지만,...  \n",
       "46  동영상 고정 취소\\n\\n[앵커]\\n\\n\\n\\n올해 우리 수산업계를 가장 크게 흔들었...  \n",
       "47  후쿠시마 제1원자력발전소 오염수의 해양 방류와 관련해 인근 지역 2곳을 대상으로 진...  \n",
       "48  윤 정부, 일본에 일방적 양보…홍범도 흉상 철거 ‘친일’ 논란도\\n\\n국방부가 군 ...  \n",
       "49  [대구=뉴시스] 20일 대구 중구 동성로 옛 중앙파출소 분수대 앞에서 일본 방사성 ...  \n",
       "50  동영상 고정 취소\\n\\n[앵커]\\n\\n\\n\\n올해 우리 수산업계를 가장 크게 흔들었...  \n",
       "51  ◀ 앵 커 ▶\\n\\n일본이 후쿠시마 오염수 방류를 강행하면서\\n\\n올 해는 특히 경...  \n",
       "52                5185㎝ 주원 \"중2때 분유 먹고 1년 만에 키 20㎝ 컸다\"  \n",
       "53  환경보건시민센터, 성인 1천명 대상 조사\\n\\n'오염수 방류 중단하라' [연합뉴스 ...  \n",
       "54  마이니치신문 “내년 이른 시기에 개최하는 방향으로 조율 중”\\n\\n이미지 확대 지난...  \n",
       "55  인천 남동구가 내년부터 소래포구 등 수산물 방사능 안전관리를 강화한다.\\n\\n28일...  \n",
       "56  OZ-SEPA 멤브레인을 적용한 OIL SKIMMER. ㈜오즈세파 제공\\n\\n원유를...  \n",
       "57  읽어주기 기능은 크롬기반의 브라우저에서만 사용하실 수 있습니다.\\n\\n동영상 고정 ...  \n",
       "58                5185㎝ 주원 \"중2때 분유 먹고 1년 만에 키 20㎝ 컸다\"  \n",
       "59  다사다난 했던 한해가 지나고 갑진년 (甲辰年) 2024년 새해가 밝았다.코로나19 ...  \n",
       "60  읽어주기 기능은 크롬기반의 브라우저에서만 사용하실 수 있습니다.\\n\\n동영상 고정 ...  \n",
       "61  \"日해안에 죽은 정어리떼 밀려들어 아니 땐 굴뚝에서 연기 나겠나\"\\n\\n철조망 너머...  \n",
       "62  법적고지\\n\\n채널A에서 제공하는 콘텐츠에 대하여\\n\\n\\n\\n채널A의 각종 서비스...  \n",
       "63  ◀ 앵 커 ▶\\n\\n2023년도 이제 며칠 남지 않았습니다.\\n\\n\\n\\n\\n\\n목...  \n",
       "64  AD\\n\\n출구를 찾지 못한 우크라이나 전쟁이 계속된 가운데 세계 평화의 기원 속에...  \n",
       "65  [도쿄=AP/뉴시스]가미카와 요코(上川陽子) 일본 외무상은 후쿠시마(福島) 제1 원...  \n",
       "66  Previous Next\\n\\n전체재생\\n\\n일본이 후쿠시마 원전 오염수를 방류한 ...  \n",
       "67  [서울=뉴시스] 김명원 기자 = 박구연 국무조정실 국무1차장이 지난 11일 오전 서...  \n",
       "68  (앵커)\\n\\n올해는 코로나19가 3년여 만에\\n\\n끝났지만 뜻깊은 해였습니다.\\n...  \n",
       "69  큰사진보기 ▲ 2023년 충북 10대 시민운동 ⓒ 충북인뉴스 관련사진보기\\n\\n덧붙...  \n",
       "70  12개 소비자단체 '10대 뉴스' 선정…2위 염색샴푸 원료 위해성 검증 결과\\n\\n...  \n",
       "71  日, 중국 수출길 막히자 대체국 찾아 韓, 일본산 생가리비 최대 수입국 전체 일본산...  \n",
       "72  사람에게 유익하거나 기준치 이하라도 안전한 방사성 물질은 없다. 사람과 자연환경에 ...  \n",
       "73  후쿠시마 오염수 ‘2차 방류’를 보도한 MBC ‘뉴스데스크’와 한동훈 전 법무부 장...  \n",
       "74  최대환 앵커>KTV가 선정한 올해 10대 뉴스, 마지막 열 번째 뉴스입니다.올해는 ...  \n",
       "75  2023년 한국경제를 관통하는 화두는 고금리, 고물가, 저성장이었다. 여기에 글로벌...  \n",
       "76  강도형 해양수산부 장관 후보자가 19일 오전 서울 여의도 국회에서 열린 인사청문회에...  \n",
       "77  일본 도쿄전력이 후쿠시마 제1원자력발전소 오염수(일본 정부 명칭 ‘처리수’) 4차 ...  \n",
       "78  후쿠시마 제1원자력발전소 [지지 EPA 연합뉴스 자료사진. 재판매 및 DB 금지]\\...  \n",
       "79  [뉴스토마토 안창현 기자] 2023년은 이상동기범죄, 이른바 ‘묻지마 범죄’가 잇따...  \n",
       "80  기고 [기고]불법 사무장병원 단속을 위한 건보 특사경법의 신속한 국회통과를 기대한다...  \n",
       "81  [서울=뉴시스]박주성 기자 = 가나스기 겐지(金杉憲治) 신임 주중 일본대사는 일본 ...  \n",
       "82  [서울=뉴시스] 일본 도쿄전력(TEPCO)의 마유즈미 토모히코(左) 대변인과 이시바...  \n",
       "83  ▲김영한 박사(기독교학술원 원장, 샬롬나비 상임대표, 숭실대 기독교학대학원 설립원장...  \n",
       "84  [서울=뉴스핌] 최현민 기자 = 편의성은 높지만 쾌적성이 떨어지는 약점으로 인해 인...  \n",
       "85  日 도쿄전력 \"내년 4월 이후 방류 오염수, 1월부터 이송작업\"\\n\\n일본 도쿄전력...  \n",
       "86  오송 궁평2지하차도 오는 6월 다시 열리나\\n\\n［충북일보］ 지난해 7월 30명의 ...  \n",
       "87  2023년이 저물어 간다. 돌아보면 깜짝 놀랄 만한 발언들이 난무한 해였다. 특히 ...  \n",
       "88  [앵커]\\n\\n올 한해 어업인들을 분노로 들끓게 한 소식이 있죠.\\n\\n바로 일본 ...  \n",
       "89  [후쿠시마=AP/뉴시스]일본 후쿠시마(福島) 제1 원자력발전소 사고로 인한 배상과 ...  \n",
       "90  경남도청 전경. 경남도 제공\\n\\n일본이 지난 8월 24일 후쿠시마 원전의 오염수를...  \n",
       "91  2023년 10대 뉴스 [ 스페셜 ] 신효선 기자 elly@pckworld.com ...  \n",
       "92  [서울=뉴시스] 김금보 기자 = 강도형 해양수산부 장관 후보자가 11일 오전 서울 ...  \n",
       "93  2023년 5월 봄의 기운이 무르익고 있었지만, ‘여의도’에는 여전히 찬바람이 쌩쌩...  \n",
       "94  토마토Pick!\\n\\n최근 국민의힘이 30대 다문화 여성인 공지연 변호사를 인재로 ...  \n",
       "95  (앵커)지난 여름 일본 후쿠시마 원전 오염수 해양 방류가 제주 뿐 아니라 전 세계를...  \n",
       "96  신세계백화점 신년 전시회에서 공개된 김지영 작가의 '龍氣(용기)여 솟아라!'. (사...  \n",
       "97  전체재생\\n\\n◀ 앵커 ▶후쿠시마 오염수 방류 이후 중국이 일본 수산물 수입을 금지...  \n",
       "98  AD\\n\\nYTN라디오(FM 94.5) [YTN 뉴스FM 슬기로운 라디오생활]\\n\\...  \n",
       "99  일본 정부는 후쿠시마 원자력발 전소 오염수 방류를 강행했습니다. 134만t이 30년...  "
      ]
     },
     "execution_count": 72,
     "metadata": {},
     "output_type": "execute_result"
    }
   ],
   "source": [
    "articles = pd.read_csv(\"./data/articles.csv\")\n",
    "articles"
   ]
  }
 ],
 "metadata": {
  "kernelspec": {
   "display_name": "base",
   "language": "python",
   "name": "python3"
  },
  "language_info": {
   "codemirror_mode": {
    "name": "ipython",
    "version": 3
   },
   "file_extension": ".py",
   "mimetype": "text/x-python",
   "name": "python",
   "nbconvert_exporter": "python",
   "pygments_lexer": "ipython3",
   "version": "3.9.12"
  }
 },
 "nbformat": 4,
 "nbformat_minor": 2
}
