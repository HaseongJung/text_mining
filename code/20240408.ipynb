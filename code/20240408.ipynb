{
 "cells": [
  {
   "cell_type": "code",
   "execution_count": 11,
   "metadata": {},
   "outputs": [],
   "source": [
    "# import the libraries\n",
    "import time\n",
    "import re\n",
    "import random as rd\n",
    "import pandas as pd\n",
    "import numpy as np\n",
    "import collections\n",
    "from tqdm import tqdm\n",
    "import pickle\n",
    "import datetime\n",
    "\n",
    "import requests\n",
    "from bs4 import BeautifulSoup as bs\n",
    "from selenium import webdriver\n",
    "from webdriver_manager.chrome import ChromeDriverManager\n",
    "\n",
    "from selenium.webdriver.common.by import By\n",
    "from selenium.webdriver.common.keys import Keys\n",
    "from selenium.webdriver.support.ui import WebDriverWait\n",
    "from selenium.webdriver.support import expected_conditions as EC\n",
    "from selenium.webdriver.chrome.service import Service as ChromeService\n",
    "from selenium.webdriver.chrome.options import Options as ChromeOptions\n",
    "from selenium.common.exceptions import NoSuchElementException\n",
    "from selenium.common.exceptions import TimeoutException\n",
    "from webdriver_manager.chrome import ChromeDriverManager"
   ]
  },
  {
   "cell_type": "code",
   "execution_count": 2,
   "metadata": {},
   "outputs": [],
   "source": [
    "# Driver setting\n",
    "user_agent = \"Mozilla/5.0 (Windows NT 10.0; Win64; x64) AppleWebKit/537.36 (KHTML, like Gecko) Chrome/58.0.3029.110 Safari/537.3\"\n",
    "headers = {\n",
    "    \"User-Agent\": user_agent\n",
    "}\n",
    "\n",
    "def setWebdriver():\n",
    "    service = ChromeService(executable_path=ChromeDriverManager().install())    # 크롬 드라이버 최신 버전 설정\n",
    "\n",
    "    options = ChromeOptions()\n",
    "    options.add_argument('user-agent=' + user_agent)\n",
    "    options.add_argument('--start-maximized') #브라우저가 최대화된 상태로 실행됩니다.\n",
    "    # options.add_argument('headless') #headless모드 브라우저가 뜨지 않고 실행됩니다.\n",
    "    #options.add_argument('--window-size= x, y') #실행되는 브라우저 크기를 지정할 수 있습니다.\n",
    "    #options.add_argument('--start-fullscreen') #브라우저가 풀스크린 모드(F11)로 실행됩니다.\n",
    "    #options.add_argument('--blink-settings=imagesEnabled=false') #브라우저에서 이미지 로딩을 하지 않습니다.\n",
    "    options.add_argument('--mute-audio') #브라우저에 음소거 옵션을 적용합니다.\n",
    "    options.add_argument('incognito') #시크릿 모드의 브라우저가 실행됩니다.\n",
    "    driver = webdriver.Chrome(service=service, options=options)\n",
    "\n",
    "    return driver"
   ]
  },
  {
   "cell_type": "code",
   "execution_count": 19,
   "metadata": {},
   "outputs": [],
   "source": [
    "# 다음 카페 검색 페이지로 이동\n",
    "driver = setWebdriver()\n",
    "driver.get('https://search.daum.net/search?w=fusion&col=cafe&q=%EB%85%B8%EC%9D%B8+%EB%B6%80%EC%96%91&DA=STC&sd=20240301000000&ed=20240325235959&period=u')"
   ]
  },
  {
   "cell_type": "code",
   "execution_count": 20,
   "metadata": {},
   "outputs": [],
   "source": [
    "# 제목과 URL을 저장할 리스트 초기화\n",
    "title_list = []  \n",
    "url_list = []     \n",
    "  \n",
    "# 카페 글 크롤링\n",
    "while(True):\n",
    "    try:\n",
    "        for i in range(1,11): # 페이지 수만큼 반복\n",
    "            # 글의 제목과 URL 추출 # //*[@id=\"twcColl\"]/div[2]/c-container/c-card[1]/div/c-doc-web/div/div[1]/c-title/strong/a\n",
    "            title = driver.find_element(By.XPATH,'//*[@id=\"twcColl\"]/div[2]/c-container/c-card[{}]/div/c-doc-web/div/div[1]'.format(i)).text # 제목\n",
    "            url = driver.find_element(By.XPATH, '//*[@id=\"twcColl\"]/div[2]/c-container/c-card[{}]/div/c-doc-web/div/div[1]/c-title'.format(i)).get_attribute('data-href') # URL 추출\n",
    "    \n",
    "            title_list.append(title) # 제목 추가\n",
    "            url_list.append(url) # URL 추가\n",
    "        \n",
    "        driver.find_element(By.CLASS_NAME, 'btn_next').click() # 다음 페이지로 이동\n",
    "    except:\n",
    "        break"
   ]
  },
  {
   "cell_type": "code",
   "execution_count": null,
   "metadata": {},
   "outputs": [],
   "source": [
    "# 제목과 URL을 저장할 리스트 초기화\n",
    "title_list = []  \n",
    "url_list = []     \n",
    "  \n",
    "# 카페 글 크롤링\n",
    "while(True):\n",
    "    try:\n",
    "        for i in range(1,11): # 페이지 수만큼 반복\n",
    "            # 글의 제목과 URL 추출 # //*[@id=\"twcColl\"]/div[2]/c-container/c-card[1]/div/c-doc-web/div/div[1]/c-title/strong/a\n",
    "            title = driver.find_element(By.XPATH,'//*[@id=\"twcColl\"]/div[2]/c-container/c-card[{}]/div/c-doc-web/div/div[1]'.format(i)).text # 제목\n",
    "            url = driver.find_element(By.XPATH, '//*[@id=\"twcColl\"]/div[2]/c-container/c-card[{}]/div/c-doc-web/div/div[1]/c-title'.format(i)).get_attribute('data-href') # URL 추출\n",
    "    \n",
    "            title_list.append(title) # 제목 추가\n",
    "            url_list.append(url) # URL 추가\n",
    "        \n",
    "        driver.find_element(By.CLASS_NAME, 'btn_next').click() # 다음 페이지로 이동\n",
    "    except:\n",
    "        break"
   ]
  },
  {
   "cell_type": "markdown",
   "metadata": {},
   "source": [
    "---"
   ]
  },
  {
   "cell_type": "markdown",
   "metadata": {},
   "source": [
    "### Data preprocessing"
   ]
  },
  {
   "cell_type": "code",
   "execution_count": 26,
   "metadata": {},
   "outputs": [
    {
     "data": {
      "text/plain": [
       "['core']"
      ]
     },
     "execution_count": 26,
     "metadata": {},
     "output_type": "execute_result"
    }
   ],
   "source": [
    "import re\n",
    "text = \"core1 core core883core\"\n",
    "text = \"core1\"\n",
    "re.findall(r'\\bcore', text)"
   ]
  },
  {
   "cell_type": "code",
   "execution_count": null,
   "metadata": {},
   "outputs": [],
   "source": [
    "text = \"Wow! 999, This is a wonderful place\"\n",
    "w_text = re.findall(f'Wow! 999. This is')"
   ]
  },
  {
   "cell_type": "code",
   "execution_count": 27,
   "metadata": {},
   "outputs": [
    {
     "name": "stdout",
     "output_type": "stream",
     "text": [
      "                                                 title  \\\n",
      "0                                            노인 부양의 시대   \n",
      "1               부양가족연금_60대 '노인 가장'국민연금 年 27만6000원 더 타감   \n",
      "2                  \"생산인구 1명이 노인 1명 부양할 판…'죽음의 계곡' 될 것\"   \n",
      "3                        1 욕먹어 가면서 노인 복지정책의 개선을 바라는 이유   \n",
      "4                                 생산인구 1명이 노인 1명 부양할 판   \n",
      "..                                                 ...   \n",
      "145                                       [플랜75]이라는 영화   \n",
      "146  노인은 무엇으로 사는가 - 감사의 마음으로 사는 것이다 / 복사골 아저씨님 / 좋은글방1   \n",
      "147                                       [플랜75]이라는 영화   \n",
      "148                                       [플랜75]이라는 영화   \n",
      "149                                       [플랜75]이라는 영화   \n",
      "\n",
      "                                                   url  \\\n",
      "0    https://cafe.daum.net/dicapoetry/1aSh/24409?q=...   \n",
      "1    https://cafe.daum.net/knoub/9RXe/1158?q=%EB%85...   \n",
      "2    https://cafe.daum.net/djh43/KAK0/3898?q=%EB%85...   \n",
      "3    https://cafe.daum.net/oldSoLa/fonP/7?q=%EB%85%...   \n",
      "4    https://cafe.daum.net/mino1060/KnAG/149?q=%EB%...   \n",
      "..                                                 ...   \n",
      "145  https://cafe.daum.net/rhkdtpck/ebLa/34177?q=%E...   \n",
      "146  https://cafe.daum.net/sara3040/19SZ/2596?q=%EB...   \n",
      "147  https://cafe.daum.net/rnfmstks/ZerB/10127?q=%E...   \n",
      "148  https://cafe.daum.net/jswang/H6Is/6922?q=%EB%8...   \n",
      "149  https://cafe.daum.net/1664URMSAN/kcg0/303?q=%E...   \n",
      "\n",
      "                                             main_text  comment_cnt  \\\n",
      "0                  머리가 무거워\\n허리가 휘는 아이들\\n누가 저 짐을 좀 덜어주쇼           22   \n",
      "1    60대 '노인 가장'이라면…국민연금 年 27만6000원 더 타가세요\\n입력2023-...            0   \n",
      "2    인구 5000만을 지키자\\n(17) 인터뷰 - 이인실 한반도미래인구연구원장\\n\"세금...            0   \n",
      "3    1 #욕먹어가면서 #노인복지정책의개선을바라는이유\\n  우리니라의 노인문제는 이제 정...            0   \n",
      "4    \"생산인구 1명이 노인 1명 부양할 판…\\n“인구 축소는 상상 이상으로 고통스러운 ...            0   \n",
      "..                                                 ...          ...   \n",
      "145  노인세계의 애환\\n사는 게  뭔지, 무섭다!\\n현실입니다.\\n늙은 게 죄가 된다니....            3   \n",
      "146                                                               0   \n",
      "147    노인세계의 애환\\n사는 게  뭔지, 무섭다!\\n현실입니다.\\n늙은 게 죄가 된다...            1   \n",
      "148     노인세계의 애환\\n사는 게  뭔지, 무섭다!\\n현실입니다.\\n늙은 게 죄가 된...            0   \n",
      "149  노인세계의 애환\\n사는 게  뭔지, 무섭다!\\n현실입니다.\\n늙은 게 죄가 된다니....            1   \n",
      "\n",
      "                                               comment  img_cnt  \\\n",
      "0    [첫댓글 실감납니다\\n익기도 전에 지치겠어요, 안타깝게도 피기도 전에 지쳐가는 청춘...        1   \n",
      "1                                                 None        0   \n",
      "2                                                 None        0   \n",
      "3                                                 None        0   \n",
      "4                                                 None        1   \n",
      "..                                                 ...      ...   \n",
      "145  [첫댓글 가을비와 함께 하루을 엽니다 오늘도 사랑 가득\\n행복 가득찬 멋진 하루 되...        1   \n",
      "146                                               None        0   \n",
      "147  [첫댓글 의사도 없애고 병원도 없애고 전염병 절대 막지말라. 75세는 커녕 인간 말...        1   \n",
      "148                                               None        1   \n",
      "149  [첫댓글 단풍이\\n아름다움을 뽑내며 가을이 무르 익어.~\\n가고 있습니다\\n노란색 ...        1   \n",
      "\n",
      "                                                   img  video_cnt video   ch1  \\\n",
      "0    [https://t1.daumcdn.net/cafeattach/tV9z/396106...          0  None  daum   \n",
      "1                                                 None          0  None  daum   \n",
      "2                                                 None          0  None  daum   \n",
      "3                                                 None          0  None  daum   \n",
      "4    [http://scrap.kakaocdn.net/dn/X8S31/btsiOI8Rnj...          0  None  daum   \n",
      "..                                                 ...        ...   ...   ...   \n",
      "145  [https://t1.daumcdn.net/cafeattach/1LPTn/a9fe5...          0  None  daum   \n",
      "146                                               None          0  None  daum   \n",
      "147  [https://t1.daumcdn.net/cafeattach/1ViNN/90380...          0  None  daum   \n",
      "148  [https://t1.daumcdn.net/cafeattach/1X7cK/6bb44...          0  None  daum   \n",
      "149  [https://t1.daumcdn.net/cafeattach/1FYnh/a4bbc...          0  None  daum   \n",
      "\n",
      "      ch2  \n",
      "0    blog  \n",
      "1    blog  \n",
      "2    blog  \n",
      "3    blog  \n",
      "4    blog  \n",
      "..    ...  \n",
      "145  blog  \n",
      "146  blog  \n",
      "147  blog  \n",
      "148  blog  \n",
      "149  blog  \n",
      "\n",
      "[150 rows x 11 columns]\n"
     ]
    }
   ],
   "source": [
    "file_path = '../data/'\n",
    "file_name = 'daumCafe_crawling(노인 부양, 20230101-20231231).pkl'\n",
    "with open(file_path + file_name, 'rb') as f:\n",
    "    data = pickle.load(f)\n",
    "print(data)"
   ]
  },
  {
   "cell_type": "code",
   "execution_count": null,
   "metadata": {},
   "outputs": [],
   "source": [
    "docs['comment'] = docs['comment'].apply(lambda x: ', '.join(x) if isinstance(x, list) else x)\n",
    "docs['comment']"
   ]
  }
 ],
 "metadata": {
  "kernelspec": {
   "display_name": "base",
   "language": "python",
   "name": "python3"
  },
  "language_info": {
   "codemirror_mode": {
    "name": "ipython",
    "version": 3
   },
   "file_extension": ".py",
   "mimetype": "text/x-python",
   "name": "python",
   "nbconvert_exporter": "python",
   "pygments_lexer": "ipython3",
   "version": "undefined.undefined.undefined"
  }
 },
 "nbformat": 4,
 "nbformat_minor": 2
}
