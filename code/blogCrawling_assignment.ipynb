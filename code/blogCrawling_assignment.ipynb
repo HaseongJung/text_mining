{
 "cells": [
  {
   "cell_type": "code",
   "execution_count": null,
   "metadata": {},
   "outputs": [],
   "source": [
    "# import the libraries\n",
    "import time\n",
    "import re\n",
    "import random as rd\n",
    "import pandas as pd\n",
    "import numpy as np\n",
    "import collections\n",
    "from tqdm import tqdm\n",
    "import pickle\n",
    "import datetime\n",
    "\n",
    "import requests\n",
    "from bs4 import BeautifulSoup as bs\n",
    "from selenium import webdriver\n",
    "from webdriver_manager.chrome import ChromeDriverManager\n",
    "\n",
    "from selenium.webdriver.common.by import By\n",
    "from selenium.webdriver.common.keys import Keys\n",
    "from selenium.webdriver.support.ui import WebDriverWait\n",
    "from selenium.webdriver.support import expected_conditions as EC\n",
    "from selenium.webdriver.chrome.service import Service as ChromeService\n",
    "from selenium.webdriver.chrome.options import Options as ChromeOptions\n",
    "from webdriver_manager.chrome import ChromeDriverManager"
   ]
  },
  {
   "cell_type": "code",
   "execution_count": null,
   "metadata": {},
   "outputs": [],
   "source": [
    "user_agent = \"Mozilla/5.0 (Linux; Android 9; SM-G975F) AppleWebKit/537.36 (KHTML, like Gecko) Chrome/71.0.3578.83 Mobile Safari/537.36\"\n",
    "headers = {\n",
    "    \"User-Agent\": user_agent\n",
    "}\n",
    "\n",
    "def setWebdriver():\n",
    "    service = ChromeService(executable_path=ChromeDriverManager().install())    # 크롬 드라이버 최신 버전 설정\n",
    "\n",
    "    options = ChromeOptions()\n",
    "    options.add_argument('user-agent=' + user_agent)\n",
    "    options.add_argument('--start-maximized') #브라우저가 최대화된 상태로 실행됩니다.\n",
    "    #options.add_argument('headless') #headless모드 브라우저가 뜨지 않고 실행됩니다.\n",
    "    #options.add_argument('--window-size= x, y') #실행되는 브라우저 크기를 지정할 수 있습니다.\n",
    "    #options.add_argument('--start-fullscreen') #브라우저가 풀스크린 모드(F11)로 실행됩니다.\n",
    "    #options.add_argument('--blink-settings=imagesEnabled=false') #브라우저에서 이미지 로딩을 하지 않습니다.\n",
    "    options.add_argument('--mute-audio') #브라우저에 음소거 옵션을 적용합니다.\n",
    "    options.add_argument('incognito') #시크릿 모드의 브라우저가 실행됩니다.\n",
    "    driver = webdriver.Chrome(service=service, options=options)\n",
    "\n",
    "    return driver"
   ]
  },
  {
   "cell_type": "code",
   "execution_count": null,
   "metadata": {},
   "outputs": [
    {
     "name": "stdout",
     "output_type": "stream",
     "text": [
      "[<selenium.webdriver.remote.webelement.WebElement (session=\"f815aa297eff5208f0f79a391f2e7dfd\", element=\"f.F7F836E4C50AA3001101D3DC135C2B08.d.B0E0221CCD1EB2D20196E463BBFEBE39.e.26\")>, <selenium.webdriver.remote.webelement.WebElement (session=\"f815aa297eff5208f0f79a391f2e7dfd\", element=\"f.F7F836E4C50AA3001101D3DC135C2B08.d.B0E0221CCD1EB2D20196E463BBFEBE39.e.27\")>, <selenium.webdriver.remote.webelement.WebElement (session=\"f815aa297eff5208f0f79a391f2e7dfd\", element=\"f.F7F836E4C50AA3001101D3DC135C2B08.d.B0E0221CCD1EB2D20196E463BBFEBE39.e.28\")>, <selenium.webdriver.remote.webelement.WebElement (session=\"f815aa297eff5208f0f79a391f2e7dfd\", element=\"f.F7F836E4C50AA3001101D3DC135C2B08.d.B0E0221CCD1EB2D20196E463BBFEBE39.e.29\")>, <selenium.webdriver.remote.webelement.WebElement (session=\"f815aa297eff5208f0f79a391f2e7dfd\", element=\"f.F7F836E4C50AA3001101D3DC135C2B08.d.B0E0221CCD1EB2D20196E463BBFEBE39.e.30\")>, <selenium.webdriver.remote.webelement.WebElement (session=\"f815aa297eff5208f0f79a391f2e7dfd\", element=\"f.F7F836E4C50AA3001101D3DC135C2B08.d.B0E0221CCD1EB2D20196E463BBFEBE39.e.31\")>, <selenium.webdriver.remote.webelement.WebElement (session=\"f815aa297eff5208f0f79a391f2e7dfd\", element=\"f.F7F836E4C50AA3001101D3DC135C2B08.d.B0E0221CCD1EB2D20196E463BBFEBE39.e.32\")>, <selenium.webdriver.remote.webelement.WebElement (session=\"f815aa297eff5208f0f79a391f2e7dfd\", element=\"f.F7F836E4C50AA3001101D3DC135C2B08.d.B0E0221CCD1EB2D20196E463BBFEBE39.e.33\")>, <selenium.webdriver.remote.webelement.WebElement (session=\"f815aa297eff5208f0f79a391f2e7dfd\", element=\"f.F7F836E4C50AA3001101D3DC135C2B08.d.B0E0221CCD1EB2D20196E463BBFEBE39.e.34\")>, <selenium.webdriver.remote.webelement.WebElement (session=\"f815aa297eff5208f0f79a391f2e7dfd\", element=\"f.F7F836E4C50AA3001101D3DC135C2B08.d.B0E0221CCD1EB2D20196E463BBFEBE39.e.35\")>, <selenium.webdriver.remote.webelement.WebElement (session=\"f815aa297eff5208f0f79a391f2e7dfd\", element=\"f.F7F836E4C50AA3001101D3DC135C2B08.d.B0E0221CCD1EB2D20196E463BBFEBE39.e.36\")>, <selenium.webdriver.remote.webelement.WebElement (session=\"f815aa297eff5208f0f79a391f2e7dfd\", element=\"f.F7F836E4C50AA3001101D3DC135C2B08.d.B0E0221CCD1EB2D20196E463BBFEBE39.e.37\")>, <selenium.webdriver.remote.webelement.WebElement (session=\"f815aa297eff5208f0f79a391f2e7dfd\", element=\"f.F7F836E4C50AA3001101D3DC135C2B08.d.B0E0221CCD1EB2D20196E463BBFEBE39.e.38\")>, <selenium.webdriver.remote.webelement.WebElement (session=\"f815aa297eff5208f0f79a391f2e7dfd\", element=\"f.F7F836E4C50AA3001101D3DC135C2B08.d.B0E0221CCD1EB2D20196E463BBFEBE39.e.39\")>, <selenium.webdriver.remote.webelement.WebElement (session=\"f815aa297eff5208f0f79a391f2e7dfd\", element=\"f.F7F836E4C50AA3001101D3DC135C2B08.d.B0E0221CCD1EB2D20196E463BBFEBE39.e.40\")>, <selenium.webdriver.remote.webelement.WebElement (session=\"f815aa297eff5208f0f79a391f2e7dfd\", element=\"f.F7F836E4C50AA3001101D3DC135C2B08.d.B0E0221CCD1EB2D20196E463BBFEBE39.e.41\")>, <selenium.webdriver.remote.webelement.WebElement (session=\"f815aa297eff5208f0f79a391f2e7dfd\", element=\"f.F7F836E4C50AA3001101D3DC135C2B08.d.B0E0221CCD1EB2D20196E463BBFEBE39.e.42\")>, <selenium.webdriver.remote.webelement.WebElement (session=\"f815aa297eff5208f0f79a391f2e7dfd\", element=\"f.F7F836E4C50AA3001101D3DC135C2B08.d.B0E0221CCD1EB2D20196E463BBFEBE39.e.43\")>, <selenium.webdriver.remote.webelement.WebElement (session=\"f815aa297eff5208f0f79a391f2e7dfd\", element=\"f.F7F836E4C50AA3001101D3DC135C2B08.d.B0E0221CCD1EB2D20196E463BBFEBE39.e.44\")>, <selenium.webdriver.remote.webelement.WebElement (session=\"f815aa297eff5208f0f79a391f2e7dfd\", element=\"f.F7F836E4C50AA3001101D3DC135C2B08.d.B0E0221CCD1EB2D20196E463BBFEBE39.e.45\")>, <selenium.webdriver.remote.webelement.WebElement (session=\"f815aa297eff5208f0f79a391f2e7dfd\", element=\"f.F7F836E4C50AA3001101D3DC135C2B08.d.B0E0221CCD1EB2D20196E463BBFEBE39.e.46\")>, <selenium.webdriver.remote.webelement.WebElement (session=\"f815aa297eff5208f0f79a391f2e7dfd\", element=\"f.F7F836E4C50AA3001101D3DC135C2B08.d.B0E0221CCD1EB2D20196E463BBFEBE39.e.47\")>, <selenium.webdriver.remote.webelement.WebElement (session=\"f815aa297eff5208f0f79a391f2e7dfd\", element=\"f.F7F836E4C50AA3001101D3DC135C2B08.d.B0E0221CCD1EB2D20196E463BBFEBE39.e.48\")>, <selenium.webdriver.remote.webelement.WebElement (session=\"f815aa297eff5208f0f79a391f2e7dfd\", element=\"f.F7F836E4C50AA3001101D3DC135C2B08.d.B0E0221CCD1EB2D20196E463BBFEBE39.e.49\")>, <selenium.webdriver.remote.webelement.WebElement (session=\"f815aa297eff5208f0f79a391f2e7dfd\", element=\"f.F7F836E4C50AA3001101D3DC135C2B08.d.B0E0221CCD1EB2D20196E463BBFEBE39.e.50\")>, <selenium.webdriver.remote.webelement.WebElement (session=\"f815aa297eff5208f0f79a391f2e7dfd\", element=\"f.F7F836E4C50AA3001101D3DC135C2B08.d.B0E0221CCD1EB2D20196E463BBFEBE39.e.51\")>, <selenium.webdriver.remote.webelement.WebElement (session=\"f815aa297eff5208f0f79a391f2e7dfd\", element=\"f.F7F836E4C50AA3001101D3DC135C2B08.d.B0E0221CCD1EB2D20196E463BBFEBE39.e.52\")>, <selenium.webdriver.remote.webelement.WebElement (session=\"f815aa297eff5208f0f79a391f2e7dfd\", element=\"f.F7F836E4C50AA3001101D3DC135C2B08.d.B0E0221CCD1EB2D20196E463BBFEBE39.e.53\")>, <selenium.webdriver.remote.webelement.WebElement (session=\"f815aa297eff5208f0f79a391f2e7dfd\", element=\"f.F7F836E4C50AA3001101D3DC135C2B08.d.B0E0221CCD1EB2D20196E463BBFEBE39.e.54\")>, <selenium.webdriver.remote.webelement.WebElement (session=\"f815aa297eff5208f0f79a391f2e7dfd\", element=\"f.F7F836E4C50AA3001101D3DC135C2B08.d.B0E0221CCD1EB2D20196E463BBFEBE39.e.55\")>]\n"
     ]
    },
    {
     "name": "stderr",
     "output_type": "stream",
     "text": [
      "articles...:   0%|          | 0/30 [00:00<?, ?it/s]"
     ]
    },
    {
     "name": "stdout",
     "output_type": "stream",
     "text": [
      "Title: AI투자 핀트 미국주식 소액투자 하는법 및 이벤트 소식\n",
      "URL: https://m.blog.naver.com/kimgr1010/223394424045\n",
      "img_src: ['https://search.pstatic.net/common/?src=http%3A%2F%2Fblogfiles.naver.net%2FMjAyNDAzMThfMjEg%2FMDAxNzEwNzY2ODM5OTA5.J4-qCsVGbo3Ay6RPxNLmIYfdT0jEXuV4NjKvSX9SDwsg.cX6B6Ic3CxxNrYmQB5vfdOnbiXx9c4ngCIfzt8xEQJQg.PNG%2F%25C1%25A6%25B8%25F1%25C0%25BB-%25C0%25D4%25B7%25C2%25C7%25D8%25C1%25D6%25BC%25BC%25BF%25E4_-001.png%23400x400&type=f238_208', 'https://search.pstatic.net/common/?src=http%3A%2F%2Fblogfiles.naver.net%2FMjAyNDAzMThfMjY2%2FMDAxNzEwNzY3NTc0Njgz.Fw2Gft3EYoPq9grRGbZ1PSkfc8bwNGThei1SewIYR6Yg.vHxz_wpND-Vw7k_OA0GSyPuEUEp3L5ydDmF3AJ8shOwg.PNG%2F%25C1%25A6%25B8%25F1%25C0%25BB-%25C0%25D4%25B7%25C2%25C7%25D8%25C1%25D6%25BC%25BC%25BF%25E4_-002_%25281%2529.png%231080x640&type=f238_208', 'https://search.pstatic.net/common/?src=http%3A%2F%2Fblogfiles.naver.net%2FMjAyNDAzMThfMjk3%2FMDAxNzEwNzY3NTc0MjA3.Yf9dSByS0hdfV74JiZGApzHEGrrmQJblRif7DUdkfVUg.nTw0tRpoPsHdW0FCUv1bWDbhJTYfMIaIL4MFl2PgNd4g.PNG%2F%25C1%25A6%25B8%25F1%25C0%25BB-%25C0%25D4%25B7%25C2%25C7%25D8%25C1%25D6%25BC%25BC%25BF%25E4_-002_%25282%2529.png%231080x703&type=f238_208', 'https://search.pstatic.net/common/?src=http%3A%2F%2Fblogfiles.naver.net%2FMjAyNDAzMTlfMjA0%2FMDAxNzEwODMzMzA4Nzky.UvoS7mN1l4JIC85eGj1kO8--LoB3__lV4azliODpg4Ig.yAihat8yqJf0zgVkYcf0YfaXZF_PSBdCOvMkJPpJ0CQg.PNG%2FSE-e7069e91-209d-41fb-a941-c5618d5ae415.png%231080x703&type=f238_208', 'https://search.pstatic.net/common/?src=http%3A%2F%2Fblogfiles.naver.net%2FMjAyNDAzMThfMTEy%2FMDAxNzEwNzY4MjY3MjI2.ZSzTIFgaH0tspjLRjuwtyQXVVoQ66In74KG7hWqTEjQg.wdCrj3UUpo1Nf-Zv6_q_R-EzrKkyTjCavp8UmVz-SJYg.PNG%2F%25C1%25A6%25B8%25F1%25C0%25BB-%25C0%25D4%25B7%25C2%25C7%25D8%25C1%25D6%25BC%25BC%25BF%25E4_-002_%25283%2529.png%231080x637&type=f238_208']\n",
      "--------------------------------------------------------------------------------------------------------------------------------------------------------------------------------------------------------\n"
     ]
    },
    {
     "name": "stderr",
     "output_type": "stream",
     "text": [
      "articles...:   3%|▎         | 1/30 [00:02<01:21,  2.81s/it]"
     ]
    },
    {
     "name": "stdout",
     "output_type": "stream",
     "text": [
      "Title: 3월 3주차 ) FOMC 결과로 빅테크 상승, 달러강세전환과 엔화약세, 삼성전자 8만 가나요?(+ AI 투자기록)\n",
      "URL: https://m.blog.naver.com/mayo51/223393808284\n",
      "img_src: ['https://search.pstatic.net/common/?src=http%3A%2F%2Fblogfiles.naver.net%2FMjAyNDAzMjRfMjkx%2FMDAxNzExMjgwMzg3Mzkz.A4ME8I1z0If0ch5yotBEGt9YqeNaPzMU21743pvL6Pkg.E_d2h9virn3tD_Ye4JeCQ9TorQ7Y-cq_YGfq1m9C260g.PNG%2F%25C1%25A6%25B8%25F1%25C0%25BB_%25C0%25D4%25B7%25C2%25C7%25D8%25C1%25D6%25BC%25BC%25BF%25E4_-011_%252854%2529.png%231080x1080&type=f238_208', 'https://search.pstatic.net/common/?src=http%3A%2F%2Fblogfiles.naver.net%2FMjAyNDAzMjRfMjI0%2FMDAxNzExMjc0NDEyODgy.GWnOWYULLemxfUinPMEgbTyqpSaAPB2GJQAR8OKgNksg.WTpUjCuETm5QGx-pH926ikln8FgAiAAfWATqNdbXh6cg.PNG%2F%25C1%25A6%25B8%25F1%25C0%25BB_%25C0%25D4%25B7%25C2%25C7%25D8%25C1%25D6%25BC%25BC%25BF%25E4____%25BA%25B9%25BB%25E7%25BA%25BB_%25BA%25B9%25BB%25E7%25BA%25BB-001_%25282%2529.png%231355x806&type=f238_208', 'https://search.pstatic.net/common/?src=http%3A%2F%2Fblogfiles.naver.net%2FMjAyNDAzMjRfMjcx%2FMDAxNzExMjc1NDQ4MDMw.mPP-wvvVY9s6thrmynBbrAIPe35T7D-JR4f4MJNq6Y0g.8FWaxjNzFx6LhGUg00r0_iD4CMIW1ekSJ_sbzRK-UPog.PNG%2Fimage.png%231384x728&type=f238_208', 'https://search.pstatic.net/common/?src=http%3A%2F%2Fblogfiles.naver.net%2FMjAyNDAzMjRfMjUw%2FMDAxNzExMjc2NDU0Mjcx.B0OTo-HpLRV5EjiHDJCQe7liVGIkacIMfSPFQt7D6DUg.4ZfTK0iw9iWmUlh_WxcqTTCz2Ezx-OcK_RCvc0jvIc8g.PNG%2Fimage.png%23930x757&type=f238_208', 'https://search.pstatic.net/common/?src=http%3A%2F%2Fblogfiles.naver.net%2FMjAyNDAzMjRfNDgg%2FMDAxNzExMjc2ODkzNTM1.E8xLx78qRM_dW5fmdlByGVEqMIxWHLj96SU3gaif-F4g.WtKKvKkVFaeKSYT_X5SigoqiMaFtgtLXSrtCEm3OQaIg.PNG%2Fimage.png%231002x637&type=f238_208']\n",
      "--------------------------------------------------------------------------------------------------------------------------------------------------------------------------------------------------------\n"
     ]
    },
    {
     "name": "stderr",
     "output_type": "stream",
     "text": [
      "articles...:   7%|▋         | 2/30 [00:05<01:15,  2.70s/it]"
     ]
    },
    {
     "name": "stdout",
     "output_type": "stream",
     "text": [
      "Title: 미국주식 한국주식 AI 간편 투자 플랫폼, 핀트에서 해볼까\n",
      "URL: https://m.blog.naver.com/ekdud0706/223394424153\n",
      "img_src: ['https://search.pstatic.net/common/?src=http%3A%2F%2Fblogfiles.naver.net%2FMjAyNDAzMTlfMTU1%2FMDAxNzEwODM3NzIwMTY0.tujhEj-ZnyuuFX-lXp5DppkP5ftm4Qyik2K9P-1GN8Ig.tBBAcGHcYuqyKskjSyydXa8AzQN15221j-AUv7AOAq4g.PNG%2F%25C1%25A6%25B8%25F1%25C0%25BB_%25C0%25D4%25B7%25C2%25C7%25D8%25C1%25D6%25BC%25BC%25BF%25E4_-001_%25289%2529.png%231080x1080&type=f238_208', 'https://search.pstatic.net/common/?src=http%3A%2F%2Fblogfiles.naver.net%2FMjAyNDAzMTlfMTQ5%2FMDAxNzEwODM3NzIxMTIw.lnbtTO3ZplQJyckyQMRJDXywdvc12q5iCmiMf-4qqTsg.t05uUeASjGgOHtUN0VYQ3DXFHMRlvApdCtibXv7BhPMg.JPEG%2F20240319%25A3%25DF170917.jpg%23900x771&type=f238_208', 'https://search.pstatic.net/common/?src=http%3A%2F%2Fblogfiles.naver.net%2FMjAyNDAzMTlfMTYg%2FMDAxNzEwODM3NzIyMjI3.-YomSmwchrEgihY23byQfF_V4jQxP1lHX8OiwAyBajgg.dubuhoId5bEb3rXtDMsjdKZXQ-3ORpAFQ3-kM35N4DUg.JPEG%2F20240319%25A3%25DF171708.jpg%23900x773&type=f238_208', 'https://search.pstatic.net/common/?src=http%3A%2F%2Fblogfiles.naver.net%2FMjAyNDAzMTlfMjU5%2FMDAxNzEwODM3NzIzMjQw.BVl_3kZlEbN2_rCqZ8ffmnag6n2V9VleCS_LRDh0atYg.2zKXgfDD588qHUnLCyCLKpr-CSR_JiJc8uApVGMMmX0g.JPEG%2F20240319%25A3%25DF170852.jpg%23900x784&type=f238_208', 'https://search.pstatic.net/common/?src=http%3A%2F%2Fblogfiles.naver.net%2FMjAyNDAzMTlfNTEg%2FMDAxNzEwODM3NzI0NDYw.RT_eXJSxG5wNucLaEWAd5GOzlJkUcRs8IlL6NSHleo0g.7U-8JkEhFBKvQMB8eVjE6GIjp7jAnhY61RCzkCISd2sg.JPEG%2F20240319%25A3%25DF170931.jpg%23884x759&type=f238_208']\n",
      "--------------------------------------------------------------------------------------------------------------------------------------------------------------------------------------------------------\n"
     ]
    },
    {
     "name": "stderr",
     "output_type": "stream",
     "text": [
      "articles...:  10%|█         | 3/30 [00:07<01:11,  2.64s/it]"
     ]
    },
    {
     "name": "stdout",
     "output_type": "stream",
     "text": [
      "Title: 포토샵 AI 생성형 자동 채우기 방법 | 선택영역 배경 늘리기\n",
      "URL: https://m.blog.naver.com/khooin/223394585584\n",
      "img_src: ['https://search.pstatic.net/common/?src=http%3A%2F%2Fblogfiles.naver.net%2FMjAyNDAzMjVfMjk1%2FMDAxNzExMzQzODY4OTEy.WaxCVOj8J932d21pzlQQIYmADrM5gLlk-gEN8kVuye8g.u7kGnr-mcy09L8R5LpMuz-Wsh3nlu2qPr_k_SGEZgEkg.PNG%2F%25C6%25F7%25C5%25E4%25BC%25A5_%25BB%25FD%25BC%25BA%25C7%25FC%25C3%25A4%25BF%25EC%25B1%25E2_%25B9%25E8%25B0%25E6_%25B4%25C3%25B8%25AE%25B1%25E2.png%231080x1080&type=f238_208', 'https://search.pstatic.net/common/?src=http%3A%2F%2Fblogfiles.naver.net%2FMjAyNDAzMjVfMTA0%2FMDAxNzExMzQzOTcyOTI4.7WQdOoNamHDAozjZycDsWObKDXnpfn-64xfyaWwVTv8g.O5qvCYZpyBJFqenp-2lIqsLe2rtee1v-8dwkkHiYR6Ig.PNG%2F1.png%232324x1311&type=f238_208', 'https://search.pstatic.net/common/?src=http%3A%2F%2Fblogfiles.naver.net%2FMjAyNDAzMjVfMjQ4%2FMDAxNzExMzQyNjc5MjU4.iHWqLRR4GpyZT4Y29rVpQD2CEYid7hl0NbZevB0atCUg.YDKdaelp2axQSAQZeLnyy-CaJlKHwiZbqEkuDIRq5H4g.PNG%2F%25C4%25B5%25B9%25F6%25BD%25BA_%25C5%25A9%25B1%25E2.png%23388x908&type=f238_208', 'https://search.pstatic.net/common/?src=http%3A%2F%2Fblogfiles.naver.net%2FMjAyNDAzMjVfMTcy%2FMDAxNzExMzQzOTc0NDE5.8LZr1MBzwlCuyvd3DRseXBI8VyWyJF3zxQeO5jKkp3og.8XbykO5ocsW_FB1rz-XdJ3KX3m5kuUTXDI6JQGAr3dkg.PNG%2F3.png%231572x1066&type=f238_208', 'https://search.pstatic.net/common/?src=http%3A%2F%2Fblogfiles.naver.net%2FMjAyNDAzMjVfMjMz%2FMDAxNzExMzQzOTc1ODA3.I3b1Do4vAnEXKO0YzLJXrnnY9-w3G31abBGMr5jjF4wg.K-36O5RbernavkpJ-0prrfHn2B31mmpcQ5jGx8Sc6awg.PNG%2F5.png%231599x1174&type=f238_208']\n",
      "--------------------------------------------------------------------------------------------------------------------------------------------------------------------------------------------------------\n"
     ]
    },
    {
     "name": "stderr",
     "output_type": "stream",
     "text": [
      "articles...:  13%|█▎        | 4/30 [00:09<00:59,  2.29s/it]"
     ]
    },
    {
     "name": "stdout",
     "output_type": "stream",
     "text": [
      "Title: AI프로필 제작 캐럿으로 나만의 인공지능 사진 및 그림 만들기\n",
      "URL: https://m.blog.naver.com/bk32167/223387622181\n",
      "img_src: ['https://search.pstatic.net/common/?src=http%3A%2F%2Fblogfiles.naver.net%2FMjAyNDAzMThfMTc3%2FMDAxNzEwNzY1MTQ0MjI4.y2onLhLQCYn7dIKbqIzSbJ0C85YG_CADVJtoeUNed7cg.xIyzcn2a_Gb8xAmDgnc2J-NtxXVc9P0o2tzH3y2ajH8g.JPEG%2FDSC08958.jpg%23900x600&type=f238_208', 'https://search.pstatic.net/common/?src=http%3A%2F%2Fblogfiles.naver.net%2FMjAyNDAzMThfMjU3%2FMDAxNzEwNzY1MTIzMTM5.9I0e9nfiVk8-QLY86RXGF_5XgnKX-49ig_YO8W1zj6Ag.hVGtafcRAuGKwHtmBR4Jfbi83ztGKZ5s1svaBiqQs2Yg.JPEG%2FDSC08898.jpg%23900x600&type=f238_208', 'https://search.pstatic.net/common/?src=http%3A%2F%2Fblogfiles.naver.net%2FMjAyNDAzMThfNjMg%2FMDAxNzEwNzY2MzczNzg4.VJ49xaV5DZ71hFV7vdYgxab8Fs8wHNwUa_XcXtFWP6Ig.0SeECrqgQb0Zbp-0ctB5qwHa5TMM1ezQhPbKIiv4lKIg.PNG%2Fimage.png%23887x289&type=f238_208', 'https://search.pstatic.net/common/?src=http%3A%2F%2Fblogfiles.naver.net%2FMjAyNDAzMThfMjEw%2FMDAxNzEwNzY1MTIzNjYy.nAyNUNQqs1KJLAWlZUWDgXcYC3ExjPyA67Xu1AFyQEog.1cqpQZjfJ7TA39FwK2nMkwO9zh691APuvCXJgzqbnyAg.JPEG%2FDSC08903.jpg%23900x600&type=f238_208', 'https://search.pstatic.net/common/?src=http%3A%2F%2Fblogfiles.naver.net%2FMjAyNDAzMThfNjIg%2FMDAxNzEwNzY1MTIzNjcz.O5VXkT863sBfJNqoKQD0PJHzQN_sFvcgoOwFZOzIBmQg.bWCml-G5KWbMRzphnZwRlCyoe8V-P-Z0VF7v8Jve9rkg.JPEG%2FDSC08904.jpg%23900x600&type=f238_208']\n",
      "--------------------------------------------------------------------------------------------------------------------------------------------------------------------------------------------------------\n"
     ]
    },
    {
     "name": "stderr",
     "output_type": "stream",
     "text": [
      "articles...:  17%|█▋        | 5/30 [00:11<00:56,  2.28s/it]"
     ]
    },
    {
     "name": "stdout",
     "output_type": "stream",
     "text": [
      "Title: 투자사기 공범으로 체포, 경찰조사를 앞두고 있다면 - AI 투자, 리딩방 사기\n",
      "URL: https://m.blog.naver.com/bswsz/223393812733\n",
      "img_src: https://search.pstatic.net/common/?src=http%3A%2F%2Fblogfiles.naver.net%2FMjAyNDAzMjRfMjI0%2FMDAxNzExMjc4MDY3NDIy.tGtTHKOsGjWf2eZ5_v4_1umLCIHgzggPcOBwFM50Kesg.o_Vm86VUnMedEOrtPGVoKQ3dsheZAQzc6wgicVXPOTAg.JPEG%2Fphoto-1620228885847-9eab2a1adddc.jpg%231080x811&type=ff192_192\n",
      "--------------------------------------------------------------------------------------------------------------------------------------------------------------------------------------------------------\n"
     ]
    },
    {
     "name": "stderr",
     "output_type": "stream",
     "text": [
      "articles...:  20%|██        | 6/30 [00:16<01:08,  2.86s/it]"
     ]
    },
    {
     "name": "stdout",
     "output_type": "stream",
     "text": [
      "Title: 삼성 비스포크 AI 콤보 에어살균/탈취 기능 사용후기\n",
      "URL: https://m.blog.naver.com/s87boyo/223391183584\n",
      "img_src: ['https://search.pstatic.net/common/?src=http%3A%2F%2Fblogfiles.naver.net%2FMjAyNDAzMjFfMjEx%2FMDAxNzExMDIyMDMwMzQ3.ncvSf0i9NGwJOsVgTQAZz1cetYFGiiPyPV9l_W6FJ5kg.rHTBSI98h4bd6EZyLqrWCyHCLIKT_ega7DVfnxmyFOEg.JPEG%2FDSC08347.jpg%234595x3065&type=f238_208', 'https://search.pstatic.net/common/?src=http%3A%2F%2Fblogfiles.naver.net%2FMjAyNDAzMjFfMjY2%2FMDAxNzExMDIxOTk5MzE4.TfAlLTJ03IEw7C16vvFTFEK6Ujmv8eI9V9WBYWWnZYQg.zV2fvkZnSsb6HZezaq_3nze4pDOrqTwe2WKBj1e9DQog.JPEG%2FIMG_2487.jpg%234032x3024&type=f238_208', 'https://search.pstatic.net/common/?src=http%3A%2F%2Fblogfiles.naver.net%2FMjAyNDAzMjFfMTQ3%2FMDAxNzExMDIyMDMwMTQ5.694tMMqRlh9oGWJ1tHgpmR5kPb9ziVqCjj5KGKsHx14g.tT-q7_H08jkOAZn9d4vUih_ZJISTWQHQUzemOXtw_Osg.JPEG%2FDSC08345.jpg%234596x3065&type=f238_208', 'https://search.pstatic.net/common/?src=http%3A%2F%2Fblogfiles.naver.net%2FMjAyNDAzMjFfMjU2%2FMDAxNzExMDIyMDMwNTE4.RDW58QGwN2iI-R5dtBoo0svOw3FT-EWp9yzOx4_mIycg.z03KGAaiL0O_EwthpPop_OdapCFIkxYhC20UA04FPxQg.JPEG%2FDSC08346.jpg%234596x3065&type=f238_208', 'https://search.pstatic.net/common/?src=http%3A%2F%2Fblogfiles.naver.net%2FMjAyNDAzMjFfMjUy%2FMDAxNzExMDIyMDMwMjg3.tMA9Z-nzyX8FKGrGEX0FO-jVK64nkt2QXBAmc098fiAg.i40-7CI39Uq5sxUTjsfdPoxawOJYFRt9ETkxPPkXP5Eg.JPEG%2FDSC08348.jpg%234607x3073&type=f238_208']\n",
      "--------------------------------------------------------------------------------------------------------------------------------------------------------------------------------------------------------\n"
     ]
    },
    {
     "name": "stderr",
     "output_type": "stream",
     "text": [
      "articles...:  23%|██▎       | 7/30 [00:18<00:59,  2.59s/it]"
     ]
    },
    {
     "name": "stdout",
     "output_type": "stream",
     "text": [
      "Title: 엔비디아 GTC 2024 통해 보는 주가 전망, AI칩 로봇 공개\n",
      "URL: https://m.blog.naver.com/tksth0414/223393622913\n",
      "img_src: ['https://search.pstatic.net/common/?src=http%3A%2F%2Fblogfiles.naver.net%2FMjAyNDAzMjRfNjMg%2FMDAxNzExMjU2NDE4MDYw.wUHxVF0x0LGxxc3R-xJLmb_tS27XlyMyC4-ema-xDPMg.DUpyuRFeKpz9AsVgbHeFZCgdmH6wnIefI3TsDf6fZrgg.PNG%2F%25B9%25CC%25B1%25B9%25C1%25D6%25BD%25C4_%25C1%25BE%25B8%25F1%25BA%25D0%25BC%25AE_%25285%2529.png%23400x400&type=f238_208', 'https://search.pstatic.net/common/?src=http%3A%2F%2Fblogfiles.naver.net%2FMjAyNDAzMjRfMTM0%2FMDAxNzExMjU4Njk2Mzk2.5qQJLK7zKGIVEJtTq74FESBL841LsZybBXB2gzCSOygg.GLa6-RctIY6nIa-PbdCw30op7tgGouWYbd0t53ygHJ0g.PNG%2F%25C0%25AF%25C5%25F5%25BA%25EA_%25C7%25C1%25B7%25B9%25C1%25A8%25C0%25CC%25BC%25C7_%25C0%25DA%25B7%25E1_-_2024-03-24T143812.473.png%232000x1414&type=f238_208', 'https://search.pstatic.net/common/?src=http%3A%2F%2Fblogfiles.naver.net%2FMjAyNDAzMjRfNTAg%2FMDAxNzExMjU4OTMwMjU0.-3w3bImSsUqk2Ne7_02mlx_wcReuQR3yEVNPxFQNy-Eg.aVZOQbq_OAIlmdqm1sIw6KrWKl3slagl_00j5GZxAokg.PNG%2F%25C0%25AF%25C5%25F5%25BA%25EA_%25C7%25C1%25B7%25B9%25C1%25A8%25C0%25CC%25BC%25C7_%25C0%25DA%25B7%25E1_-_2024-03-24T144205.478.png%232000x1414&type=f238_208', 'https://search.pstatic.net/common/?src=http%3A%2F%2Fblogfiles.naver.net%2FMjAyNDAzMjRfNjYg%2FMDAxNzExMjYxNDQyNDAz.1RbTXJskHQy6vuvZ5_r-DGhExmwY9TWmecb9286Q-gUg.vx52Alqzr12_dKnjDUmFUYKf7iZiiWimMOyaKZvRpPMg.PNG%2F%25C0%25AF%25C5%25F5%25BA%25EA_%25C7%25C1%25B7%25B9%25C1%25A8%25C0%25CC%25BC%25C7_%25C0%25DA%25B7%25E1_-_2024-03-24T152359.847.png%232000x1414&type=f238_208', 'https://search.pstatic.net/common/?src=http%3A%2F%2Fblogfiles.naver.net%2FMjAyNDAzMjRfMjU4%2FMDAxNzExMjYxNTY3NTE4.v2dWzVbrC9ADlSp7dlx-XwISEAtt8eMcFHozsdOo250g.O88PkeXJ9xorVNSRZzwsVD0XOLYv5PZetpCLU500WM8g.PNG%2F%25C0%25AF%25C5%25F5%25BA%25EA_%25C7%25C1%25B7%25B9%25C1%25A8%25C0%25CC%25BC%25C7_%25C0%25DA%25B7%25E1_-_2024-03-24T152556.878.png%232000x1414&type=f238_208']\n",
      "--------------------------------------------------------------------------------------------------------------------------------------------------------------------------------------------------------\n"
     ]
    },
    {
     "name": "stderr",
     "output_type": "stream",
     "text": [
      "articles...:  27%|██▋       | 8/30 [00:20<00:56,  2.58s/it]"
     ]
    },
    {
     "name": "stdout",
     "output_type": "stream",
     "text": [
      "Title: 유튜브뮤직 구글홈 미니 네스트 AI 스피커 연결 후 음악듣기\n",
      "URL: https://m.blog.naver.com/playmyworld/223393695567\n",
      "img_src: ['https://search.pstatic.net/common/?src=http%3A%2F%2Fblogfiles.naver.net%2FMjAyNDAzMjRfNTMg%2FMDAxNzExMjY2ODgwNjcy.BRt5tG04XpnqeNDNNElHwgNBwH3CHBkn2AqD0M2am5kg.pl1cFu1j5ZBH_oKGtYCQ_BT5eZsDjfvULRYV9fw6nHgg.JPEG%2F1I7A2479.JPG%235472x3648&type=f238_208', 'https://search.pstatic.net/common/?src=http%3A%2F%2Fblogfiles.naver.net%2FMjAyNDAzMjRfMjgw%2FMDAxNzExMjY2NjE1Mjk4.1CkTUpUNhXpeJkAG4YkqUM5y451FTOVxNMQ6o2VpD8Ag.7b2_g657WPr7bRObILZfKPbYux_fm0ssRJQSAftlEvgg.JPEG%2F1I7A2535.JPG%235472x3648&type=f238_208', 'https://search.pstatic.net/common/?src=http%3A%2F%2Fblogfiles.naver.net%2FMjAyNDAzMjRfMTU0%2FMDAxNzExMjY2ODY4MjE0.twsTFdd5ZHmUN_ES6LsD58Cn-lTk4a7vI9xffGEHcDIg.fFdCEdex6me01AiWWHST1dwmM8keM5ua3vTYoZT6P1kg.JPEG%2F1I7A2517.JPG%233000x2000&type=f238_208', 'https://search.pstatic.net/common/?src=http%3A%2F%2Fblogfiles.naver.net%2FMjAyNDAzMjRfMjA4%2FMDAxNzExMjY2ODk1ODQz.L_kgY1zATziN7Vhswv-DZuYc5_2JrMRHjpZ1l_1EqkUg.yR_brL8ucSMv8ImfhE-Y5PGPWjWhCH75lNQMlMzhcVog.JPEG%2F1I7A2510.JPG%235472x3648&type=f238_208', 'https://search.pstatic.net/common/?src=http%3A%2F%2Fblogfiles.naver.net%2FMjAyNDAzMjRfMjAx%2FMDAxNzExMjY2OTA4NjU0.3Mh629yV56BaHVmYWRbyQf-02pnze3cW1w1_DeRjS4Yg.mD1ArCyjuP1shf42PFPuT0DMdTitf27l-eCHDmi1AkMg.JPEG%2F1I7A2493.JPG%235472x3648&type=f238_208']\n",
      "--------------------------------------------------------------------------------------------------------------------------------------------------------------------------------------------------------\n"
     ]
    },
    {
     "name": "stderr",
     "output_type": "stream",
     "text": [
      "articles...:  30%|███       | 9/30 [00:22<00:49,  2.38s/it]"
     ]
    },
    {
     "name": "stdout",
     "output_type": "stream",
     "text": [
      "Title: 아이폰16 출시일 디자인 생성형 AI 탑재되나?\n",
      "URL: https://m.blog.naver.com/alsemfsla88/223393802174\n",
      "img_src: ['https://search.pstatic.net/common/?src=http%3A%2F%2Fblogfiles.naver.net%2FMjAyNDAzMjRfMjkz%2FMDAxNzExMjc1Mzk4NDk1.Q3CcCiN7bsZ6QfF_LdQaocA5vmG9aS-zst6cxM_H7yIg.nfFoeUT4OeJ_2C1VEQRKQhVFu8YBdmXfcX83NaMkyskg.PNG%2F%25BE%25C6%25C0%25CC%25C6%25F916.png%23886x886&type=f238_208', 'https://search.pstatic.net/common/?src=http%3A%2F%2Fblogfiles.naver.net%2FMjAyNDAzMjRfMjMg%2FMDAxNzExMjc1OTQ2NzEx.Mf1KuAlr-MXevHGyP2BKl1bqHqzevKcvGkfD2Ja-uBUg.8AeBICcUjr5q5edghwG5dKQNrSAGMhlojXJTjSGmapsg.PNG%2F1.png%23605x489&type=f238_208', 'https://search.pstatic.net/common/?src=http%3A%2F%2Fblogfiles.naver.net%2FMjAyNDAzMjRfMTgw%2FMDAxNzExMjc2MjUwNDU3.UTgDEAuyx0tJrVs8CDb_HRx09SLproylFepls8DWHQsg.PlZ5nifU_nBHMczQk3pvKUZ7Vb4qG_vlfC6dH8eeT1sg.PNG%2F2.png%23693x423&type=f238_208', 'https://search.pstatic.net/common/?src=http%3A%2F%2Fblogfiles.naver.net%2FMjAyNDAzMjRfMTA1%2FMDAxNzExMjc2NTgzMDA3.tu16jiu-Y33UWbwY3H27u9c1rev626Gh4weOGUvFztQg.9NmEDXY8DOsGARNALOA_LKHrbRsr2hN_kel6pojCmWIg.PNG%2F4.png%23798x442&type=f238_208', 'https://search.pstatic.net/common/?src=http%3A%2F%2Fblogfiles.naver.net%2FMjAyNDAzMjRfMzcg%2FMDAxNzExMjc2OTk4NzEz.XdEWQT8cIrlUkmIOSzRgFSk-7_wSm77lfVHth3Bpf9Mg.xTLqcNdpFBOclZmdlk1QXhcl3fVY2dQOeqTkd_mQiSkg.PNG%2F3.png%23724x407&type=f238_208']\n",
      "--------------------------------------------------------------------------------------------------------------------------------------------------------------------------------------------------------\n"
     ]
    },
    {
     "name": "stderr",
     "output_type": "stream",
     "text": [
      "articles...:  33%|███▎      | 10/30 [00:24<00:45,  2.27s/it]"
     ]
    },
    {
     "name": "stdout",
     "output_type": "stream",
     "text": [
      "Title: 갤럭시 S24 가격 스펙 AI 기능 총정리\n",
      "URL: https://m.blog.naver.com/dreamdot/223389808904\n",
      "img_src: https://search.pstatic.net/common/?src=http%3A%2F%2Fimage.nmv.naver.net%2Fblog_2024_03_20_1879%2Fc630287f-e69e-11ee-b6d0-48df376ed084_01.jpg%23m&type=ff192_192\n",
      "--------------------------------------------------------------------------------------------------------------------------------------------------------------------------------------------------------\n"
     ]
    },
    {
     "name": "stderr",
     "output_type": "stream",
     "text": [
      "articles...:  37%|███▋      | 11/30 [00:27<00:45,  2.37s/it]"
     ]
    },
    {
     "name": "stdout",
     "output_type": "stream",
     "text": [
      "Title: 렌더토큰 시세 전망, 10x 갈 수 있는 AI 진짜 대장.\n",
      "URL: https://m.blog.naver.com/choose129/223394413061\n",
      "img_src: https://search.pstatic.net/common/?src=http%3A%2F%2Fblogfiles.naver.net%2FMjAyNDAzMjVfMTEz%2FMDAxNzExMzM0OTUwNjA1.mZP3BSu4zfh5S1mJ4H3noRlkWvi7QhiSSzqCeU9jkxog.HGYXCz3vmzAwpLZFkXjbfqR2FUaIOmj93PXACCOIul4g.PNG%2F%25C1%25A6%25B8%25F1%25C0%25BB_%25C0%25D4%25B7%25C2%25C7%25D8%25C1%25D6%25BC%25BC%25BF%25E4_-001_%252886%2529.png%231080x1080&type=ff192_192\n",
      "--------------------------------------------------------------------------------------------------------------------------------------------------------------------------------------------------------\n"
     ]
    },
    {
     "name": "stderr",
     "output_type": "stream",
     "text": [
      "articles...:  40%|████      | 12/30 [00:29<00:43,  2.39s/it]"
     ]
    },
    {
     "name": "stdout",
     "output_type": "stream",
     "text": [
      "Title: 화상 영어교육 서비스는 살아남을 수 있을까? (사람과 AI)\n",
      "URL: https://m.blog.naver.com/choiinwook/223393476601\n",
      "img_src: https://search.pstatic.net/common/?src=http%3A%2F%2Fblogfiles.naver.net%2FMjAyNDAzMjRfMjYy%2FMDAxNzExMjQ5MzE2OTUy.0xe7hjl6WSXD9QFDyoOXfMj_EbadYXwjxzy66lmz_6sg.nEwlIyXgHGSHA8bDrXxjqGIqiY_XdyQE3ztz_QPrIm8g.JPEG%2F1711249302299.jpg%23711x324&type=ff192_192\n",
      "--------------------------------------------------------------------------------------------------------------------------------------------------------------------------------------------------------\n"
     ]
    },
    {
     "name": "stderr",
     "output_type": "stream",
     "text": [
      "articles...:  43%|████▎     | 13/30 [00:31<00:40,  2.38s/it]"
     ]
    },
    {
     "name": "stdout",
     "output_type": "stream",
     "text": [
      "Title: 아이폰16 출시일 생성형 AI기능 적용되고 울트라 모델은 없을듯\n",
      "URL: https://m.blog.naver.com/neces2/223393099823\n",
      "img_src: https://search.pstatic.net/common/?src=http%3A%2F%2Fblogfiles.naver.net%2FMjAyNDAzMjNfMjQy%2FMDAxNzExMTk5MTEyMDcy.3wUAVJnGiNnk79IANP1T4zZacYDD5QZ7yLcQ5LerNtIg.yB3eDi1Fih62a69c9VnXWG-LBd-N7pxdcP4eM6VQwNwg.JPEG%2FDSC09843.jpg%231400x933&type=ff192_192\n",
      "--------------------------------------------------------------------------------------------------------------------------------------------------------------------------------------------------------\n"
     ]
    },
    {
     "name": "stderr",
     "output_type": "stream",
     "text": [
      "articles...:  47%|████▋     | 14/30 [00:34<00:36,  2.30s/it]"
     ]
    },
    {
     "name": "stdout",
     "output_type": "stream",
     "text": [
      "Title: 스픽새로 발견한 AI 프리톡 기능 | 프리톡 쉽게 하는 순서| 스픽 가격 | 스픽 내돈 내산 |\n",
      "URL: https://m.blog.naver.com/hjy7777/223394252721\n",
      "img_src: https://search.pstatic.net/common/?src=http%3A%2F%2Fblogfiles.naver.net%2FMjAyNDAzMjVfMTIg%2FMDAxNzExMzI1MzcyMDgy.Yt0syUy8wsCWoeS7A2-QjCTmNnvoxPNZwzzziYWKLsgg.y1WDbz1SHGbyfK3e3k6iJBMlUficMkVWhRKX8I00arog.PNG%2F%25BF%25F8%25C1%25BE%25B5%25BF_%252898%2529.png%231080x1080&type=ff192_192\n",
      "--------------------------------------------------------------------------------------------------------------------------------------------------------------------------------------------------------\n"
     ]
    },
    {
     "name": "stderr",
     "output_type": "stream",
     "text": [
      "articles...:  50%|█████     | 15/30 [00:36<00:34,  2.28s/it]"
     ]
    },
    {
     "name": "stdout",
     "output_type": "stream",
     "text": [
      "Title: AI 기능을 강화하고 차별화된 편의 기능을 대거 탑재한 ‘비스포크 냉장고’ 신제품 출시\n",
      "URL: https://m.blog.naver.com/samsung_store/223394350030\n",
      "img_src: https://search.pstatic.net/common/?src=http%3A%2F%2Fblogfiles.naver.net%2FMjAyNDAzMjVfMTQ2%2FMDAxNzExMzMxNTYwMzg4.blaSjZ6orI92kxLN1eN1mUI8pkZ2UyRos2JgLaKth9Ag.sr2G4cHLXJ4UyTpUe3rjahFHeOiLI2_PN39PWUDc7QQg.PNG%2F01.png%231080x1080&type=ff192_192\n",
      "--------------------------------------------------------------------------------------------------------------------------------------------------------------------------------------------------------\n"
     ]
    },
    {
     "name": "stderr",
     "output_type": "stream",
     "text": [
      "articles...:  53%|█████▎    | 16/30 [00:38<00:30,  2.19s/it]"
     ]
    },
    {
     "name": "stdout",
     "output_type": "stream",
     "text": [
      "Title: “AI로 차별화된 쾌적한 바람” 간편하게 열어 관리하는 LG 휘센 뷰 에어컨 출시\n",
      "URL: https://m.blog.naver.com/kbcforever79/223394263964\n",
      "img_src: https://search.pstatic.net/common/?src=http%3A%2F%2Fblogfiles.naver.net%2FMjAyNDAzMjVfMTk4%2FMDAxNzExMzI2MjcxMzgy.rKsxfsQJQ5v-LP_V2DrYIXVvRkObLPrJIsXqyalSqxwg.58Hm2-biTJr5e7SZnnDBv8oNKsZlG6Apn0tAj9vJlHEg.JPEG%2F1lg-13.jpg%23840x630&type=ff192_192\n",
      "--------------------------------------------------------------------------------------------------------------------------------------------------------------------------------------------------------\n"
     ]
    },
    {
     "name": "stderr",
     "output_type": "stream",
     "text": [
      "articles...:  57%|█████▋    | 17/30 [00:39<00:26,  2.03s/it]"
     ]
    },
    {
     "name": "stdout",
     "output_type": "stream",
     "text": [
      "Title: 대동-KT, AI기반 농업기술 혁신 및 로봇사업 협력 추진\n",
      "URL: https://m.blog.naver.com/kips1214/223394505564\n",
      "img_src: https://search.pstatic.net/common/?src=http%3A%2F%2Fblogfiles.naver.net%2FMjAyNDAzMjVfMjI3%2FMDAxNzExMzQwMDkyNjIw.3W_DmVsGx-7FzcheZb2KGmWheyvJ3IHpUMesarVJB8Qg.UFRbH5rXaImDeuYE__oag9e-hv62h3R2RXxjyODK6Qsg.PNG%2F34382_73190_5613.png%23600x337&type=ff192_192\n",
      "--------------------------------------------------------------------------------------------------------------------------------------------------------------------------------------------------------\n"
     ]
    },
    {
     "name": "stderr",
     "output_type": "stream",
     "text": [
      "articles...:  60%|██████    | 18/30 [00:41<00:24,  2.01s/it]"
     ]
    },
    {
     "name": "stdout",
     "output_type": "stream",
     "text": [
      "Title: 알리바바의 EMO 기술 소개 - 사진으로 다양한 감정을 표현하는 AI 영상 생성\n",
      "URL: https://m.blog.naver.com/gptfrontier/223394009329\n",
      "img_src: https://search.pstatic.net/common/?src=http%3A%2F%2Fblogfiles.naver.net%2FMjAyNDAzMjRfMjA5%2FMDAxNzExMjkxMDgxOTc5.iahCJD3KDpYa9yuyaqS4gO-XajOdEsWIVb2cHZnv4kog.EPvNwLUIVdnCamo-RyAEdQPfMiu4UeA0qyW9tGKaSIIg.PNG%2F%25C8%25A8%25C6%25E4%25C0%25CC%25C1%25F6%25C7%25FC_%25BA%25ED%25B7%25CE%25B1%25D7_%25B8%25B8%25B5%25E9%25B1%25E2_%25289%2529.png%231080x1080&type=ff192_192\n",
      "--------------------------------------------------------------------------------------------------------------------------------------------------------------------------------------------------------\n"
     ]
    },
    {
     "name": "stderr",
     "output_type": "stream",
     "text": [
      "articles...:  63%|██████▎   | 19/30 [00:44<00:23,  2.11s/it]"
     ]
    },
    {
     "name": "stdout",
     "output_type": "stream",
     "text": [
      "Title: 소수몽키라이브 240324, 애플의 몰락일까 / 버블 허락하겠다는 연준 / AI시대 주식들 / 미국 가계 주식...\n",
      "URL: https://m.blog.naver.com/chagokx2/223393964610\n",
      "img_src: https://search.pstatic.net/common/?src=http%3A%2F%2Fblogfiles.naver.net%2FMjAyNDAzMjRfNDYg%2FMDAxNzExMjgzMTQxNzUw.jqYfbbTSV3EeXuf9UlOPfafF9iuGbKTp-zsdv5I1778g.zfa1ppr9xdE51WoDXLo378VwNC-RjBJxmJn9zdLXwG8g.PNG%2Fimage.png%231117x725&type=ff192_192\n",
      "--------------------------------------------------------------------------------------------------------------------------------------------------------------------------------------------------------\n"
     ]
    },
    {
     "name": "stderr",
     "output_type": "stream",
     "text": [
      "articles...:  67%|██████▋   | 20/30 [00:46<00:21,  2.16s/it]"
     ]
    },
    {
     "name": "stdout",
     "output_type": "stream",
     "text": [
      "Title: AI투자 플랫폼 핀트(fint)랑 티키타카 라이브\n",
      "URL: https://m.blog.naver.com/panix13/223393569744\n",
      "img_src: https://search.pstatic.net/common/?src=http%3A%2F%2Fblogfiles.naver.net%2FMjAyNDAzMjRfMTEz%2FMDAxNzExMjUwNzk5ODU4.wh8e-hfgey2_xcZWrmfr6aMLJvLBECthEzvmQ9-58a8g.Wx6GeIMaBUT1AQWIbSto0qzs2cr_R3nCzOp7t-IVB7og.PNG%2Fimage.png%231092x688&type=ff192_192\n",
      "--------------------------------------------------------------------------------------------------------------------------------------------------------------------------------------------------------\n"
     ]
    },
    {
     "name": "stderr",
     "output_type": "stream",
     "text": [
      "articles...:  70%|███████   | 21/30 [00:48<00:19,  2.12s/it]"
     ]
    },
    {
     "name": "stdout",
     "output_type": "stream",
     "text": [
      "Title: 칼로 AI프로필 이미지생성으로 여자 배구 기다리는 현명한 자세!\n",
      "URL: https://m.blog.naver.com/bijoubitna/223394338344\n",
      "img_src: https://search.pstatic.net/common/?src=http%3A%2F%2Fblogfiles.naver.net%2FMjAyNDAzMjJfMSAg%2FMDAxNzExMDk2OTczNDA3.tI1lK4uL6jYCKJVDtBzFOxCtrIAhBDB_JZ4xAeZWGScg.18Gw5n8kUjxGhy2dMa1S9BHqSVdYbaaTxU32LVhWELwg.PNG%2FIMG_3108.PNG%231024x1536&type=ff192_192\n",
      "--------------------------------------------------------------------------------------------------------------------------------------------------------------------------------------------------------\n"
     ]
    },
    {
     "name": "stderr",
     "output_type": "stream",
     "text": [
      "articles...:  73%|███████▎  | 22/30 [00:51<00:17,  2.23s/it]"
     ]
    },
    {
     "name": "stdout",
     "output_type": "stream",
     "text": [
      "Title: [200] Hey, 파이썬! 생성형 AI 활용 앱 만들어 줘 - 김한호 , 최태온 , 윤택한 지음 ㅣ성안당\n",
      "URL: https://m.blog.naver.com/aqua317/223393507443\n",
      "img_src: https://search.pstatic.net/common/?src=http%3A%2F%2Fblogfiles.naver.net%2FMjAyNDAzMTNfNDcg%2FMDAxNzEwMjY1NDI3MDA1.60PmrdV4Ik1WU1cnrDDVvvdAECksL-I3UgQWFp_JD6kg.tds92tC4KiDly3g9n3nzIhZ93HODTN95bokrtU2--tEg.JPEG%2F%25BD%25BA%25C5%25A9%25B8%25B0%25BC%25A6_2024-03-13_%25BF%25C0%25C0%25FC_2.43.10.jpg%23400x505&type=ff192_192\n",
      "--------------------------------------------------------------------------------------------------------------------------------------------------------------------------------------------------------\n"
     ]
    },
    {
     "name": "stderr",
     "output_type": "stream",
     "text": [
      "articles...:  77%|███████▋  | 23/30 [00:52<00:14,  2.06s/it]"
     ]
    },
    {
     "name": "stdout",
     "output_type": "stream",
     "text": [
      "Title: [박근형 데일리힌트] 24.03.21 AI 산업 성장에 따른 전력 부족 분석에 전력기기 상승\n",
      "URL: https://m.blog.naver.com/beetle2022/223393193840\n",
      "img_src: None\n",
      "--------------------------------------------------------------------------------------------------------------------------------------------------------------------------------------------------------\n"
     ]
    },
    {
     "name": "stderr",
     "output_type": "stream",
     "text": [
      "articles...:  80%|████████  | 24/30 [00:54<00:12,  2.12s/it]"
     ]
    },
    {
     "name": "stdout",
     "output_type": "stream",
     "text": [
      "Title: 레이블코인 시세 전망, AI 섹터에 묻을까?\n",
      "URL: https://m.blog.naver.com/choose129/223393482159\n",
      "img_src: https://search.pstatic.net/common/?src=http%3A%2F%2Fblogfiles.naver.net%2FMjAyNDAzMjRfMjMw%2FMDAxNzExMjQ5ODQyMzMx.DnijSWDZAh8PaQ10bvoogA2zIkI-OIdR11XCAruzLssg.DlBF1x9NMAGYhgnl6bYYK6kLFxZZdRzpFSGc15Uyh3Eg.PNG%2F%25C1%25A6%25B8%25F1%25C0%25BB_%25C0%25D4%25B7%25C2%25C7%25D8%25C1%25D6%25BC%25BC%25BF%25E4_-001_%252884%2529.png%231080x1080&type=ff192_192\n",
      "--------------------------------------------------------------------------------------------------------------------------------------------------------------------------------------------------------\n"
     ]
    },
    {
     "name": "stderr",
     "output_type": "stream",
     "text": [
      "articles...:  83%|████████▎ | 25/30 [00:56<00:09,  1.97s/it]"
     ]
    },
    {
     "name": "stdout",
     "output_type": "stream",
     "text": [
      "Title: AI로 영상/비디오 뚝딱 만들기 최강자 - 브류(Vrew)\n",
      "URL: https://m.blog.naver.com/cslmoondal/223393636037\n",
      "img_src: https://search.pstatic.net/common/?src=http%3A%2F%2Fblogfiles.naver.net%2FMjAyNDAzMjRfMjY3%2FMDAxNzExMjYzNjA4MDYx.H7maGmZonEfbb0AvYj2eKV2LBiFTgRqcV0iQmp49t_og.5diFJqRFGFnMOoBWw9a3K1GC8_gKU4DT3rIPoHu20dYg.PNG%2FVrew.png%231080x1080&type=ff192_192\n",
      "--------------------------------------------------------------------------------------------------------------------------------------------------------------------------------------------------------\n"
     ]
    },
    {
     "name": "stderr",
     "output_type": "stream",
     "text": [
      "articles...:  87%|████████▋ | 26/30 [00:58<00:07,  1.91s/it]"
     ]
    },
    {
     "name": "stdout",
     "output_type": "stream",
     "text": [
      "Title: [서평]파이썬! 생성형 AI 활용 앱 만들어 줘\n",
      "URL: https://m.blog.naver.com/hjmjkklll/223393537252\n",
      "img_src: https://search.pstatic.net/common/?src=http%3A%2F%2Fblogfiles.naver.net%2FMjAyNDAzMjRfMjEy%2FMDAxNzExMjUzNTQ4Mzc3.CLjdxNF4zoPTeXdJtqZJicWHa97EK0IS2duKBhD6ubcg.Xn-LM6vAubQTi0FElECGR-jOfU2Xm4TaRBj6H1nJgHQg.JPEG%2F20240323_180652.jpg%231000x750&type=ff192_192\n",
      "--------------------------------------------------------------------------------------------------------------------------------------------------------------------------------------------------------\n"
     ]
    },
    {
     "name": "stderr",
     "output_type": "stream",
     "text": [
      "articles...:  90%|█████████ | 27/30 [01:00<00:06,  2.03s/it]"
     ]
    },
    {
     "name": "stdout",
     "output_type": "stream",
     "text": [
      "Title: AI 발달로 데이터 전력 수요 증가, 제룡·일진전기 실적·수주 높아졌다\n",
      "URL: https://m.blog.naver.com/iamlove-/223394381277\n",
      "img_src: https://search.pstatic.net/common/?src=http%3A%2F%2Fblogfiles.naver.net%2FMjAyNDAzMjVfMTg2%2FMDAxNzExMzMyNDExODgw.tHkSRSSuupJXfmefYpL-fVtzVXqYMCHkf0VWIj-0nh0g.kbAaZ3rueOQ390dkAEkeWaTzSeuM8m2QpdhL4x-fQaog.JPEG%2F182437_157352_56.jpg%23600x371&type=ff192_192\n",
      "--------------------------------------------------------------------------------------------------------------------------------------------------------------------------------------------------------\n"
     ]
    },
    {
     "name": "stderr",
     "output_type": "stream",
     "text": [
      "articles...:  93%|█████████▎| 28/30 [01:02<00:04,  2.03s/it]"
     ]
    },
    {
     "name": "stdout",
     "output_type": "stream",
     "text": [
      "Title: 영어 중국어 공부 AI 리딩톡 하나면 영어사전 번역기 준비 끝\n",
      "URL: https://m.blog.naver.com/dbswndus84/223393912123\n",
      "img_src: https://search.pstatic.net/common/?src=http%3A%2F%2Fblogfiles.naver.net%2FMjAyNDAzMjRfMTMw%2FMDAxNzExMjcxNTU2ODI2.Q8LwMgy7FzH6hDuk6Bx6HqiXOi52CWo_TLFaD2xMcGAg.hxjPcctSEN2XQmjRZN48anDdIM88dTGtEczSvEXwQN4g.PNG%2F%25C1%25A6%25B8%25F1%25C0%25BB-%25C0%25D4%25B7%25C2%25C7%25D8%25C1%25D6%25BC%25BC%25BF%25E4_-001.png%231080x1080&type=ff192_192\n",
      "--------------------------------------------------------------------------------------------------------------------------------------------------------------------------------------------------------\n"
     ]
    },
    {
     "name": "stderr",
     "output_type": "stream",
     "text": [
      "articles...:  97%|█████████▋| 29/30 [01:04<00:02,  2.09s/it]"
     ]
    },
    {
     "name": "stdout",
     "output_type": "stream",
     "text": [
      "Title: 오늘 이슈 <AI 서비스 발전으로 SaaS와 클라우드 시장이 급 팽장 중이다 >\n",
      "URL: https://m.blog.naver.com/jangannet/223393402739\n",
      "img_src: https://search.pstatic.net/common/?src=http%3A%2F%2Fblogfiles.naver.net%2FMjAyNDAzMjRfMjAg%2FMDAxNzExMjQxODU1NDA1.WSgUPdhNOA2VtW3X_Cw12STZt2bRSkrdOoyQ4OtECgQg.IeR4zaC8uKs6B4_GVVHvYnTqtzAYY4tXHOjQNf2Z9GAg.PNG%2Fimg-0wPZEDefu0pQ8t3jVwBYQM7Z.png%231024x1024&type=ff192_192\n",
      "--------------------------------------------------------------------------------------------------------------------------------------------------------------------------------------------------------\n"
     ]
    },
    {
     "name": "stderr",
     "output_type": "stream",
     "text": [
      "articles...: 100%|██████████| 30/30 [01:06<00:00,  2.23s/it]"
     ]
    },
    {
     "name": "stdout",
     "output_type": "stream",
     "text": [
      "                                                title  \\\n",
      "0                      AI투자 핀트 미국주식 소액투자 하는법 및 이벤트 소식   \n",
      "1   3월 3주차 ) FOMC 결과로 빅테크 상승, 달러강세전환과 엔화약세, 삼성전자 8...   \n",
      "2                    미국주식 한국주식 AI 간편 투자 플랫폼, 핀트에서 해볼까   \n",
      "3                  포토샵 AI 생성형 자동 채우기 방법 | 선택영역 배경 늘리기   \n",
      "4                  AI프로필 제작 캐럿으로 나만의 인공지능 사진 및 그림 만들기   \n",
      "5         투자사기 공범으로 체포, 경찰조사를 앞두고 있다면 - AI 투자, 리딩방 사기   \n",
      "6                       삼성 비스포크 AI 콤보 에어살균/탈취 기능 사용후기   \n",
      "7                엔비디아 GTC 2024 통해 보는 주가 전망, AI칩 로봇 공개   \n",
      "8                   유튜브뮤직 구글홈 미니 네스트 AI 스피커 연결 후 음악듣기   \n",
      "9                          아이폰16 출시일 디자인 생성형 AI 탑재되나?   \n",
      "10                            갤럭시 S24 가격 스펙 AI 기능 총정리   \n",
      "11                   렌더토큰 시세 전망, 10x 갈 수 있는 AI 진짜 대장.   \n",
      "12                  화상 영어교육 서비스는 살아남을 수 있을까? (사람과 AI)   \n",
      "13                아이폰16 출시일 생성형 AI기능 적용되고 울트라 모델은 없을듯   \n",
      "14  스픽새로 발견한 AI 프리톡 기능 | 프리톡 쉽게 하는 순서| 스픽 가격 | 스픽 ...   \n",
      "15   AI 기능을 강화하고 차별화된 편의 기능을 대거 탑재한 ‘비스포크 냉장고’ 신제품 출시   \n",
      "16      “AI로 차별화된 쾌적한 바람” 간편하게 열어 관리하는 LG 휘센 뷰 에어컨 출시   \n",
      "17                   대동-KT, AI기반 농업기술 혁신 및 로봇사업 협력 추진   \n",
      "18       알리바바의 EMO 기술 소개 - 사진으로 다양한 감정을 표현하는 AI 영상 생성   \n",
      "19  소수몽키라이브 240324, 애플의 몰락일까 / 버블 허락하겠다는 연준 / AI시대...   \n",
      "20                        AI투자 플랫폼 핀트(fint)랑 티키타카 라이브   \n",
      "21                칼로 AI프로필 이미지생성으로 여자 배구 기다리는 현명한 자세!   \n",
      "22  [200] Hey, 파이썬! 생성형 AI 활용 앱 만들어 줘 - 김한호 , 최태온 ...   \n",
      "23  [박근형 데일리힌트] 24.03.21 AI 산업 성장에 따른 전력 부족 분석에 전력...   \n",
      "24                           레이블코인 시세 전망, AI 섹터에 묻을까?   \n",
      "25                   AI로 영상/비디오 뚝딱 만들기 최강자 - 브류(Vrew)   \n",
      "26                         [서평]파이썬! 생성형 AI 활용 앱 만들어 줘   \n",
      "27            AI 발달로 데이터 전력 수요 증가, 제룡·일진전기 실적·수주 높아졌다   \n",
      "28                 영어 중국어 공부 AI 리딩톡 하나면 영어사전 번역기 준비 끝   \n",
      "29       오늘 이슈 <AI 서비스 발전으로 SaaS와 클라우드 시장이 급 팽장 중이다 >   \n",
      "\n",
      "                                                  url  \\\n",
      "0     https://m.blog.naver.com/kimgr1010/223394424045   \n",
      "1        https://m.blog.naver.com/mayo51/223393808284   \n",
      "2     https://m.blog.naver.com/ekdud0706/223394424153   \n",
      "3        https://m.blog.naver.com/khooin/223394585584   \n",
      "4       https://m.blog.naver.com/bk32167/223387622181   \n",
      "5         https://m.blog.naver.com/bswsz/223393812733   \n",
      "6       https://m.blog.naver.com/s87boyo/223391183584   \n",
      "7     https://m.blog.naver.com/tksth0414/223393622913   \n",
      "8   https://m.blog.naver.com/playmyworld/223393695567   \n",
      "9   https://m.blog.naver.com/alsemfsla88/223393802174   \n",
      "10     https://m.blog.naver.com/dreamdot/223389808904   \n",
      "11    https://m.blog.naver.com/choose129/223394413061   \n",
      "12   https://m.blog.naver.com/choiinwook/223393476601   \n",
      "13       https://m.blog.naver.com/neces2/223393099823   \n",
      "14      https://m.blog.naver.com/hjy7777/223394252721   \n",
      "15  https://m.blog.naver.com/samsung_store/2233943...   \n",
      "16  https://m.blog.naver.com/kbcforever79/22339426...   \n",
      "17     https://m.blog.naver.com/kips1214/223394505564   \n",
      "18  https://m.blog.naver.com/gptfrontier/223394009329   \n",
      "19     https://m.blog.naver.com/chagokx2/223393964610   \n",
      "20      https://m.blog.naver.com/panix13/223393569744   \n",
      "21   https://m.blog.naver.com/bijoubitna/223394338344   \n",
      "22      https://m.blog.naver.com/aqua317/223393507443   \n",
      "23   https://m.blog.naver.com/beetle2022/223393193840   \n",
      "24    https://m.blog.naver.com/choose129/223393482159   \n",
      "25   https://m.blog.naver.com/cslmoondal/223393636037   \n",
      "26    https://m.blog.naver.com/hjmjkklll/223393537252   \n",
      "27     https://m.blog.naver.com/iamlove-/223394381277   \n",
      "28   https://m.blog.naver.com/dbswndus84/223393912123   \n",
      "29    https://m.blog.naver.com/jangannet/223393402739   \n",
      "\n",
      "                                               images  \n",
      "0   [https://search.pstatic.net/common/?src=http%3...  \n",
      "1   [https://search.pstatic.net/common/?src=http%3...  \n",
      "2   [https://search.pstatic.net/common/?src=http%3...  \n",
      "3   [https://search.pstatic.net/common/?src=http%3...  \n",
      "4   [https://search.pstatic.net/common/?src=http%3...  \n",
      "5   https://search.pstatic.net/common/?src=http%3A...  \n",
      "6   [https://search.pstatic.net/common/?src=http%3...  \n",
      "7   [https://search.pstatic.net/common/?src=http%3...  \n",
      "8   [https://search.pstatic.net/common/?src=http%3...  \n",
      "9   [https://search.pstatic.net/common/?src=http%3...  \n",
      "10  https://search.pstatic.net/common/?src=http%3A...  \n",
      "11  https://search.pstatic.net/common/?src=http%3A...  \n",
      "12  https://search.pstatic.net/common/?src=http%3A...  \n",
      "13  https://search.pstatic.net/common/?src=http%3A...  \n",
      "14  https://search.pstatic.net/common/?src=http%3A...  \n",
      "15  https://search.pstatic.net/common/?src=http%3A...  \n",
      "16  https://search.pstatic.net/common/?src=http%3A...  \n",
      "17  https://search.pstatic.net/common/?src=http%3A...  \n",
      "18  https://search.pstatic.net/common/?src=http%3A...  \n",
      "19  https://search.pstatic.net/common/?src=http%3A...  \n",
      "20  https://search.pstatic.net/common/?src=http%3A...  \n",
      "21  https://search.pstatic.net/common/?src=http%3A...  \n",
      "22  https://search.pstatic.net/common/?src=http%3A...  \n",
      "23                                               None  \n",
      "24  https://search.pstatic.net/common/?src=http%3A...  \n",
      "25  https://search.pstatic.net/common/?src=http%3A...  \n",
      "26  https://search.pstatic.net/common/?src=http%3A...  \n",
      "27  https://search.pstatic.net/common/?src=http%3A...  \n",
      "28  https://search.pstatic.net/common/?src=http%3A...  \n",
      "29  https://search.pstatic.net/common/?src=http%3A...  \n"
     ]
    },
    {
     "name": "stderr",
     "output_type": "stream",
     "text": [
      "\n"
     ]
    }
   ],
   "source": [
    "driver = setWebdriver()\n",
    "\n",
    "query = input(\"검색어를 입력하세요: \") # 검색어 입력\n",
    "start_date = re.sub(r'[^0-9]', '', input(\"시작 날짜를 yyyy.mm.dd 형식으로 입력하세요: \")) # 시작 날짜(정규식을 이용하여 숫자만 추출)\n",
    "end_date = re.sub(r'[^0-9]', '', input(\"종료 날짜를 yyyy.mm.dd 형식으로 입력하세요: \"))    # 종료 날짜(정규식을 이용하여 숫자만 추출)\n",
    "\n",
    "url = f'https://search.naver.com/search.naver?ssc=tab.blog.all&query={query}&sm=tab_opt&nso=so%3Ar%2Cp%3Afrom{start_date}to{end_date}'\n",
    "driver.get(url)\n",
    "\n",
    "tit_list = []\n",
    "url_list = []\n",
    "img_list = []\n",
    "\n",
    "# 블로그 글 element 수집\n",
    "articles = driver.find_elements(By.CLASS_NAME, \"detail_box\")\n",
    "print(articles)\n",
    "\n",
    "for article in tqdm(articles, desc=\"articles...\"):    \n",
    "    try:\n",
    "        # title\n",
    "        title = article.find_element(By.CLASS_NAME, \"title_link\").text;      tit_list.append(title);       print(f'Title: {title}')\n",
    "        # url\n",
    "        url = article.find_element(By.CLASS_NAME, \"title_link\");\n",
    "        url = url.get_attribute(\"href\")\n",
    "        url_list.append(url);           print(f'URL: {url}')\n",
    "        # image\n",
    "        imgSrc_list = []\n",
    "        try:   \n",
    "            img_boxes = article.find_elements(By.CLASS_NAME, \"thumb_item\");         #print(f'img_boxes: {img_boxes}')\n",
    "            if (img_boxes): # 여러개일 경우\n",
    "                for img_box in img_boxes:\n",
    "                    img_element = img_box.find_element(By.TAG_NAME, \"img\")\n",
    "                    img_src = img_element.get_attribute(\"src\");                      \n",
    "                    imgSrc_list.append(img_src);    #print(f'img_src: {img_src}')\n",
    "                img_list.append(imgSrc_list)\n",
    "            else:   # 한 개일 경우\n",
    "                img = article.find_element(By.CLASS_NAME, \"img\")\n",
    "                img_src = img.get_attribute(\"src\");\n",
    "                img_list.append(img_src)\n",
    "        except: # 이미지가 없을 경우\n",
    "            img_list.append(None)\n",
    "        print(f'img_src: {img_list[-1]}')\n",
    "    except:\n",
    "        break\n",
    "\n",
    "    print('-'*200)\n",
    "    time.sleep(rd.uniform(1.5, 2.5))\n",
    "\n",
    "df = pd.DataFrame({\n",
    "    \"title\": tit_list,\n",
    "    \"url\": url_list,\n",
    "    \"images\": img_list\n",
    "})\n",
    "print(df)"
   ]
  }
 ],
 "metadata": {
  "language_info": {
   "name": "python"
  }
 },
 "nbformat": 4,
 "nbformat_minor": 2
}
